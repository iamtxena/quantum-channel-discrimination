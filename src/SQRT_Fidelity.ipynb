{
 "cells": [
  {
   "cell_type": "code",
   "execution_count": 2,
   "id": "standing-studio",
   "metadata": {},
   "outputs": [
    {
     "ename": "ModuleNotFoundError",
     "evalue": "No module named 'qutip'",
     "output_type": "error",
     "traceback": [
      "\u001b[0;31m---------------------------------------------------------------------------\u001b[0m",
      "\u001b[0;31mModuleNotFoundError\u001b[0m                       Traceback (most recent call last)",
      "\u001b[0;32m<ipython-input-2-01061274f7f1>\u001b[0m in \u001b[0;36m<module>\u001b[0;34m\u001b[0m\n\u001b[1;32m      6\u001b[0m \u001b[0;32mfrom\u001b[0m \u001b[0mscipy\u001b[0m \u001b[0;32mimport\u001b[0m \u001b[0mlinalg\u001b[0m \u001b[0;32mas\u001b[0m \u001b[0mla\u001b[0m\u001b[0;34m\u001b[0m\u001b[0;34m\u001b[0m\u001b[0m\n\u001b[1;32m      7\u001b[0m \u001b[0;32mimport\u001b[0m \u001b[0mscipy\u001b[0m\u001b[0;34m.\u001b[0m\u001b[0msparse\u001b[0m \u001b[0;32mas\u001b[0m \u001b[0msp\u001b[0m\u001b[0;34m\u001b[0m\u001b[0;34m\u001b[0m\u001b[0m\n\u001b[0;32m----> 8\u001b[0;31m \u001b[0;32mfrom\u001b[0m \u001b[0mqutip\u001b[0m\u001b[0;34m.\u001b[0m\u001b[0msparse\u001b[0m \u001b[0;32mimport\u001b[0m \u001b[0msp_eigs\u001b[0m\u001b[0;34m\u001b[0m\u001b[0;34m\u001b[0m\u001b[0m\n\u001b[0m\u001b[1;32m      9\u001b[0m \u001b[0;32mfrom\u001b[0m \u001b[0mqutip\u001b[0m\u001b[0;34m.\u001b[0m\u001b[0mstates\u001b[0m \u001b[0;32mimport\u001b[0m \u001b[0mket2dm\u001b[0m\u001b[0;34m\u001b[0m\u001b[0;34m\u001b[0m\u001b[0m\n\u001b[1;32m     10\u001b[0m \u001b[0;32mfrom\u001b[0m \u001b[0mqutip\u001b[0m\u001b[0;34m.\u001b[0m\u001b[0msuperop_reps\u001b[0m \u001b[0;32mimport\u001b[0m \u001b[0mto_kraus\u001b[0m\u001b[0;34m,\u001b[0m \u001b[0mto_stinespring\u001b[0m\u001b[0;34m,\u001b[0m \u001b[0mto_choi\u001b[0m\u001b[0;34m,\u001b[0m \u001b[0m_super_to_superpauli\u001b[0m\u001b[0;34m,\u001b[0m \u001b[0mto_super\u001b[0m\u001b[0;34m\u001b[0m\u001b[0;34m\u001b[0m\u001b[0m\n",
      "\u001b[0;31mModuleNotFoundError\u001b[0m: No module named 'qutip'"
     ]
    }
   ],
   "source": [
    "__all__ = ['fidelity', 'tracedist', 'bures_dist', 'bures_angle',\n",
    "           'hellinger_dist', 'hilbert_dist', 'average_gate_fidelity',\n",
    "           'process_fidelity', 'unitarity', 'dnorm']\n",
    "\n",
    "import numpy as np\n",
    "from scipy import linalg as la\n",
    "import scipy.sparse as sp\n",
    "from qutip.sparse import sp_eigs\n",
    "from qutip.states import ket2dm\n",
    "from qutip.superop_reps import to_kraus, to_stinespring, to_choi, _super_to_superpauli, to_super\n",
    "from qutip.superoperator import operator_to_vector, vector_to_operator\n",
    "from qutip.operators import qeye\n",
    "from qutip.semidefinite import dnorm_problem, dnorm_sparse_problem\n",
    "import qutip.settings as settings\n",
    "\n",
    "import qutip.logging_utils as logging\n",
    "logger = logging.get_logger()\n",
    "\n",
    "try:\n",
    "    import cvxpy\n",
    "except ImportError:\n",
    "    cvxpy = None"
   ]
  },
  {
   "cell_type": "code",
   "execution_count": 3,
   "id": "median-situation",
   "metadata": {},
   "outputs": [],
   "source": [
    "def fidelity(A, B):\n",
    "    \"\"\"\n",
    "    Calculates the fidelity (pseudo-metric) between two density matrices.\n",
    "    See: Nielsen & Chuang, \"Quantum Computation and Quantum Information\" p.409\n",
    "\n",
    "    Parameters\n",
    "    ----------\n",
    "    A : qobj\n",
    "        Density matrix or state vector.\n",
    "    B : qobj\n",
    "        Density matrix or state vector with same dimensions as A.\n",
    "\n",
    "    Returns\n",
    "    -------\n",
    "    fid : float\n",
    "        Fidelity pseudo-metric between A and B.\n",
    "\n",
    "    Examples\n",
    "    --------\n",
    "    >>> x = fock_dm(5,3)\n",
    "    >>> y = coherent_dm(5,1)\n",
    "    >>> np.testing.assert_almost_equal(fidelity(x,y), 0.24104350624628332)\n",
    "    \"\"\"\n",
    "    if A.isket or A.isbra:\n",
    "        # Take advantage of the fact that the density operator for A\n",
    "        # is a projector to avoid a sqrtm call.\n",
    "        sqrtmA = ket2dm(A)\n",
    "        # Check whether we have to turn B into a density operator, too.\n",
    "        if B.isket or B.isbra:\n",
    "            B = ket2dm(B)\n",
    "    else:\n",
    "        if B.isket or B.isbra:\n",
    "            # Swap the order so that we can take a more numerically\n",
    "            # stable square root of B.\n",
    "            return fidelity(B, A)\n",
    "        # If we made it here, both A and B are operators, so\n",
    "        # we have to take the sqrtm of one of them.\n",
    "        sqrtmA = A.sqrtm()\n",
    "\n",
    "    if sqrtmA.dims != B.dims:\n",
    "        raise TypeError('Density matrices do not have same dimensions.')\n",
    "\n",
    "    # We don't actually need the whole matrix here, just the trace\n",
    "    # of its square root, so let's just get its eigenenergies instead.\n",
    "    # We also truncate negative eigenvalues to avoid nan propagation;\n",
    "    # even for positive semidefinite matrices, small negative eigenvalues\n",
    "    # can be reported.\n",
    "    eig_vals = (sqrtmA * B * sqrtmA).eigenenergies()\n",
    "    return float(np.real(np.sqrt(eig_vals[eig_vals > 0]).sum()))"
   ]
  },
  {
   "cell_type": "code",
   "execution_count": null,
   "id": "corrected-fundamental",
   "metadata": {},
   "outputs": [],
   "source": []
  }
 ],
 "metadata": {
  "kernelspec": {
   "display_name": "Python 3",
   "language": "python",
   "name": "python3"
  },
  "language_info": {
   "codemirror_mode": {
    "name": "ipython",
    "version": 3
   },
   "file_extension": ".py",
   "mimetype": "text/x-python",
   "name": "python",
   "nbconvert_exporter": "python",
   "pygments_lexer": "ipython3",
   "version": "3.9.2"
  }
 },
 "nbformat": 4,
 "nbformat_minor": 5
}
