{
 "metadata": {
  "language_info": {
   "codemirror_mode": {
    "name": "ipython",
    "version": 3
   },
   "file_extension": ".py",
   "mimetype": "text/x-python",
   "name": "python",
   "nbconvert_exporter": "python",
   "pygments_lexer": "ipython3",
   "version": "3.8.3-final"
  },
  "orig_nbformat": 2,
  "kernelspec": {
   "name": "python3",
   "display_name": "Python 3.8.3 64-bit ('my_env': conda)",
   "metadata": {
    "interpreter": {
     "hash": "ad389a6f8e4211f5c57d626e894baf0e2a6d8906f79df60957eabe0efad8582a"
    }
   }
  }
 },
 "nbformat": 4,
 "nbformat_minor": 2,
 "cells": [
  {
   "source": [
    "# UPC Quantum Engineering Final Project: Quantum Channel Discrimination"
   ],
   "cell_type": "markdown",
   "metadata": {}
  },
  {
   "cell_type": "code",
   "execution_count": 20,
   "metadata": {},
   "outputs": [],
   "source": [
    "from qiskit import QuantumRegister, ClassicalRegister, QuantumCircuit\n",
    "from qiskit import Aer, execute\n",
    "from numpy import pi\n",
    "import numpy as np"
   ]
  },
  {
   "source": [
    "## II. One-shot discrimination\n",
    "\n",
    "### A. Optimal Input"
   ],
   "cell_type": "markdown",
   "metadata": {}
  },
  {
   "source": [
    "### Setting the options to be parametrized"
   ],
   "cell_type": "markdown",
   "metadata": {}
  },
  {
   "cell_type": "code",
   "execution_count": 31,
   "metadata": {},
   "outputs": [],
   "source": [
    "# Create 2 qbits circuit and 1 output classical bit\n",
    "qreg_q = QuantumRegister(2, 'q')\n",
    "creg_c = ClassicalRegister(2, 'c')\n",
    "creg_c = ClassicalRegister(1, 'c')\n",
    "\n",
    "# angles shift from first parameter, to the second one, with jumps using the third parameter\n",
    "angles = np.arange(0, pi/2, pi/2/10)\n",
    "\n",
    "# Use Aer's qasm_simulator\n",
    "backend_sim = Aer.get_backend('qasm_simulator')"
   ]
  },
  {
   "source": [
    "### Run all circuit instances"
   ],
   "cell_type": "markdown",
   "metadata": {}
  },
  {
   "cell_type": "code",
   "execution_count": 35,
   "metadata": {},
   "outputs": [
    {
     "output_type": "stream",
     "name": "stdout",
     "text": [
      "Starting the execution\nStarting to compute the angle:  0.0\n{'0': 5000}\nStarting to compute the angle:  0.15707963267948966\n{'0': 5000}\nStarting to compute the angle:  0.3141592653589793\n{'0': 5000}\nStarting to compute the angle:  0.47123889803846897\n{'0': 5000}\nStarting to compute the angle:  0.6283185307179586\n{'0': 5000}\nStarting to compute the angle:  0.7853981633974483\n{'0': 5000}\nStarting to compute the angle:  0.9424777960769379\n{'0': 5000}\nStarting to compute the angle:  1.0995574287564276\n{'0': 5000}\nStarting to compute the angle:  1.2566370614359172\n{'0': 5000}\nStarting to compute the angle:  1.413716694115407\n{'0': 5000}\n"
     ]
    }
   ],
   "source": [
    "totalResults=[]\n",
    "totalCounts=[]\n",
    "totalCircuits=[]\n",
    "\n",
    "print(\"Starting the execution\")\n",
    "for theta in angles:\n",
    "    print(\"Starting to compute the angle: \", theta)\n",
    "    # Create the circuit gates\n",
    "    circuit = QuantumCircuit(qreg_q, creg_c)\n",
    "    circuit.reset(qreg_q[1])\n",
    "    circuit.cry(theta, qreg_q[0], qreg_q[1])\n",
    "    circuit.cx(qreg_q[1], qreg_q[0])\n",
    "    circuit.measure(qreg_q[0], creg_c[0])\n",
    "    totalCircuits.append(circuit)\n",
    "    job_sim = execute(circuit, backend_sim, shots=5000)\n",
    "    results_sim = job_sim.result()\n",
    "    totalResults.append(results_sim)\n",
    "    counts = results_sim.get_counts(circuit)\n",
    "    print(counts)\n",
    "    totalCounts.append(counts)"
   ]
  },
  {
   "cell_type": "code",
   "execution_count": 39,
   "metadata": {},
   "outputs": [
    {
     "output_type": "stream",
     "name": "stdout",
     "text": [
      "printing the first circuit\n"
     ]
    },
    {
     "output_type": "execute_result",
     "data": {
      "text/plain": [
       "<Figure size 327.252x204.68 with 1 Axes>"
      ],
      "image/svg+xml": "<?xml version=\"1.0\" encoding=\"utf-8\" standalone=\"no\"?>\n<!DOCTYPE svg PUBLIC \"-//W3C//DTD SVG 1.1//EN\"\n  \"http://www.w3.org/Graphics/SVG/1.1/DTD/svg11.dtd\">\n<!-- Created with matplotlib (https://matplotlib.org/) -->\n<svg height=\"168.9334pt\" version=\"1.1\" viewBox=\"0 0 261.475272 168.9334\" width=\"261.475272pt\" xmlns=\"http://www.w3.org/2000/svg\" xmlns:xlink=\"http://www.w3.org/1999/xlink\">\n <metadata>\n  <rdf:RDF xmlns:cc=\"http://creativecommons.org/ns#\" xmlns:dc=\"http://purl.org/dc/elements/1.1/\" xmlns:rdf=\"http://www.w3.org/1999/02/22-rdf-syntax-ns#\">\n   <cc:Work>\n    <dc:type rdf:resource=\"http://purl.org/dc/dcmitype/StillImage\"/>\n    <dc:date>2021-01-16T13:53:03.075918</dc:date>\n    <dc:format>image/svg+xml</dc:format>\n    <dc:creator>\n     <cc:Agent>\n      <dc:title>Matplotlib v3.3.3, https://matplotlib.org/</dc:title>\n     </cc:Agent>\n    </dc:creator>\n   </cc:Work>\n  </rdf:RDF>\n </metadata>\n <defs>\n  <style type=\"text/css\">*{stroke-linecap:butt;stroke-linejoin:round;}</style>\n </defs>\n <g id=\"figure_1\">\n  <g id=\"patch_1\">\n   <path d=\"M 0 168.9334 \nL 261.475272 168.9334 \nL 261.475272 0 \nL 0 0 \nz\n\" style=\"fill:#ffffff;\"/>\n  </g>\n  <g id=\"axes_1\">\n   <g id=\"patch_2\">\n    <path clip-path=\"url(#pd632f640bc)\" d=\"M 218.368982 124.122697 \nL 230.186242 124.122697 \nL 224.277612 132.64476 \nz\n\" style=\"fill:#778899;\"/>\n   </g>\n   <g id=\"line2d_1\">\n    <path clip-path=\"url(#pd632f640bc)\" d=\"M 63.381072 43.5608 \nL 249.730172 43.5608 \n\" style=\"fill:none;stroke:#000000;stroke-linecap:square;stroke-width:2;\"/>\n   </g>\n   <g id=\"line2d_2\">\n    <path clip-path=\"url(#pd632f640bc)\" d=\"M 63.381072 89.0118 \nL 249.730172 89.0118 \n\" style=\"fill:none;stroke:#000000;stroke-linecap:square;stroke-width:2;\"/>\n   </g>\n   <g id=\"line2d_3\">\n    <path clip-path=\"url(#pd632f640bc)\" d=\"M 63.381072 132.985642 \nL 249.730172 132.985642 \n\" style=\"fill:none;stroke:#778899;stroke-linecap:square;stroke-width:2;\"/>\n   </g>\n   <g id=\"line2d_4\">\n    <path clip-path=\"url(#pd632f640bc)\" d=\"M 63.381072 135.939957 \nL 249.730172 135.939957 \n\" style=\"fill:none;stroke:#778899;stroke-linecap:square;stroke-width:2;\"/>\n   </g>\n   <g id=\"line2d_5\">\n    <path clip-path=\"url(#pd632f640bc)\" d=\"M 133.375612 89.0118 \nL 133.375612 43.5608 \n\" style=\"fill:none;stroke:#bb8bff;stroke-linecap:square;stroke-width:2;\"/>\n   </g>\n   <g id=\"line2d_6\">\n    <path clip-path=\"url(#pd632f640bc)\" d=\"M 178.826612 89.0118 \nL 178.826612 43.5608 \n\" style=\"fill:none;stroke:#6fa4ff;stroke-linecap:square;stroke-width:2;\"/>\n   </g>\n   <g id=\"line2d_7\">\n    <path clip-path=\"url(#pd632f640bc)\" d=\"M 225.75477 43.5608 \nL 225.75477 124.122697 \n\" style=\"fill:none;stroke:#778899;stroke-linecap:square;stroke-width:2;\"/>\n   </g>\n   <g id=\"line2d_8\">\n    <path clip-path=\"url(#pd632f640bc)\" d=\"M 222.800455 43.5608 \nL 222.800455 124.122697 \n\" style=\"fill:none;stroke:#778899;stroke-linecap:square;stroke-width:2;\"/>\n   </g>\n   <g id=\"patch_3\">\n    <path clip-path=\"url(#pd632f640bc)\" d=\"M 73.153037 103.783375 \nL 102.696187 103.783375 \nL 102.696187 74.240225 \nL 73.153037 74.240225 \nz\n\" style=\"stroke:#000000;stroke-linejoin:miter;stroke-width:1.5;\"/>\n   </g>\n   <g id=\"patch_4\">\n    <path clip-path=\"url(#pd632f640bc)\" d=\"M 133.375612 47.992272 \nC 134.550852 47.992272 135.678116 47.525345 136.509136 46.694324 \nC 137.340157 45.863304 137.807085 44.73604 137.807085 43.5608 \nC 137.807085 42.38556 137.340157 41.258296 136.509136 40.427276 \nC 135.678116 39.596255 134.550852 39.129327 133.375612 39.129327 \nC 132.200372 39.129327 131.073108 39.596255 130.242088 40.427276 \nC 129.411067 41.258296 128.94414 42.38556 128.94414 43.5608 \nC 128.94414 44.73604 129.411067 45.863304 130.242088 46.694324 \nC 131.073108 47.525345 132.200372 47.992272 133.375612 47.992272 \nz\n\" style=\"fill:#bb8bff;stroke:#bb8bff;stroke-linejoin:miter;stroke-width:1.5;\"/>\n   </g>\n   <g id=\"patch_5\">\n    <path clip-path=\"url(#pd632f640bc)\" d=\"M 118.604037 103.783375 \nL 148.147187 103.783375 \nL 148.147187 74.240225 \nL 118.604037 74.240225 \nz\n\" style=\"fill:#bb8bff;stroke:#bb8bff;stroke-linejoin:miter;stroke-width:1.5;\"/>\n   </g>\n   <g id=\"patch_6\">\n    <path clip-path=\"url(#pd632f640bc)\" d=\"M 178.826612 93.443272 \nC 180.001852 93.443272 181.129116 92.976345 181.960136 92.145324 \nC 182.791157 91.314304 183.258085 90.18704 183.258085 89.0118 \nC 183.258085 87.83656 182.791157 86.709296 181.960136 85.878276 \nC 181.129116 85.047255 180.001852 84.580327 178.826612 84.580327 \nC 177.651372 84.580327 176.524108 85.047255 175.693088 85.878276 \nC 174.862067 86.709296 174.39514 87.83656 174.39514 89.0118 \nC 174.39514 90.18704 174.862067 91.314304 175.693088 92.145324 \nC 176.524108 92.976345 177.651372 93.443272 178.826612 93.443272 \nz\n\" style=\"fill:#6fa4ff;stroke:#6fa4ff;stroke-linejoin:miter;stroke-width:1.5;\"/>\n   </g>\n   <g id=\"patch_7\">\n    <path clip-path=\"url(#pd632f640bc)\" d=\"M 178.826612 53.900902 \nC 181.568839 53.900902 184.199121 52.811404 186.138169 50.872357 \nC 188.077216 48.933309 189.166715 46.303027 189.166715 43.5608 \nC 189.166715 40.818573 188.077216 38.188291 186.138169 36.249243 \nC 184.199121 34.310196 181.568839 33.220697 178.826612 33.220697 \nC 176.084385 33.220697 173.454103 34.310196 171.515055 36.249243 \nC 169.576008 38.188291 168.48651 40.818573 168.48651 43.5608 \nC 168.48651 46.303027 169.576008 48.933309 171.515055 50.872357 \nC 173.454103 52.811404 176.084385 53.900902 178.826612 53.900902 \nz\n\" style=\"fill:#6fa4ff;stroke:#6fa4ff;stroke-linejoin:miter;stroke-width:2;\"/>\n   </g>\n   <g id=\"patch_8\">\n    <path clip-path=\"url(#pd632f640bc)\" d=\"M 209.506037 58.332375 \nL 239.049187 58.332375 \nL 239.049187 28.789225 \nL 209.506037 28.789225 \nz\n\" style=\"stroke:#000000;stroke-linejoin:miter;stroke-width:1.5;\"/>\n   </g>\n   <g id=\"patch_9\">\n    <path clip-path=\"url(#pd632f640bc)\" d=\"M 234.617715 47.992272 \nC 234.617715 45.250959 233.52757 42.619118 231.589169 40.680716 \nC 229.650767 38.742314 227.018926 37.65217 224.277612 37.65217 \nC 221.536298 37.65217 218.904457 38.742314 216.966055 40.680716 \nC 215.027654 42.619118 213.93751 45.250959 213.93751 47.992272 \n\" style=\"fill:none;stroke:#ffffff;stroke-linejoin:miter;stroke-width:2;\"/>\n   </g>\n   <g id=\"line2d_9\">\n    <path clip-path=\"url(#pd632f640bc)\" d=\"M 224.277612 47.992272 \nL 234.617715 37.65217 \n\" style=\"fill:none;stroke:#ffffff;stroke-linecap:square;stroke-width:2;\"/>\n   </g>\n   <g id=\"line2d_10\">\n    <path clip-path=\"url(#pd632f640bc)\" d=\"M 178.826612 49.46943 \nL 178.826612 37.65217 \n\" style=\"fill:none;stroke:#ffffff;stroke-linecap:square;stroke-width:2;\"/>\n   </g>\n   <g id=\"line2d_11\">\n    <path clip-path=\"url(#pd632f640bc)\" d=\"M 172.917982 43.5608 \nL 184.735242 43.5608 \n\" style=\"fill:none;stroke:#ffffff;stroke-linecap:square;stroke-width:2;\"/>\n   </g>\n   <g id=\"text_1\">\n    <g clip-path=\"url(#pd632f640bc)\">\n     <!-- $\\left|0\\right\\rangle$ -->\n     <g style=\"fill:#ffffff;\" transform=\"translate(79.019612 92.4568)scale(0.13 -0.13)\">\n      <defs>\n       <path d=\"M 21 76.421875 \nL 21 -23.578125 \nL 12.703125 -23.578125 \nL 12.703125 76.421875 \nz\n\" id=\"DejaVuSans-124\"/>\n       <path d=\"M 31.78125 66.40625 \nQ 24.171875 66.40625 20.328125 58.90625 \nQ 16.5 51.421875 16.5 36.375 \nQ 16.5 21.390625 20.328125 13.890625 \nQ 24.171875 6.390625 31.78125 6.390625 \nQ 39.453125 6.390625 43.28125 13.890625 \nQ 47.125 21.390625 47.125 36.375 \nQ 47.125 51.421875 43.28125 58.90625 \nQ 39.453125 66.40625 31.78125 66.40625 \nz\nM 31.78125 74.21875 \nQ 44.046875 74.21875 50.515625 64.515625 \nQ 56.984375 54.828125 56.984375 36.375 \nQ 56.984375 17.96875 50.515625 8.265625 \nQ 44.046875 -1.421875 31.78125 -1.421875 \nQ 19.53125 -1.421875 13.0625 8.265625 \nQ 6.59375 17.96875 6.59375 36.375 \nQ 6.59375 54.828125 13.0625 64.515625 \nQ 19.53125 74.21875 31.78125 74.21875 \nz\n\" id=\"DejaVuSans-48\"/>\n       <path d=\"M 30.078125 31.34375 \nL 16.3125 -13.1875 \nL 8.015625 -13.1875 \nL 21.78125 31.34375 \nL 8.015625 75.875 \nL 16.3125 75.875 \nz\n\" id=\"DejaVuSans-10217\"/>\n      </defs>\n      <use transform=\"translate(0 0.578125)\" xlink:href=\"#DejaVuSans-124\"/>\n      <use transform=\"translate(33.691406 0.578125)\" xlink:href=\"#DejaVuSans-48\"/>\n      <use transform=\"translate(97.314453 0.578125)\" xlink:href=\"#DejaVuSans-10217\"/>\n     </g>\n    </g>\n   </g>\n   <g id=\"text_2\">\n    <g clip-path=\"url(#pd632f640bc)\">\n     <!-- $\\mathrm{R}_\\mathrm{Y}$ -->\n     <g transform=\"translate(125.835612 88.167515)scale(0.13 -0.13)\">\n      <defs>\n       <path d=\"M 44.390625 34.1875 \nQ 47.5625 33.109375 50.5625 29.59375 \nQ 53.5625 26.078125 56.59375 19.921875 \nL 66.609375 0 \nL 56 0 \nL 46.6875 18.703125 \nQ 43.0625 26.03125 39.671875 28.421875 \nQ 36.28125 30.8125 30.421875 30.8125 \nL 19.671875 30.8125 \nL 19.671875 0 \nL 9.8125 0 \nL 9.8125 72.90625 \nL 32.078125 72.90625 \nQ 44.578125 72.90625 50.734375 67.671875 \nQ 56.890625 62.453125 56.890625 51.90625 \nQ 56.890625 45.015625 53.6875 40.46875 \nQ 50.484375 35.9375 44.390625 34.1875 \nz\nM 19.671875 64.796875 \nL 19.671875 38.921875 \nL 32.078125 38.921875 \nQ 39.203125 38.921875 42.84375 42.21875 \nQ 46.484375 45.515625 46.484375 51.90625 \nQ 46.484375 58.296875 42.84375 61.546875 \nQ 39.203125 64.796875 32.078125 64.796875 \nz\n\" id=\"DejaVuSans-82\"/>\n       <path d=\"M -0.203125 72.90625 \nL 10.40625 72.90625 \nL 30.609375 42.921875 \nL 50.6875 72.90625 \nL 61.28125 72.90625 \nL 35.5 34.71875 \nL 35.5 0 \nL 25.59375 0 \nL 25.59375 34.71875 \nz\n\" id=\"DejaVuSans-89\"/>\n      </defs>\n      <use transform=\"translate(0 0.09375)\" xlink:href=\"#DejaVuSans-82\"/>\n      <use transform=\"translate(70.439453 -16.3125)scale(0.7)\" xlink:href=\"#DejaVuSans-89\"/>\n     </g>\n    </g>\n   </g>\n   <g id=\"text_3\">\n    <g clip-path=\"url(#pd632f640bc)\">\n     <!-- 0 -->\n     <g transform=\"translate(130.830612 100.082245)scale(0.08 -0.08)\">\n      <use xlink:href=\"#DejaVuSans-48\"/>\n     </g>\n    </g>\n   </g>\n   <g id=\"text_4\">\n    <g clip-path=\"url(#pd632f640bc)\">\n     <!-- 0 -->\n     <g transform=\"translate(235.640362 127.754825)scale(0.104 -0.104)\">\n      <use xlink:href=\"#DejaVuSans-48\"/>\n     </g>\n    </g>\n   </g>\n   <g id=\"text_5\">\n    <g clip-path=\"url(#pd632f640bc)\">\n     <!-- ${q}_{0}$ -->\n     <g transform=\"translate(36.253372 48.011777)scale(0.1625 -0.1625)\">\n      <defs>\n       <path d=\"M 41.703125 8.203125 \nQ 38.09375 3.46875 33.171875 1.015625 \nQ 28.265625 -1.421875 22.3125 -1.421875 \nQ 14.015625 -1.421875 9.296875 4.171875 \nQ 4.59375 9.765625 4.59375 19.578125 \nQ 4.59375 27.484375 7.5 34.859375 \nQ 10.40625 42.234375 15.828125 48.09375 \nQ 19.34375 51.90625 23.90625 53.953125 \nQ 28.46875 56 33.5 56 \nQ 39.546875 56 43.453125 53.609375 \nQ 47.359375 51.21875 49.125 46.390625 \nL 50.6875 54.59375 \nL 59.71875 54.59375 \nL 45.125 -20.609375 \nL 36.078125 -20.609375 \nz\nM 13.921875 20.90625 \nQ 13.921875 13.671875 16.9375 9.890625 \nQ 19.96875 6.109375 25.6875 6.109375 \nQ 34.1875 6.109375 40.1875 14.234375 \nQ 46.1875 22.359375 46.1875 33.984375 \nQ 46.1875 41.015625 43.078125 44.75 \nQ 39.984375 48.484375 34.1875 48.484375 \nQ 29.9375 48.484375 26.3125 46.5 \nQ 22.703125 44.53125 20.015625 40.71875 \nQ 17.1875 36.71875 15.546875 31.34375 \nQ 13.921875 25.984375 13.921875 20.90625 \nz\n\" id=\"DejaVuSans-Oblique-113\"/>\n      </defs>\n      <use xlink:href=\"#DejaVuSans-Oblique-113\"/>\n      <use transform=\"translate(63.476562 -16.40625)scale(0.7)\" xlink:href=\"#DejaVuSans-48\"/>\n     </g>\n    </g>\n   </g>\n   <g id=\"text_6\">\n    <g clip-path=\"url(#pd632f640bc)\">\n     <!-- ${q}_{1}$ -->\n     <g transform=\"translate(36.253372 93.462777)scale(0.1625 -0.1625)\">\n      <defs>\n       <path d=\"M 12.40625 8.296875 \nL 28.515625 8.296875 \nL 28.515625 63.921875 \nL 10.984375 60.40625 \nL 10.984375 69.390625 \nL 28.421875 72.90625 \nL 38.28125 72.90625 \nL 38.28125 8.296875 \nL 54.390625 8.296875 \nL 54.390625 0 \nL 12.40625 0 \nz\n\" id=\"DejaVuSans-49\"/>\n      </defs>\n      <use xlink:href=\"#DejaVuSans-Oblique-113\"/>\n      <use transform=\"translate(63.476562 -16.40625)scale(0.7)\" xlink:href=\"#DejaVuSans-49\"/>\n     </g>\n    </g>\n   </g>\n   <g id=\"text_7\">\n    <g clip-path=\"url(#pd632f640bc)\">\n     <!-- c -->\n     <g transform=\"translate(45.355911 138.946784)scale(0.1625 -0.1625)\">\n      <defs>\n       <path d=\"M 48.78125 52.59375 \nL 48.78125 44.1875 \nQ 44.96875 46.296875 41.140625 47.34375 \nQ 37.3125 48.390625 33.40625 48.390625 \nQ 24.65625 48.390625 19.8125 42.84375 \nQ 14.984375 37.3125 14.984375 27.296875 \nQ 14.984375 17.28125 19.8125 11.734375 \nQ 24.65625 6.203125 33.40625 6.203125 \nQ 37.3125 6.203125 41.140625 7.25 \nQ 44.96875 8.296875 48.78125 10.40625 \nL 48.78125 2.09375 \nQ 45.015625 0.34375 40.984375 -0.53125 \nQ 36.96875 -1.421875 32.421875 -1.421875 \nQ 20.0625 -1.421875 12.78125 6.34375 \nQ 5.515625 14.109375 5.515625 27.296875 \nQ 5.515625 40.671875 12.859375 48.328125 \nQ 20.21875 56 33.015625 56 \nQ 37.15625 56 41.109375 55.140625 \nQ 45.0625 54.296875 48.78125 52.59375 \nz\n\" id=\"DejaVuSans-99\"/>\n      </defs>\n      <use xlink:href=\"#DejaVuSans-99\"/>\n     </g>\n    </g>\n   </g>\n  </g>\n </g>\n <defs>\n  <clipPath id=\"pd632f640bc\">\n   <rect height=\"154.5334\" width=\"247.075272\" x=\"7.2\" y=\"7.2\"/>\n  </clipPath>\n </defs>\n</svg>\n",
      "image/png": "[encoded data removed]"
     },
     "metadata": {},
     "execution_count": 39
    }
   ],
   "source": [
    "print(\"printing the first circuit\")\n",
    "totalCircuits[0].draw('mpl')"
   ]
  },
  {
   "cell_type": "code",
   "execution_count": null,
   "metadata": {},
   "outputs": [],
   "source": [
    "\n"
   ]
  }
 ]
}