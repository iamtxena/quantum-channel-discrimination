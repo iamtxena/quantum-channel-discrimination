{
 "cells": [
  {
   "cell_type": "markdown",
   "id": "promotional-finder",
   "metadata": {},
   "source": [
    "# testing phase2b"
   ]
  },
  {
   "cell_type": "code",
   "execution_count": 10,
   "id": "hispanic-thailand",
   "metadata": {},
   "outputs": [],
   "source": [
    "import os,sys,inspect\n",
    "currentdir = os.path.dirname(os.path.abspath(inspect.getfile(inspect.currentframe())))\n",
    "parentdir = os.path.dirname(currentdir)\n",
    "sys.path.insert(0,parentdir)\n",
    "\n",
    "import numpy as np\n",
    "from typing import Tuple, cast, Optional\n",
    "import numpy as np\n",
    "import random\n",
    "import enum\n",
    "from qiskit import Aer, QuantumRegister, ClassicalRegister, QuantumCircuit, execute"
   ]
  },
  {
   "cell_type": "markdown",
   "id": "intimate-volleyball",
   "metadata": {},
   "source": [
    "## auxiliary functions"
   ]
  },
  {
   "cell_type": "code",
   "execution_count": 31,
   "id": "contrary-recall",
   "metadata": {},
   "outputs": [],
   "source": [
    "class GuessStrategy(enum.Enum):\n",
    "    one_bit_same_as_measured = 1\n",
    "    two_bit_base = 2\n",
    "    two_bit_neural_network = 3"
   ]
  },
  {
   "cell_type": "code",
   "execution_count": 32,
   "id": "nutritional-suite",
   "metadata": {},
   "outputs": [],
   "source": [
    "def _prepare_initial_state_entangled(state_probability: float) -> Tuple[complex, complex, complex, complex]:\n",
    "        \"\"\" Prepare initial state: computing 'y' as the amplitudes  \"\"\"\n",
    "        return (0, np.sqrt(state_probability), np.sqrt(1 - state_probability), 0)\n",
    "\n",
    "def _guess_lambda_used_two_bit_strategy(counts: str) -> int:\n",
    "    \"\"\" Decides which lambda was used on the real execution from the two 'counts' measured\n",
    "        Setting eta0 >= eta1:\n",
    "            * outcome 00 -> eta0 as the most probable (more attenuation)\n",
    "            * outcome 01 -> eta1 as the most probable (less attenuation)\n",
    "            * outcome 10 -> 50% chance, random choice\n",
    "            * outcome 11 -> not possible, but in case we get it (from noisy simulation), 50% chance, random choice\n",
    "    \"\"\"\n",
    "    if len(counts) != 2:\n",
    "        raise ValueError('counts MUST be a two character length string')\n",
    "    if counts == \"00\":\n",
    "        return 0\n",
    "    if counts == \"01\":\n",
    "        return 1\n",
    "    if counts == \"10\" or counts == \"11\":\n",
    "        return random.choice([0, 1])\n",
    "    raise ValueError(\"Accepted counts are '00', '01', '10', '11'\")\n",
    "\n",
    "def _convert_counts_to_eta_used(counts_dict: dict,\n",
    "                                guess_strategy: GuessStrategy) -> int:\n",
    "    \"\"\" Decides which eta was used on the real execution from the 'counts' measured\n",
    "        based on the guess strategy that is required to use\n",
    "    \"\"\"\n",
    "    if guess_strategy != GuessStrategy.two_bit_base:\n",
    "        raise ValueError('Invalid Guess Strategy. Only GuessStrategy.two_bit_base supported')\n",
    "\n",
    "    counts = get_measured_value_from_counts(counts_dict)\n",
    "    return _guess_lambda_used_two_bit_strategy(counts)\n",
    "\n",
    "def _compute_damping_channel(configuration: dict, eta_index: int) -> int:\n",
    "    \"\"\" one-time execution of the two-qubit entangled amplitude damping circuit using the passed parameters\n",
    "        Returns: the execution measured result: either 0 or 1\n",
    "    \"\"\"\n",
    "    backend = Aer.get_backend('qasm_simulator')\n",
    "    eta = configuration['eta_pair'][eta_index]\n",
    "    qreg_q = QuantumRegister(3, 'q')\n",
    "    creg_c = ClassicalRegister(2, 'c')\n",
    "\n",
    "    initial_state = _prepare_initial_state_entangled(configuration['state_probability'])\n",
    "\n",
    "    circuit = QuantumCircuit(qreg_q, creg_c)\n",
    "    circuit.initialize(initial_state, [0, 1])\n",
    "    circuit.reset(qreg_q[2])\n",
    "    circuit.cry(2 * eta, qreg_q[1], qreg_q[2])\n",
    "    circuit.cx(qreg_q[2], qreg_q[1])\n",
    "    circuit.rx(configuration['angle_rx'], qreg_q[1])\n",
    "    circuit.ry(configuration['angle_ry'], qreg_q[1])\n",
    "    circuit.barrier()\n",
    "    circuit.measure([0, 1], creg_c)\n",
    "\n",
    "    counts = execute(circuit, backend, shots=1).result().get_counts(circuit)\n",
    "    return _convert_counts_to_eta_used(counts, guess_strategy=GuessStrategy.two_bit_base)"
   ]
  },
  {
   "cell_type": "code",
   "execution_count": 33,
   "id": "living-barrel",
   "metadata": {},
   "outputs": [],
   "source": [
    "def reorder_pair(pair: Tuple[float, float]) -> Tuple[float, float]:\n",
    "    if pair[0] < pair[1]:\n",
    "        return (pair[1], pair[0])\n",
    "    return pair\n",
    "\n",
    "def get_measured_value_from_counts(counts_dict: dict) -> str:\n",
    "    \"\"\" converts the dictionary counts measured to the\n",
    "          value measured in string format\n",
    "    \"\"\"\n",
    "    if len(list(counts_dict.keys())) != 1:\n",
    "        raise ValueError('Circuit execution shots MUST be 1')\n",
    "    return list(counts_dict.keys())[0]\n",
    "\n",
    "\n",
    "def set_random_eta(eta_pair: Tuple[float, float]) -> int:\n",
    "    \"\"\" return a random choice from attenuation pair with the correspondent index value \"\"\"\n",
    "    eta_value = random.choice(eta_pair)\n",
    "    if eta_value == eta_pair[0]:\n",
    "        return 0\n",
    "    return 1\n",
    "\n",
    "\n",
    "def check_value(real_index_eta: int, guess_index_eta: int):\n",
    "    if real_index_eta == guess_index_eta:\n",
    "        return 1\n",
    "    return 0"
   ]
  },
  {
   "cell_type": "code",
   "execution_count": 34,
   "id": "leading-permission",
   "metadata": {},
   "outputs": [],
   "source": [
    "def _play_and_guess_one_case(channel_configuration: dict) -> int:\n",
    "    \"\"\" Execute a real execution with a random eta from the two passed,\n",
    "        guess which one was used on the execution and\n",
    "        check the result.\n",
    "        Returns 1 on success (it was a correct guess) or 0 on fail (it was an incorrect guess)\n",
    "    \"\"\"\n",
    "    eta_pair_index_to_use = set_random_eta(channel_configuration['eta_pair'])\n",
    "    eta_pair_index_guessed = _compute_damping_channel(channel_configuration, eta_pair_index_to_use)\n",
    "    return check_value(eta_pair_index_to_use, eta_pair_index_guessed)"
   ]
  },
  {
   "cell_type": "code",
   "execution_count": 35,
   "id": "monthly-concentrate",
   "metadata": {},
   "outputs": [],
   "source": [
    "def compute_average_success_probability(configuration: dict,\n",
    "                                        plays: Optional[int] = 100) -> float:\n",
    "        \"\"\" Computes the average success probability of running a specific configuration for the number of plays\n",
    "            defined in the configuration.\n",
    "        \"\"\"\n",
    "\n",
    "        reordered_configuration = { 'state_probability': configuration['state_probability'],\n",
    "            'angle_rx': configuration['angle_rx'],\n",
    "            'angle_ry': configuration['angle_ry'],\n",
    "            'eta_pair': reorder_pair(configuration['eta_pair'])\n",
    "        }\n",
    "\n",
    "        success_counts = 0\n",
    "        for play in range(plays):\n",
    "            success_counts += _play_and_guess_one_case(reordered_configuration)\n",
    "\n",
    "        return (success_counts / plays)"
   ]
  },
  {
   "cell_type": "markdown",
   "id": "decent-charleston",
   "metadata": {},
   "source": [
    "## tests"
   ]
  },
  {
   "cell_type": "code",
   "execution_count": 46,
   "id": "frozen-module",
   "metadata": {},
   "outputs": [],
   "source": [
    "configuration = { 'state_probability': 1.0,\n",
    "                 'angle_rx': 0,\n",
    "                 'angle_ry': 0,\n",
    "                 'eta_pair': (0, np.pi/2)}"
   ]
  },
  {
   "cell_type": "code",
   "execution_count": 48,
   "id": "bottom-asset",
   "metadata": {},
   "outputs": [
    {
     "data": {
      "text/plain": [
       "0.497"
      ]
     },
     "execution_count": 48,
     "metadata": {},
     "output_type": "execute_result"
    }
   ],
   "source": [
    "compute_average_success_probability(configuration=configuration, plays=1000)"
   ]
  },
  {
   "cell_type": "code",
   "execution_count": null,
   "id": "weekly-marina",
   "metadata": {},
   "outputs": [],
   "source": []
  }
 ],
 "metadata": {
  "kernelspec": {
   "display_name": "Python 3",
   "language": "python",
   "name": "python3"
  },
  "language_info": {
   "codemirror_mode": {
    "name": "ipython",
    "version": 3
   },
   "file_extension": ".py",
   "mimetype": "text/x-python",
   "name": "python",
   "nbconvert_exporter": "python",
   "pygments_lexer": "ipython3",
   "version": "3.8.3"
  }
 },
 "nbformat": 4,
 "nbformat_minor": 5
}
