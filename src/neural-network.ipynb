{
 "cells": [
  {
   "cell_type": "markdown",
   "id": "phantom-donna",
   "metadata": {},
   "source": [
    "# Playing with Reinforcement Learning Neural Networks"
   ]
  },
  {
   "cell_type": "code",
   "execution_count": 80,
   "id": "passing-shadow",
   "metadata": {},
   "outputs": [],
   "source": [
    "import numpy as np\n",
    "import random\n",
    "import itertools\n",
    "import math\n",
    "import time\n",
    "from typing import Optional, Tuple, cast, List, Dict"
   ]
  },
  {
   "cell_type": "markdown",
   "id": "global-navigation",
   "metadata": {},
   "source": [
    "## General auxiliary functions"
   ]
  },
  {
   "cell_type": "code",
   "execution_count": 2,
   "id": "toxic-jerusalem",
   "metadata": {},
   "outputs": [],
   "source": [
    "def get_combinations_two_etas_without_repeats_from_etas(angles_etas: List[float]) -> List[Tuple[float, float]]:\n",
    "    \"\"\" from a given list of attenuations factors create a\n",
    "        list of all combinatorial pairs of possible etas\n",
    "        without repeats\n",
    "        For us it is the same testing first eta 0.1 and second eta 0.2\n",
    "        than first eta 0.2 and second eta 0.1\n",
    "        Though, we will always put the greater value as the first pair element\n",
    "    \"\"\"\n",
    "    # when there is only one element, we add the same element\n",
    "    if len(angles_etas) == 1:\n",
    "        angles_etas.append(angles_etas[0])\n",
    "    # get combinations of two etas without repeats\n",
    "    eta_pairs = list(itertools.combinations(angles_etas, 2))\n",
    "\n",
    "    return reorder_pairs(eta_pairs)"
   ]
  },
  {
   "cell_type": "code",
   "execution_count": 3,
   "id": "acting-clark",
   "metadata": {},
   "outputs": [],
   "source": [
    "def reorder_pairs(pairs: List[Tuple[float, float]]) -> List[Tuple[float, float]]:\n",
    "    \"\"\" reorder received pairs setting first the element of the tuple\n",
    "        as greater or equal de second one\n",
    "    \"\"\"\n",
    "    reordered_pairs = pairs\n",
    "    for idx, pair in enumerate(pairs):\n",
    "        reordered_pairs[idx] = reorder_pair(pair)\n",
    "    return reordered_pairs"
   ]
  },
  {
   "cell_type": "code",
   "execution_count": 4,
   "id": "sunrise-rating",
   "metadata": {},
   "outputs": [],
   "source": [
    "def reorder_pair(pair: Tuple[float, float]) -> Tuple[float, float]:\n",
    "    if pair[0] < pair[1]:\n",
    "        return (pair[1], pair[0])\n",
    "    return pair"
   ]
  },
  {
   "cell_type": "markdown",
   "id": "atlantic-organ",
   "metadata": {},
   "source": [
    "## Setting the input variables (features)"
   ]
  },
  {
   "cell_type": "code",
   "execution_count": 89,
   "id": "unnecessary-europe",
   "metadata": {},
   "outputs": [],
   "source": [
    "def get_entangled_ys(num_etas_to_be_split: int)-> Tuple[List[float], Tuple[int, int, int]]:\n",
    "    etas = np.append(np.arange(0, np.pi/2, np.pi/2/num_etas_to_be_split), np.pi/2)\n",
    "    eta_pairs = get_combinations_two_etas_without_repeats_from_etas(etas)\n",
    "    gammas = [np.cos(eta_pair[1]) + np.cos(eta_pair[0]) for eta_pair in eta_pairs]\n",
    "    gammas_etas = [(eta_pair[0], eta_pair[1], gammas[idx]) for idx, eta_pair in enumerate(eta_pairs)]\n",
    "    entangled_gammas = [gamma for gamma in gammas if gamma <= 1]\n",
    "    entangled_etas = [(eta_pair[0], eta_pair[1]) for idx, eta_pair in enumerate(eta_pairs) if gammas[idx] <= 1]\n",
    "    theoretical_ys = [(gamma-1)/(gamma-2) for gamma in gammas] \n",
    "    entangled_ys = [theoretical_y for theoretical_y in theoretical_ys if theoretical_y > 0]\n",
    "    entangled_ys.sort()\n",
    "    entangled_ys.reverse()\n",
    "    return (entangled_ys, (len(entangled_ys), max(entangled_ys), min(entangled_ys)), entangled_gammas, entangled_etas)"
   ]
  },
  {
   "cell_type": "code",
   "execution_count": 73,
   "id": "incoming-executive",
   "metadata": {},
   "outputs": [
    {
     "data": {
      "text/plain": [
       "(59, 0.47958432850599036, 0.003073192639590261)"
      ]
     },
     "execution_count": 73,
     "metadata": {},
     "output_type": "execute_result"
    }
   ],
   "source": [
    "get_entangled_ys(20)[1]"
   ]
  },
  {
   "cell_type": "code",
   "execution_count": 63,
   "id": "resident-frederick",
   "metadata": {},
   "outputs": [],
   "source": [
    "def get_etas_from_entangled_ys(ty_min:float = 0, ty_max:float = 0.5):\n",
    "    gamma_min = (1-2*ty_min)/(1-ty_min)\n",
    "    gamma_max = (1-2*ty_max)/(1-ty_max)\n",
    "    return (gamma_min, gamma_max)"
   ]
  },
  {
   "cell_type": "code",
   "execution_count": 64,
   "id": "loving-calculation",
   "metadata": {},
   "outputs": [
    {
     "data": {
      "text/plain": [
       "(1.0, 0.0)"
      ]
     },
     "execution_count": 64,
     "metadata": {},
     "output_type": "execute_result"
    }
   ],
   "source": [
    "get_etas_from_entangled_ys(0, 0.5)"
   ]
  },
  {
   "cell_type": "code",
   "execution_count": 75,
   "id": "found-fountain",
   "metadata": {},
   "outputs": [
    {
     "data": {
      "text/plain": [
       "60"
      ]
     },
     "execution_count": 75,
     "metadata": {},
     "output_type": "execute_result"
    }
   ],
   "source": [
    "len(get_entangled_ys(20)[2])"
   ]
  },
  {
   "cell_type": "code",
   "execution_count": 83,
   "id": "abroad-sharp",
   "metadata": {},
   "outputs": [
    {
     "data": {
      "text/plain": [
       "[(63.0, 58.5),\n",
       " (67.5, 54.0),\n",
       " (67.5, 58.5),\n",
       " (67.5, 63.0),\n",
       " (72.0, 49.5),\n",
       " (72.0, 54.0),\n",
       " (72.0, 58.5),\n",
       " (72.0, 63.0),\n",
       " (72.0, 67.5),\n",
       " (76.5, 40.5),\n",
       " (76.5, 45.0),\n",
       " (76.5, 49.5),\n",
       " (76.5, 54.0),\n",
       " (76.5, 58.5),\n",
       " (76.5, 63.0),\n",
       " (76.5, 67.5),\n",
       " (76.5, 72.0),\n",
       " (81.0, 36.0),\n",
       " (81.0, 40.5),\n",
       " (81.0, 45.0),\n",
       " (81.0, 49.5),\n",
       " (81.0, 54.0),\n",
       " (81.0, 58.5),\n",
       " (81.0, 63.0),\n",
       " (81.0, 67.5),\n",
       " (81.0, 72.0),\n",
       " (81.0, 76.5),\n",
       " (85.5, 27.0),\n",
       " (85.5, 31.5),\n",
       " (85.5, 36.0),\n",
       " (85.5, 40.5),\n",
       " (85.5, 45.0),\n",
       " (85.5, 49.5),\n",
       " (85.5, 54.0),\n",
       " (85.5, 58.5),\n",
       " (85.5, 63.0),\n",
       " (85.5, 67.5),\n",
       " (85.5, 72.0),\n",
       " (85.5, 76.5),\n",
       " (85.5, 81.0),\n",
       " (90.0, 0.0),\n",
       " (90.0, 4.5),\n",
       " (90.0, 9.0),\n",
       " (90.0, 13.5),\n",
       " (90.0, 18.0),\n",
       " (90.0, 22.5),\n",
       " (90.0, 27.0),\n",
       " (90.0, 31.5),\n",
       " (90.0, 36.0),\n",
       " (90.0, 40.5),\n",
       " (90.0, 45.0),\n",
       " (90.0, 49.5),\n",
       " (90.0, 54.0),\n",
       " (90.0, 58.5),\n",
       " (90.0, 63.0),\n",
       " (90.0, 67.5),\n",
       " (90.0, 72.0),\n",
       " (90.0, 76.5),\n",
       " (90.0, 81.0),\n",
       " (90.0, 85.5)]"
      ]
     },
     "execution_count": 83,
     "metadata": {},
     "output_type": "execute_result"
    }
   ],
   "source": [
    "lst = [(math.degrees(elem[0]), math.degrees(elem[1])) for elem in get_entangled_ys(20)[3]]\n",
    "lst.sort()\n",
    "lst"
   ]
  },
  {
   "cell_type": "code",
   "execution_count": 90,
   "id": "entitled-wells",
   "metadata": {},
   "outputs": [
    {
     "data": {
      "text/plain": [
       "60"
      ]
     },
     "execution_count": 90,
     "metadata": {},
     "output_type": "execute_result"
    }
   ],
   "source": [
    "len(get_entangled_ys(20)[3])"
   ]
  },
  {
   "cell_type": "code",
   "execution_count": 94,
   "id": "charged-august",
   "metadata": {},
   "outputs": [
    {
     "data": {
      "text/plain": [
       "[(1.0995574287564276, 1.0210176124166828),\n",
       " (1.1780972450961724, 0.9424777960769379),\n",
       " (1.1780972450961724, 1.0210176124166828),\n",
       " (1.1780972450961724, 1.0995574287564276),\n",
       " (1.2566370614359172, 0.8639379797371931),\n",
       " (1.2566370614359172, 0.9424777960769379),\n",
       " (1.2566370614359172, 1.0210176124166828),\n",
       " (1.2566370614359172, 1.0995574287564276),\n",
       " (1.2566370614359172, 1.1780972450961724),\n",
       " (1.335176877775662, 0.7068583470577035),\n",
       " (1.335176877775662, 0.7853981633974483),\n",
       " (1.335176877775662, 0.8639379797371931),\n",
       " (1.335176877775662, 0.9424777960769379),\n",
       " (1.335176877775662, 1.0210176124166828),\n",
       " (1.335176877775662, 1.0995574287564276),\n",
       " (1.335176877775662, 1.1780972450961724),\n",
       " (1.335176877775662, 1.2566370614359172),\n",
       " (1.413716694115407, 0.6283185307179586),\n",
       " (1.413716694115407, 0.7068583470577035),\n",
       " (1.413716694115407, 0.7853981633974483),\n",
       " (1.413716694115407, 0.8639379797371931),\n",
       " (1.413716694115407, 0.9424777960769379),\n",
       " (1.413716694115407, 1.0210176124166828),\n",
       " (1.413716694115407, 1.0995574287564276),\n",
       " (1.413716694115407, 1.1780972450961724),\n",
       " (1.413716694115407, 1.2566370614359172),\n",
       " (1.413716694115407, 1.335176877775662),\n",
       " (1.4922565104551517, 0.47123889803846897),\n",
       " (1.4922565104551517, 0.5497787143782138),\n",
       " (1.4922565104551517, 0.6283185307179586),\n",
       " (1.4922565104551517, 0.7068583470577035),\n",
       " (1.4922565104551517, 0.7853981633974483),\n",
       " (1.4922565104551517, 0.8639379797371931),\n",
       " (1.4922565104551517, 0.9424777960769379),\n",
       " (1.4922565104551517, 1.0210176124166828),\n",
       " (1.4922565104551517, 1.0995574287564276),\n",
       " (1.4922565104551517, 1.1780972450961724),\n",
       " (1.4922565104551517, 1.2566370614359172),\n",
       " (1.4922565104551517, 1.335176877775662),\n",
       " (1.4922565104551517, 1.413716694115407),\n",
       " (1.5707963267948966, 0.0),\n",
       " (1.5707963267948966, 0.07853981633974483),\n",
       " (1.5707963267948966, 0.15707963267948966),\n",
       " (1.5707963267948966, 0.23561944901923448),\n",
       " (1.5707963267948966, 0.3141592653589793),\n",
       " (1.5707963267948966, 0.39269908169872414),\n",
       " (1.5707963267948966, 0.47123889803846897),\n",
       " (1.5707963267948966, 0.5497787143782138),\n",
       " (1.5707963267948966, 0.6283185307179586),\n",
       " (1.5707963267948966, 0.7068583470577035),\n",
       " (1.5707963267948966, 0.7853981633974483),\n",
       " (1.5707963267948966, 0.8639379797371931),\n",
       " (1.5707963267948966, 0.9424777960769379),\n",
       " (1.5707963267948966, 1.0210176124166828),\n",
       " (1.5707963267948966, 1.0995574287564276),\n",
       " (1.5707963267948966, 1.1780972450961724),\n",
       " (1.5707963267948966, 1.2566370614359172),\n",
       " (1.5707963267948966, 1.335176877775662),\n",
       " (1.5707963267948966, 1.413716694115407),\n",
       " (1.5707963267948966, 1.4922565104551517)]"
      ]
     },
     "execution_count": 94,
     "metadata": {},
     "output_type": "execute_result"
    }
   ],
   "source": [
    "lst2 = get_entangled_ys(20)[3]\n",
    "lst2.sort()\n",
    "lst2"
   ]
  },
  {
   "cell_type": "code",
   "execution_count": 39,
   "id": "worst-cylinder",
   "metadata": {},
   "outputs": [],
   "source": [
    "features = { 'amplitude_probability': (0, 1),\n",
    "            'rx_angle': (0, 2*np.pi),\n",
    "            'ry_angle': (0, 2*np.pi),\n",
    "            'measurement': ('00', '01', '10', '11'),\n",
    "            'entangled_ys': get_entangled_ys(num_etas_to_be_split=20)[0]}"
   ]
  },
  {
   "cell_type": "code",
   "execution_count": 56,
   "id": "terminal-torture",
   "metadata": {},
   "outputs": [
    {
     "data": {
      "text/plain": [
       "0.25"
      ]
     },
     "execution_count": 56,
     "metadata": {},
     "output_type": "execute_result"
    }
   ],
   "source": [
    "0.5**2"
   ]
  },
  {
   "cell_type": "code",
   "execution_count": 59,
   "id": "elegant-swift",
   "metadata": {},
   "outputs": [
    {
     "data": {
      "text/plain": [
       "0.8944271909999159"
      ]
     },
     "execution_count": 59,
     "metadata": {},
     "output_type": "execute_result"
    }
   ],
   "source": [
    "np.sqrt(0.8)"
   ]
  },
  {
   "cell_type": "code",
   "execution_count": 60,
   "id": "joint-center",
   "metadata": {},
   "outputs": [
    {
     "data": {
      "text/plain": [
       "{'amplitude_probability': (0, 1),\n",
       " 'rx_angle': (0, 6.283185307179586),\n",
       " 'ry_angle': (0, 6.283185307179586),\n",
       " 'measurement': ('00', '01', '10', '11'),\n",
       " 'entangled_ys': [0.47958432850599036,\n",
       "  0.457572849439376,\n",
       "  0.43392636743875274,\n",
       "  0.4334619274092364,\n",
       "  0.4086280011842216,\n",
       "  0.4076164671619115,\n",
       "  0.38169185921198207,\n",
       "  0.3798541566656544,\n",
       "  0.37892834463751757,\n",
       "  0.35317344438599374,\n",
       "  0.35016723884069223,\n",
       "  0.34834254273970594,\n",
       "  0.32318170654923994,\n",
       "  0.31859239934012057,\n",
       "  0.3154820651003284,\n",
       "  0.313911372617308,\n",
       "  0.2918923969436534,\n",
       "  0.2852253489932173,\n",
       "  0.28035552262097296,\n",
       "  0.2773894006398492,\n",
       "  0.25956198962683025,\n",
       "  0.25023747901970733,\n",
       "  0.2430361045091931,\n",
       "  0.23813246738612076,\n",
       "  0.2356490665908845,\n",
       "  0.22654091966098633,\n",
       "  0.21389386369950902,\n",
       "  0.20368235287467223,\n",
       "  0.19617771017987584,\n",
       "  0.19328427513443577,\n",
       "  0.1915876650488305,\n",
       "  0.17657122688613025,\n",
       "  0.16256146384514042,\n",
       "  0.1603574565909281,\n",
       "  0.15165764084192068,\n",
       "  0.1441905728569389,\n",
       "  0.140395777592129,\n",
       "  0.1387736543836999,\n",
       "  0.1284338453096985,\n",
       "  0.12007365275700241,\n",
       "  0.10483027232260722,\n",
       "  0.10114291378025686,\n",
       "  0.0982814400525338,\n",
       "  0.09354420186302577,\n",
       "  0.08660617807358044,\n",
       "  0.07677499392715896,\n",
       "  0.07073600938596733,\n",
       "  0.06445943701315457,\n",
       "  0.056112110359531696,\n",
       "  0.04665979098509578,\n",
       "  0.03987860129317756,\n",
       "  0.03339479901570554,\n",
       "  0.029629656878894697,\n",
       "  0.028684232234950882,\n",
       "  0.026887184552845847,\n",
       "  0.022970868925788757,\n",
       "  0.01216192591528595,\n",
       "  0.0061110954315913525,\n",
       "  0.003073192639590261]}"
      ]
     },
     "execution_count": 60,
     "metadata": {},
     "output_type": "execute_result"
    }
   ],
   "source": [
    "features"
   ]
  },
  {
   "cell_type": "code",
   "execution_count": 61,
   "id": "naked-dollar",
   "metadata": {},
   "outputs": [
    {
     "data": {
      "text/plain": [
       "1.5707963267948966"
      ]
     },
     "execution_count": 61,
     "metadata": {},
     "output_type": "execute_result"
    }
   ],
   "source": [
    "np.pi/2"
   ]
  },
  {
   "cell_type": "code",
   "execution_count": null,
   "id": "sudden-civilian",
   "metadata": {},
   "outputs": [],
   "source": []
  }
 ],
 "metadata": {
  "kernelspec": {
   "display_name": "Python 3",
   "language": "python",
   "name": "python3"
  },
  "language_info": {
   "codemirror_mode": {
    "name": "ipython",
    "version": 3
   },
   "file_extension": ".py",
   "mimetype": "text/x-python",
   "name": "python",
   "nbconvert_exporter": "python",
   "pygments_lexer": "ipython3",
   "version": "3.8.3"
  }
 },
 "nbformat": 4,
 "nbformat_minor": 5
}
