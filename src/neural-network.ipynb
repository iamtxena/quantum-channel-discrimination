{
 "cells": [
  {
   "cell_type": "markdown",
   "id": "honest-there",
   "metadata": {},
   "source": [
    "# Playing with Reinforcement Learning Neural Networks"
   ]
  },
  {
   "cell_type": "code",
   "execution_count": 1,
   "id": "mineral-gamma",
   "metadata": {},
   "outputs": [],
   "source": [
    "import numpy as np\n",
    "import random\n",
    "import itertools\n",
    "import math\n",
    "import time\n",
    "from typing import Optional, Tuple, cast, List, Dict"
   ]
  },
  {
   "cell_type": "markdown",
   "id": "potential-tonight",
   "metadata": {},
   "source": [
    "## General auxiliary functions"
   ]
  },
  {
   "cell_type": "code",
   "execution_count": 2,
   "id": "aging-shanghai",
   "metadata": {},
   "outputs": [],
   "source": [
    "def get_combinations_two_etas_without_repeats_from_etas(angles_etas: List[float]) -> List[Tuple[float, float]]:\n",
    "    \"\"\" from a given list of attenuations factors create a\n",
    "        list of all combinatorial pairs of possible etas\n",
    "        without repeats\n",
    "        For us it is the same testing first eta 0.1 and second eta 0.2\n",
    "        than first eta 0.2 and second eta 0.1\n",
    "        Though, we will always put the greater value as the first pair element\n",
    "    \"\"\"\n",
    "    # when there is only one element, we add the same element\n",
    "    if len(angles_etas) == 1:\n",
    "        angles_etas.append(angles_etas[0])\n",
    "    # get combinations of two etas without repeats\n",
    "    eta_pairs = list(itertools.combinations(angles_etas, 2))\n",
    "\n",
    "    return reorder_pairs(eta_pairs)"
   ]
  },
  {
   "cell_type": "code",
   "execution_count": 3,
   "id": "guilty-heating",
   "metadata": {},
   "outputs": [],
   "source": [
    "def reorder_pairs(pairs: List[Tuple[float, float]]) -> List[Tuple[float, float]]:\n",
    "    \"\"\" reorder received pairs setting first the element of the tuple\n",
    "        as greater or equal de second one\n",
    "    \"\"\"\n",
    "    reordered_pairs = pairs\n",
    "    for idx, pair in enumerate(pairs):\n",
    "        reordered_pairs[idx] = reorder_pair(pair)\n",
    "    return reordered_pairs"
   ]
  },
  {
   "cell_type": "code",
   "execution_count": 4,
   "id": "allied-equation",
   "metadata": {},
   "outputs": [],
   "source": [
    "def reorder_pair(pair: Tuple[float, float]) -> Tuple[float, float]:\n",
    "    if pair[0] < pair[1]:\n",
    "        return (pair[1], pair[0])\n",
    "    return pair"
   ]
  },
  {
   "cell_type": "markdown",
   "id": "smoking-mistress",
   "metadata": {},
   "source": [
    "## Setting the input variables (features)"
   ]
  },
  {
   "cell_type": "code",
   "execution_count": 35,
   "id": "liberal-wheel",
   "metadata": {},
   "outputs": [],
   "source": [
    "def get_entangled_ys(num_etas_to_be_split: int)-> Tuple[List[float], Tuple[int, int, int]]:\n",
    "    etas = np.append(np.arange(0, np.pi/2, np.pi/2/num_etas_to_be_split), np.pi/2)\n",
    "    eta_pairs = get_combinations_two_etas_without_repeats_from_etas(etas)\n",
    "    gammas = [np.cos(eta_pair[1]) + np.cos(eta_pair[0]) for eta_pair in eta_pairs]\n",
    "    theoretical_ys = [(gamma-1)/(gamma-2) for gamma in gammas] \n",
    "    entangled_ys = [theoretical_y for theoretical_y in theoretical_ys if theoretical_y > 0]\n",
    "    entangled_ys.sort()\n",
    "    entangled_ys.reverse()\n",
    "    return (entangled_ys, (len(entangled_ys), max(entangled_ys), min(entangled_ys)))"
   ]
  },
  {
   "cell_type": "code",
   "execution_count": 36,
   "id": "existing-amateur",
   "metadata": {},
   "outputs": [],
   "source": [
    "result = get_entangled_ys(20)"
   ]
  },
  {
   "cell_type": "code",
   "execution_count": 38,
   "id": "above-aviation",
   "metadata": {},
   "outputs": [
    {
     "data": {
      "text/plain": [
       "(59, 0.47958432850599036, 0.003073192639590261)"
      ]
     },
     "execution_count": 38,
     "metadata": {},
     "output_type": "execute_result"
    }
   ],
   "source": [
    "result[1]"
   ]
  },
  {
   "cell_type": "code",
   "execution_count": 39,
   "id": "exciting-monitor",
   "metadata": {},
   "outputs": [],
   "source": [
    "features = { 'amplitude_probability': (0, 1),\n",
    "            'rx_angle': (0, 2*np.pi),\n",
    "            'ry_angle': (0, 2*np.pi),\n",
    "            'measurement': ('00', '01', '10', '11'),\n",
    "            'entangled_ys': get_entangled_ys(num_etas_to_be_split=20)[0]}"
   ]
  },
  {
   "cell_type": "code",
   "execution_count": 40,
   "id": "chicken-recording",
   "metadata": {},
   "outputs": [
    {
     "data": {
      "text/plain": [
       "{'amplitude_probability': (0, 1),\n",
       " 'rx_angle': (0, 6.283185307179586),\n",
       " 'ry_angle': (0, 6.283185307179586),\n",
       " 'measurement': ('00', '01', '10', '11'),\n",
       " 'entangled_ys': [0.47958432850599036,\n",
       "  0.457572849439376,\n",
       "  0.43392636743875274,\n",
       "  0.4334619274092364,\n",
       "  0.4086280011842216,\n",
       "  0.4076164671619115,\n",
       "  0.38169185921198207,\n",
       "  0.3798541566656544,\n",
       "  0.37892834463751757,\n",
       "  0.35317344438599374,\n",
       "  0.35016723884069223,\n",
       "  0.34834254273970594,\n",
       "  0.32318170654923994,\n",
       "  0.31859239934012057,\n",
       "  0.3154820651003284,\n",
       "  0.313911372617308,\n",
       "  0.2918923969436534,\n",
       "  0.2852253489932173,\n",
       "  0.28035552262097296,\n",
       "  0.2773894006398492,\n",
       "  0.25956198962683025,\n",
       "  0.25023747901970733,\n",
       "  0.2430361045091931,\n",
       "  0.23813246738612076,\n",
       "  0.2356490665908845,\n",
       "  0.22654091966098633,\n",
       "  0.21389386369950902,\n",
       "  0.20368235287467223,\n",
       "  0.19617771017987584,\n",
       "  0.19328427513443577,\n",
       "  0.1915876650488305,\n",
       "  0.17657122688613025,\n",
       "  0.16256146384514042,\n",
       "  0.1603574565909281,\n",
       "  0.15165764084192068,\n",
       "  0.1441905728569389,\n",
       "  0.140395777592129,\n",
       "  0.1387736543836999,\n",
       "  0.1284338453096985,\n",
       "  0.12007365275700241,\n",
       "  0.10483027232260722,\n",
       "  0.10114291378025686,\n",
       "  0.0982814400525338,\n",
       "  0.09354420186302577,\n",
       "  0.08660617807358044,\n",
       "  0.07677499392715896,\n",
       "  0.07073600938596733,\n",
       "  0.06445943701315457,\n",
       "  0.056112110359531696,\n",
       "  0.04665979098509578,\n",
       "  0.03987860129317756,\n",
       "  0.03339479901570554,\n",
       "  0.029629656878894697,\n",
       "  0.028684232234950882,\n",
       "  0.026887184552845847,\n",
       "  0.022970868925788757,\n",
       "  0.01216192591528595,\n",
       "  0.0061110954315913525,\n",
       "  0.003073192639590261]}"
      ]
     },
     "execution_count": 40,
     "metadata": {},
     "output_type": "execute_result"
    }
   ],
   "source": [
    "features"
   ]
  },
  {
   "cell_type": "code",
   "execution_count": null,
   "id": "several-alert",
   "metadata": {},
   "outputs": [],
   "source": []
  }
 ],
 "metadata": {
  "kernelspec": {
   "display_name": "Python 3",
   "language": "python",
   "name": "python3"
  },
  "language_info": {
   "codemirror_mode": {
    "name": "ipython",
    "version": 3
   },
   "file_extension": ".py",
   "mimetype": "text/x-python",
   "name": "python",
   "nbconvert_exporter": "python",
   "pygments_lexer": "ipython3",
   "version": "3.8.3"
  }
 },
 "nbformat": 4,
 "nbformat_minor": 5
}
