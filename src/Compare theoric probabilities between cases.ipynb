{
 "cells": [
  {
   "cell_type": "markdown",
   "id": "contrary-overall",
   "metadata": {},
   "source": [
    "# Print probabilities from results"
   ]
  },
  {
   "cell_type": "code",
   "execution_count": 1,
   "id": "improving-offer",
   "metadata": {},
   "outputs": [],
   "source": [
    "import math\n",
    "import random\n",
    "import numpy as np\n",
    "from numpy import pi\n",
    "import itertools\n",
    "import matplotlib.pyplot as plt\n",
    "import pickle"
   ]
  },
  {
   "cell_type": "markdown",
   "id": "convinced-script",
   "metadata": {},
   "source": [
    "# Expected results\n",
    "## What the theoric results from the paper are?\n",
    "The following functions allow to prepare a matrix in the same shape the arrays simulated to compare against later."
   ]
  },
  {
   "cell_type": "code",
   "execution_count": 2,
   "id": "neutral-jumping",
   "metadata": {},
   "outputs": [],
   "source": [
    "def get_combinations_two_etas_without_repeats(input_list_lambda):\n",
    "    \"\"\" from a given list of attenuations (lambdas) create a \n",
    "        list of all combinatorial pairs of possible lambdas\n",
    "        without repeats (order does not matter).\n",
    "        For us it is the same testing first lambda 0.1 and second lambda 0.2 \n",
    "        than first lambda 0.2 and second lambda 0.1\n",
    "    \"\"\"\n",
    "    list_lambda = input_list_lambda\n",
    "     # when there is only one element, we add the same element\n",
    "    if len(list_lambda) == 1:\n",
    "        list_lambda.append(list_lambda[0])\n",
    "    # get combinations of two lambdas without repeats\n",
    "    return list(itertools.combinations(list_lambda, 2))"
   ]
  },
  {
   "cell_type": "markdown",
   "id": "subtle-property",
   "metadata": {},
   "source": [
    "Here a result is computed to be operated in the same way that info from simulations."
   ]
  },
  {
   "cell_type": "code",
   "execution_count": 3,
   "id": "characteristic-hopkins",
   "metadata": {},
   "outputs": [
    {
     "name": "stdout",
     "output_type": "stream",
     "text": [
      "Starting the execution\n",
      "Total pair of etas calculated: 210\n"
     ]
    }
   ],
   "source": [
    "# create the channels to be used\n",
    "# from 0 to pi/2 in steps of 0.1, and adding the 1 as the last value\n",
    "etas = np.append(np.arange(0, pi/2, pi/2/20), pi/2)\n",
    "\n",
    "two_pair_etas = get_combinations_two_etas_without_repeats(etas)\n",
    "probabilities = []\n",
    "configurations = []\n",
    "best_algorithm = ['THEORY']\n",
    "\n",
    "#program_start_time = time.time()\n",
    "print(\"Starting the execution\")\n",
    "\n",
    "for eta_pair in two_pair_etas:\n",
    "    GLOBAL_LAMBDA1=eta_pair[0]\n",
    "    GLOBAL_LAMBDA0=eta_pair[1]\n",
    "    Gamma = np.cos(GLOBAL_LAMBDA1) + np.cos(GLOBAL_LAMBDA0)\n",
    "    if Gamma < 1/np.sqrt(2):\n",
    "        best_probability = 1/2 + 1/4*(np.cos(GLOBAL_LAMBDA1) - np.cos(GLOBAL_LAMBDA0))/np.sqrt(1-Gamma*Gamma)\n",
    "        best_configuration = np.sqrt(1/(2 - 2 * Gamma * Gamma))\n",
    "    else:\n",
    "        best_probability = 1/2 * (np.sin(GLOBAL_LAMBDA0)*np.sin(GLOBAL_LAMBDA0) + np.cos(GLOBAL_LAMBDA1)*np.cos(GLOBAL_LAMBDA1))\n",
    "        best_configuration = 1\n",
    "    probabilities.append(best_probability)\n",
    "    configurations.append(best_configuration)\n",
    "    best_algorithm.append('THEORY')\n",
    "\n",
    "print(f'Total pair of etas calculated: {len(two_pair_etas)}')\n",
    "\n",
    "theoric_result1 = {\n",
    "    \"eta_pairs\": two_pair_etas,\n",
    "    \"best_algorithm\": best_algorithm,\n",
    "    \"probabilities\": probabilities,\n",
    "    \"configurations\": configurations\n",
    "}"
   ]
  },
  {
   "cell_type": "code",
   "execution_count": 5,
   "id": "committed-waters",
   "metadata": {},
   "outputs": [
    {
     "data": {
      "image/png": "[encoded data removed]",
      "text/plain": [
       "<Figure size 432x288 with 2 Axes>"
      ]
     },
     "metadata": {
      "needs_background": "light"
     },
     "output_type": "display_data"
    }
   ],
   "source": [
    "X3 = []\n",
    "for eta_pair in theoric_result1['eta_pairs']:\n",
    "    X3.append((eta_pair[1]))\n",
    "    X3.append((eta_pair[0]))\n",
    "X3 = sorted(list(dict.fromkeys(X3)))\n",
    "lenx3 = len(X3)\n",
    "probs3 = np.zeros((lenx3,lenx3))\n",
    "values3 = list(theoric_result1.values())\n",
    "for ind_prob in range(len(values3[2])):\n",
    "    ind_0 = X3.index(theoric_result1['eta_pairs'][ind_prob][0])\n",
    "    ind_1 = X3.index(theoric_result1['eta_pairs'][ind_prob][1])\n",
    "    probs3[ind_1, ind_0]= values3[2][ind_prob]\n",
    "for i in range(len(X3)):\n",
    "    probs3[i, i]= 0.5   \n",
    "\n",
    "\n",
    "fig = plt.figure('Probabilities from simulation')\n",
    "ax1 = fig.add_subplot(111)\n",
    "im = ax1.imshow(probs3, cmap='viridis', extent =(0, 90, 90, 0))\n",
    "cb = plt.colorbar(im, label = 'Probabilities value')\n",
    "ax1.set_xlabel('Channel 0 (angle Eta)')\n",
    "ax1.set_ylabel('Channel 1 (angle Eta)')\n",
    "\n",
    "plt.show()"
   ]
  },
  {
   "cell_type": "code",
   "execution_count": 6,
   "id": "subtle-patrol",
   "metadata": {},
   "outputs": [
    {
     "name": "stdout",
     "output_type": "stream",
     "text": [
      "Starting the execution\n",
      "Total pair of etas calculated: 210\n"
     ]
    }
   ],
   "source": [
    "# create the channels to be used\n",
    "# from 0 to pi/2 in steps of 0.1, and adding the 1 as the last value\n",
    "etas = np.append(np.arange(0, pi/2, pi/2/20), pi/2)\n",
    "two_pair_etas = get_combinations_two_etas_without_repeats(etas)\n",
    "    \n",
    "probabilities = []\n",
    "configurations = []\n",
    "improvements = []\n",
    "best_algorithm = ['THEORY']\n",
    "\n",
    "#program_start_time = time.time()\n",
    "print(\"Starting the execution\")\n",
    "\n",
    "for eta_pair in two_pair_etas:\n",
    "    GLOBAL_LAMBDA0=eta_pair[1]\n",
    "    GLOBAL_LAMBDA1=eta_pair[0]\n",
    "    Gamma = np.cos(GLOBAL_LAMBDA1) + np.cos(GLOBAL_LAMBDA0)\n",
    "    Y_= (Gamma-1)/(Gamma-2)\n",
    "    if Y_ > 0:\n",
    "        best_probability = 1/4*(np.cos(GLOBAL_LAMBDA1) - np.cos(GLOBAL_LAMBDA0))*((1 - Y_)*Gamma + np.sqrt((1 - Y_)*(4*Y_ + (1 - Y_)*Gamma*Gamma)))+1/2\n",
    "        improvement = 1/4*(np.cos(GLOBAL_LAMBDA1) - np.cos(GLOBAL_LAMBDA0))*((1 - Y_)*Gamma + np.sqrt((1 - Y_)*(4*Y_ + (1 - Y_)*Gamma*Gamma))) - 1/2*Gamma*(np.cos(GLOBAL_LAMBDA1) - np.cos(GLOBAL_LAMBDA0))\n",
    "    else:\n",
    "        best_probability = 1/2*Gamma*(np.cos(GLOBAL_LAMBDA1) - np.cos(GLOBAL_LAMBDA0))+1/2\n",
    "        improvement = 0\n",
    "    best_configuration = max(0, Y_)\n",
    "    probabilities.append(best_probability)\n",
    "    configurations.append(best_configuration)\n",
    "    improvements.append(improvement)\n",
    "    best_algorithm.append('THEORY')\n",
    "\n",
    "print(f'Total pair of etas calculated: {len(two_pair_etas)}')\n",
    "\n",
    "theoric_result2 = {\n",
    "    \"eta_pairs\": two_pair_etas,\n",
    "    \"best_algorithm\": best_algorithm,\n",
    "    \"probabilities\": probabilities,\n",
    "    \"configurations\": configurations,\n",
    "    \"improvements\": improvements\n",
    "}"
   ]
  },
  {
   "cell_type": "code",
   "execution_count": 8,
   "id": "earlier-swedish",
   "metadata": {},
   "outputs": [
    {
     "data": {
      "image/png": "[encoded data removed]",
      "text/plain": [
       "<Figure size 432x288 with 2 Axes>"
      ]
     },
     "metadata": {
      "needs_background": "light"
     },
     "output_type": "display_data"
    }
   ],
   "source": [
    "X3 = []\n",
    "for eta_pair in theoric_result2['eta_pairs']:\n",
    "    X3.append((eta_pair[1]))\n",
    "    X3.append((eta_pair[0]))\n",
    "X3 = sorted(list(dict.fromkeys(X3)))\n",
    "lenx3 = len(X3)\n",
    "probs4 = np.zeros((lenx3,lenx3))\n",
    "values3 = list(theoric_result2.values())\n",
    "for ind_prob in range(len(values3[2])):\n",
    "    ind_0 = X3.index(theoric_result2['eta_pairs'][ind_prob][0])\n",
    "    ind_1 = X3.index(theoric_result2['eta_pairs'][ind_prob][1])\n",
    "    probs4[ind_1, ind_0]= values3[2][ind_prob]\n",
    "for i in range(len(X3)):\n",
    "    probs4[i, i]= 0.5   \n",
    "\n",
    "\n",
    "fig = plt.figure('Probabilities from simulation')\n",
    "ax1 = fig.add_subplot(111)\n",
    "im = ax1.imshow(probs4, cmap='viridis', extent =(0, 90, 90, 0))\n",
    "cb = plt.colorbar(im, label = 'Probabilities value')\n",
    "ax1.set_xlabel('Channel 0 (angle Eta)')\n",
    "ax1.set_ylabel('Channel 1 (angle Eta)')\n",
    "\n",
    "plt.show()"
   ]
  },
  {
   "cell_type": "markdown",
   "id": "combined-diagram",
   "metadata": {},
   "source": [
    "# Compare probabilities "
   ]
  },
  {
   "cell_type": "code",
   "execution_count": 9,
   "id": "printable-worker",
   "metadata": {},
   "outputs": [
    {
     "data": {
      "image/png": "[encoded data removed]",
      "text/plain": [
       "<Figure size 432x288 with 2 Axes>"
      ]
     },
     "metadata": {
      "needs_background": "light"
     },
     "output_type": "display_data"
    }
   ],
   "source": [
    "Delta_prob1= probs3 - probs4\n",
    "\n",
    "fig = plt.figure('Difference in Probabilities (simulation vs. theory')\n",
    "ax1 = fig.add_subplot(111)\n",
    "im = ax1.imshow(Delta_prob1, cmap='RdBu', extent =(0, 90, 90, 0), vmin=-0.2, vmax=0)\n",
    "cb = plt.colorbar(im, label = 'Probabilities Delta value')\n",
    "ax1.set_xlabel('Channel 0 (angle Eta)')\n",
    "ax1.set_ylabel('Channel 1 (angle Eta)')\n",
    "\n",
    "plt.show()\n"
   ]
  },
  {
   "cell_type": "markdown",
   "id": "classical-association",
   "metadata": {},
   "source": [
    " ## Simulation 1 vs theory in percentage"
   ]
  },
  {
   "cell_type": "code",
   "execution_count": 6,
   "id": "abstract-mirror",
   "metadata": {},
   "outputs": [
    {
     "ename": "NameError",
     "evalue": "name 'Delta_prob1' is not defined",
     "output_type": "error",
     "traceback": [
      "\u001b[0;31m---------------------------------------------------------------------------\u001b[0m",
      "\u001b[0;31mNameError\u001b[0m                                 Traceback (most recent call last)",
      "\u001b[0;32m<ipython-input-6-44fd90b93c58>\u001b[0m in \u001b[0;36m<module>\u001b[0;34m\u001b[0m\n\u001b[0;32m----> 1\u001b[0;31m \u001b[0mTotal_col\u001b[0m\u001b[0;34m,\u001b[0m \u001b[0mTotal_row\u001b[0m \u001b[0;34m=\u001b[0m \u001b[0mDelta_prob1\u001b[0m\u001b[0;34m.\u001b[0m\u001b[0mshape\u001b[0m\u001b[0;34m\u001b[0m\u001b[0;34m\u001b[0m\u001b[0m\n\u001b[0m\u001b[1;32m      2\u001b[0m \u001b[0mcol\u001b[0m\u001b[0;34m=\u001b[0m\u001b[0mTotal_col\u001b[0m\u001b[0;34m\u001b[0m\u001b[0;34m\u001b[0m\u001b[0m\n\u001b[1;32m      3\u001b[0m \u001b[0mDelta_Pc_prob1\u001b[0m\u001b[0;34m=\u001b[0m \u001b[0mnp\u001b[0m\u001b[0;34m.\u001b[0m\u001b[0mzeros\u001b[0m\u001b[0;34m(\u001b[0m\u001b[0;34m(\u001b[0m\u001b[0mTotal_col\u001b[0m\u001b[0;34m,\u001b[0m\u001b[0mTotal_row\u001b[0m\u001b[0;34m)\u001b[0m\u001b[0;34m)\u001b[0m\u001b[0;34m\u001b[0m\u001b[0;34m\u001b[0m\u001b[0m\n\u001b[1;32m      4\u001b[0m \u001b[0;32mwhile\u001b[0m \u001b[0mcol\u001b[0m \u001b[0;34m>\u001b[0m \u001b[0;36m0\u001b[0m\u001b[0;34m:\u001b[0m\u001b[0;34m\u001b[0m\u001b[0;34m\u001b[0m\u001b[0m\n\u001b[1;32m      5\u001b[0m     \u001b[0mrow\u001b[0m \u001b[0;34m=\u001b[0m \u001b[0mTotal_row\u001b[0m\u001b[0;34m\u001b[0m\u001b[0;34m\u001b[0m\u001b[0m\n",
      "\u001b[0;31mNameError\u001b[0m: name 'Delta_prob1' is not defined"
     ]
    }
   ],
   "source": [
    "Total_col, Total_row = Delta_prob1.shape\n",
    "col=Total_col\n",
    "Delta_Pc_prob1= np.zeros((Total_col,Total_row))\n",
    "while col > 0:\n",
    "    row = Total_row\n",
    "    while row > 0:\n",
    "        if probs3[row-1, col-1] == 0:\n",
    "            if Delta_prob1[row-1, col-1] == 0:\n",
    "                Delta_Pc_prob1[row-1, col-1]= 0\n",
    "            else:\n",
    "                Delta_Pc_prob1[row-1, col-1]= 10000\n",
    "        else:\n",
    "            Delta_Pc_prob1[row-1, col-1] = 100*Delta_prob1[row-1, col-1]/probs3[row-1, col-1]\n",
    "        row = row - 1\n",
    "    col = col - 1\n",
    "\n",
    "fig = plt.figure('Deviation in % from theoric probability (simulation vs. theory')\n",
    "ax1 = fig.add_subplot(111)\n",
    "im = ax1.imshow(Delta_Pc_prob1, cmap='RdBu', extent =(0, 90, 90, 0), vmin=-40, vmax=0)\n",
    "cb = plt.colorbar(im, label = 'Probabilities Delta (%)')\n",
    "ax1.set_xlabel('Channel 0 (angle Eta)')\n",
    "ax1.set_ylabel('Channel 1 (angle Eta)')\n",
    "\n",
    "plt.show()"
   ]
  },
  {
   "cell_type": "code",
   "execution_count": null,
   "id": "abandoned-techno",
   "metadata": {},
   "outputs": [],
   "source": []
  },
  {
   "cell_type": "code",
   "execution_count": null,
   "id": "alert-jerusalem",
   "metadata": {},
   "outputs": [],
   "source": []
  }
 ],
 "metadata": {
  "kernelspec": {
   "display_name": "Python 3",
   "language": "python",
   "name": "python3"
  },
  "language_info": {
   "codemirror_mode": {
    "name": "ipython",
    "version": 3
   },
   "file_extension": ".py",
   "mimetype": "text/x-python",
   "name": "python",
   "nbconvert_exporter": "python",
   "pygments_lexer": "ipython3",
   "version": "3.9.1"
  }
 },
 "nbformat": 4,
 "nbformat_minor": 5
}
