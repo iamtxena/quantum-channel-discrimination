{
 "cells": [
  {
   "cell_type": "markdown",
   "id": "public-potter",
   "metadata": {
    "toc": true
   },
   "source": [
    "<h1>Table of Contents<span class=\"tocSkip\"></span></h1>\n",
    "<div class=\"toc\"><ul class=\"toc-item\"><li><span><a href=\"#Variables-to-control\" data-toc-modified-id=\"Variables-to-control-1\"><span class=\"toc-item-num\">1&nbsp;&nbsp;</span>Variables to control</a></span></li><li><span><a href=\"#Load-and-plot-results\" data-toc-modified-id=\"Load-and-plot-results-2\"><span class=\"toc-item-num\">2&nbsp;&nbsp;</span>Load and plot results</a></span></li></ul></div>"
   ]
  },
  {
   "cell_type": "markdown",
   "id": "loaded-bloom",
   "metadata": {},
   "source": [
    "# Validate 3 channels optimal configuration results"
   ]
  },
  {
   "cell_type": "code",
   "execution_count": 1,
   "id": "neutral-board",
   "metadata": {},
   "outputs": [],
   "source": [
    "import os,sys,inspect\n",
    "currentdir = os.path.dirname(os.path.abspath(inspect.getfile(inspect.currentframe())))\n",
    "parentdir = os.path.dirname(currentdir)\n",
    "sys.path.insert(0,parentdir) \n",
    "\n",
    "from qcd.optimizationresults import GlobalOptimizationResultsFullUniversal"
   ]
  },
  {
   "cell_type": "markdown",
   "id": "superior-hierarchy",
   "metadata": {},
   "source": [
    "## Variables to control"
   ]
  },
  {
   "cell_type": "code",
   "execution_count": 2,
   "id": "vertical-donna",
   "metadata": {},
   "outputs": [],
   "source": [
    "# Filenames with results for 3 etas and their optimized parameters to LOAD\n",
    "filename = '20210423a_C2c_A1_2000_10000_3_6_20'\n",
    "path = 'results/'"
   ]
  },
  {
   "cell_type": "markdown",
   "id": "requested-riverside",
   "metadata": {},
   "source": [
    "## Load and plot results"
   ]
  },
  {
   "cell_type": "code",
   "execution_count": 3,
   "id": "important-spotlight",
   "metadata": {},
   "outputs": [],
   "source": [
    "results = GlobalOptimizationResultsFullUniversal.load_results(file_name=filename,path=path)"
   ]
  },
  {
   "cell_type": "code",
   "execution_count": 4,
   "id": "casual-hacker",
   "metadata": {},
   "outputs": [
    {
     "name": "stdout",
     "output_type": "stream",
     "text": [
      "number of eta groups to validate: 120\n",
      "Going to validate this eta group: (0, 29, 0)\n",
      "Optimal Probability: 42.1% Validated Probability: 41.65 % Difference (absolute value): 0.45%\n",
      "Group of etas # 0 of 120\n",
      "total time taken so far: 0 minutes and 0 seconds\n",
      "Going to validate this eta group: (0, 59, 0)\n",
      "Optimal Probability: 58.92% Validated Probability: 58.29 % Difference (absolute value): 0.63%\n",
      "Group of etas # 20 of 120\n",
      "total time taken so far: 0 minutes and 10 seconds\n",
      "Going to validate this eta group: (0, 90, 0)\n",
      "Optimal Probability: 66.66% Validated Probability: 66.64 % Difference (absolute value): 0.02%\n",
      "Group of etas # 40 of 120\n",
      "total time taken so far: 0 minutes and 20 seconds\n",
      "Going to validate this eta group: (29, 59, 0)\n",
      "Optimal Probability: 58.67% Validated Probability: 58.32 % Difference (absolute value): 0.35%\n",
      "Group of etas # 60 of 120\n",
      "total time taken so far: 0 minutes and 31 seconds\n",
      "Going to validate this eta group: (29, 90, 0)\n",
      "Optimal Probability: 66.62% Validated Probability: 66.61 % Difference (absolute value): 0.02%\n",
      "Group of etas # 80 of 120\n",
      "total time taken so far: 0 minutes and 42 seconds\n",
      "Going to validate this eta group: (59, 90, 0)\n",
      "Optimal Probability: 65.02% Validated Probability: 65.05 % Difference (absolute value): -0.03%\n",
      "Group of etas # 100 of 120\n",
      "total time taken so far: 0 minutes and 52 seconds\n",
      "total minutes of validation in time: 1\n",
      "Probability differences --> MAX: 0.63% , MIN: -0.31%\n"
     ]
    }
   ],
   "source": [
    "results.validate_optimal_configurations(plays=100000)"
   ]
  },
  {
   "cell_type": "code",
   "execution_count": null,
   "id": "tracked-termination",
   "metadata": {},
   "outputs": [],
   "source": []
  }
 ],
 "metadata": {
  "kernelspec": {
   "display_name": "Python 3",
   "language": "python",
   "name": "python3"
  },
  "language_info": {
   "codemirror_mode": {
    "name": "ipython",
    "version": 3
   },
   "file_extension": ".py",
   "mimetype": "text/x-python",
   "name": "python",
   "nbconvert_exporter": "python",
   "pygments_lexer": "ipython3",
   "version": "3.8.3"
  },
  "toc": {
   "base_numbering": 1,
   "nav_menu": {},
   "number_sections": true,
   "sideBar": true,
   "skip_h1_title": true,
   "title_cell": "Table of Contents",
   "title_sidebar": "Contents",
   "toc_cell": true,
   "toc_position": {},
   "toc_section_display": true,
   "toc_window_display": false
  }
 },
 "nbformat": 4,
 "nbformat_minor": 5
}
