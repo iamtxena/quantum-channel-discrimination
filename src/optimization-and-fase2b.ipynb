{
 "cells": [
  {
   "cell_type": "markdown",
   "id": "seeing-desire",
   "metadata": {},
   "source": [
    "# Compute the average probabilities with the optimal configurations (Phase 2b)"
   ]
  },
  {
   "cell_type": "code",
   "execution_count": 8,
   "id": "bizarre-length",
   "metadata": {},
   "outputs": [],
   "source": [
    "import os,sys,inspect\n",
    "currentdir = os.path.dirname(os.path.abspath(inspect.getfile(inspect.currentframe())))\n",
    "parentdir = os.path.dirname(currentdir)\n",
    "sys.path.insert(0,parentdir) \n",
    "\n",
    "from qcd.dampingchannels import OneShotDampingChannel\n",
    "from qcd.optimizationresults import GlobalOptimizationResults\n",
    "from qcd import save_object_to_disk\n",
    "import numpy as np\n",
    "from numpy import pi"
   ]
  },
  {
   "cell_type": "code",
   "execution_count": 2,
   "id": "saving-messaging",
   "metadata": {},
   "outputs": [],
   "source": [
    "# optimizer_algorithms = ['CRS', 'DIRECT_L', 'DIRECT_L_RAND', 'ESCH', 'ISRES']\n",
    "# optimizer_iterations=[1000, 1000, 1000, 1000, 1000]\n",
    "# attenuation_factors = np.append(np.arange(0, 1, 0.5), 1)"
   ]
  },
  {
   "cell_type": "code",
   "execution_count": 3,
   "id": "prerequisite-inspection",
   "metadata": {},
   "outputs": [],
   "source": [
    "optimization_setup = { 'optimizer_algorithms': ['L_BFGS_B'],\n",
    "                        'optimizer_iterations': [10],\n",
    "                        'attenuation_angles': np.append(np.arange(0, pi/2, pi/2/5), pi/2),\n",
    "                        'initial_parameters': [0, 0, 0],\n",
    "                        'variable_bounds': [(0, 1),   # amplitude_probability\n",
    "                                            (0, 2*pi),  # rx\n",
    "                                            (0, 2*pi)], # ry\n",
    "                        'plays': 50}"
   ]
  },
  {
   "cell_type": "code",
   "execution_count": 4,
   "id": "capable-dealing",
   "metadata": {},
   "outputs": [
    {
     "name": "stdout",
     "output_type": "stream",
     "text": [
      "number of eta_pairs_idx_to_optimize: 15 -> [0, 1, 2, 3, 4, 5, 6, 7, 8, 9, 10, 11, 12, 13, 14]\n",
      "Starting the execution\n",
      "Analyzing Optimizer Algorithm:  L_BFGS_B\n",
      "Best Average Probability: 0.45999999999999996\n",
      "Final Best Optimizer Algorithm:  L_BFGS_B\n",
      "Final Best Average Probability: 0.45999999999999996\n",
      "Number of cost function calls made: 64\n",
      "Parameters Found: state_probability =  = 0.0, ϕrx = 0°, ϕry = 0°, η₀ = 18°, η₁ = 0°\n",
      "total minutes taken this pair of etas:  0\n",
      "total minutes taken so far:  0\n",
      "Analyzing Optimizer Algorithm:  L_BFGS_B\n",
      "Best Average Probability: 0.54\n",
      "Final Best Optimizer Algorithm:  L_BFGS_B\n",
      "Final Best Average Probability: 0.54\n",
      "Number of cost function calls made: 64\n",
      "Parameters Found: state_probability =  = 7.894568671936956e-07, ϕrx = 0°, ϕry = 0°, η₀ = 36°, η₁ = 0°\n",
      "total minutes taken this pair of etas:  0\n",
      "total minutes taken so far:  1\n",
      "Analyzing Optimizer Algorithm:  L_BFGS_B\n",
      "Best Average Probability: 0.54\n",
      "Final Best Optimizer Algorithm:  L_BFGS_B\n",
      "Final Best Average Probability: 0.54\n",
      "Number of cost function calls made: 48\n",
      "Parameters Found: state_probability =  = 1.101032091679315e-06, ϕrx = 0°, ϕry = 0°, η₀ = 54°, η₁ = 0°\n",
      "total minutes taken this pair of etas:  0\n",
      "total minutes taken so far:  1\n",
      "Analyzing Optimizer Algorithm:  L_BFGS_B\n",
      "Best Average Probability: 0.54\n",
      "Final Best Optimizer Algorithm:  L_BFGS_B\n",
      "Final Best Average Probability: 0.54\n",
      "Number of cost function calls made: 84\n",
      "Parameters Found: state_probability =  = 0.0, ϕrx = 0°, ϕry = 0°, η₀ = 72°, η₁ = 0°\n",
      "total minutes taken this pair of etas:  0\n",
      "total minutes taken so far:  1\n",
      "Analyzing Optimizer Algorithm:  L_BFGS_B\n",
      "Best Average Probability: 0.48\n",
      "Final Best Optimizer Algorithm:  L_BFGS_B\n",
      "Final Best Average Probability: 0.48\n",
      "Number of cost function calls made: 64\n",
      "Parameters Found: state_probability =  = 1.1892220643371733e-07, ϕrx = 0°, ϕry = 0°, η₀ = 90°, η₁ = 0°\n",
      "total minutes taken this pair of etas:  0\n",
      "total minutes taken so far:  2\n",
      "Analyzing Optimizer Algorithm:  L_BFGS_B\n",
      "Best Average Probability: 0.52\n",
      "Final Best Optimizer Algorithm:  L_BFGS_B\n",
      "Final Best Average Probability: 0.52\n",
      "Number of cost function calls made: 60\n",
      "Parameters Found: state_probability =  = 4.743112078442808e-06, ϕrx = 0°, ϕry = 0°, η₀ = 36°, η₁ = 18°\n",
      "total minutes taken this pair of etas:  0\n",
      "total minutes taken so far:  2\n",
      "Analyzing Optimizer Algorithm:  L_BFGS_B\n",
      "Best Average Probability: 0.48\n",
      "Final Best Optimizer Algorithm:  L_BFGS_B\n",
      "Final Best Average Probability: 0.48\n",
      "Number of cost function calls made: 56\n",
      "Parameters Found: state_probability =  = 4.753132278728743e-07, ϕrx = 0°, ϕry = 0°, η₀ = 54°, η₁ = 18°\n",
      "total minutes taken this pair of etas:  0\n",
      "total minutes taken so far:  3\n",
      "Analyzing Optimizer Algorithm:  L_BFGS_B\n",
      "Best Average Probability: 0.6\n",
      "Final Best Optimizer Algorithm:  L_BFGS_B\n",
      "Final Best Average Probability: 0.6\n",
      "Number of cost function calls made: 84\n",
      "Parameters Found: state_probability =  = 0.0, ϕrx = 0°, ϕry = 0°, η₀ = 72°, η₁ = 18°\n",
      "total minutes taken this pair of etas:  0\n",
      "total minutes taken so far:  3\n",
      "Analyzing Optimizer Algorithm:  L_BFGS_B\n",
      "Best Average Probability: 0.52\n",
      "Final Best Optimizer Algorithm:  L_BFGS_B\n",
      "Final Best Average Probability: 0.52\n",
      "Number of cost function calls made: 60\n",
      "Parameters Found: state_probability =  = 1.8303541228193895e-07, ϕrx = 0°, ϕry = 0°, η₀ = 90°, η₁ = 18°\n",
      "total minutes taken this pair of etas:  0\n",
      "total minutes taken so far:  3\n",
      "Analyzing Optimizer Algorithm:  L_BFGS_B\n",
      "Best Average Probability: 0.64\n",
      "Final Best Optimizer Algorithm:  L_BFGS_B\n",
      "Final Best Average Probability: 0.64\n",
      "Number of cost function calls made: 4\n",
      "Parameters Found: state_probability =  = 0.0, ϕrx = 0°, ϕry = 0°, η₀ = 54°, η₁ = 36°\n",
      "total minutes taken this pair of etas:  0\n",
      "total minutes taken so far:  3\n",
      "Analyzing Optimizer Algorithm:  L_BFGS_B\n",
      "Best Average Probability: 0.52\n",
      "Final Best Optimizer Algorithm:  L_BFGS_B\n",
      "Final Best Average Probability: 0.52\n",
      "Number of cost function calls made: 60\n",
      "Parameters Found: state_probability =  = 0.0, ϕrx = 0°, ϕry = 0°, η₀ = 72°, η₁ = 36°\n",
      "total minutes taken this pair of etas:  0\n",
      "total minutes taken so far:  4\n",
      "Analyzing Optimizer Algorithm:  L_BFGS_B\n",
      "Best Average Probability: 0.56\n",
      "Final Best Optimizer Algorithm:  L_BFGS_B\n",
      "Final Best Average Probability: 0.56\n",
      "Number of cost function calls made: 72\n",
      "Parameters Found: state_probability =  = 6.223732743578446e-08, ϕrx = 0°, ϕry = 0°, η₀ = 90°, η₁ = 36°\n",
      "total minutes taken this pair of etas:  1\n",
      "total minutes taken so far:  4\n",
      "Analyzing Optimizer Algorithm:  L_BFGS_B\n",
      "Best Average Probability: 0.56\n",
      "Final Best Optimizer Algorithm:  L_BFGS_B\n",
      "Final Best Average Probability: 0.56\n",
      "Number of cost function calls made: 64\n",
      "Parameters Found: state_probability =  = 2.156091704532429e-07, ϕrx = 0°, ϕry = 0°, η₀ = 72°, η₁ = 54°\n",
      "total minutes taken this pair of etas:  0\n",
      "total minutes taken so far:  5\n",
      "Analyzing Optimizer Algorithm:  L_BFGS_B\n",
      "Best Average Probability: 0.54\n",
      "Final Best Optimizer Algorithm:  L_BFGS_B\n",
      "Final Best Average Probability: 0.54\n",
      "Number of cost function calls made: 84\n",
      "Parameters Found: state_probability =  = 0.0, ϕrx = 0°, ϕry = 0°, η₀ = 90°, η₁ = 54°\n",
      "total minutes taken this pair of etas:  1\n",
      "total minutes taken so far:  5\n",
      "Analyzing Optimizer Algorithm:  L_BFGS_B\n",
      "Best Average Probability: 0.58\n",
      "Final Best Optimizer Algorithm:  L_BFGS_B\n",
      "Final Best Average Probability: 0.58\n",
      "Number of cost function calls made: 56\n",
      "Parameters Found: state_probability =  = 4.794954726003228e-09, ϕrx = 0°, ϕry = 0°, η₀ = 90°, η₁ = 72°\n",
      "total minutes taken this pair of etas:  0\n",
      "total minutes taken so far:  5\n",
      "total minutes of execution time:  5\n",
      "Number eta pairs optimized: 15from the total eta pairs: 15 \n"
     ]
    }
   ],
   "source": [
    "optimal_configurations = OneShotDampingChannel.find_optimal_configurations(optimization_setup=optimization_setup)"
   ]
  },
  {
   "cell_type": "code",
   "execution_count": 6,
   "id": "unusual-alfred",
   "metadata": {},
   "outputs": [],
   "source": [
    "save_object_to_disk(optimal_configurations, '202010405_L_BFGS_B_10_iter_15_eta_pairs', 'results/')"
   ]
  },
  {
   "cell_type": "code",
   "execution_count": 17,
   "id": "acquired-jesus",
   "metadata": {},
   "outputs": [],
   "source": [
    "oneshot_channel = OneShotDampingChannel.build_from_optimal_configurations(file_name='202010405_L_BFGS_B_10_iter_15_eta_pairs',\n",
    "                                                                         path='results/')"
   ]
  },
  {
   "cell_type": "code",
   "execution_count": 18,
   "id": "noticed-occasion",
   "metadata": {},
   "outputs": [],
   "source": [
    "another_one_shot_channel = OneShotDampingChannel(optimal_configurations=optimal_configurations)"
   ]
  },
  {
   "cell_type": "code",
   "execution_count": null,
   "id": "institutional-silly",
   "metadata": {},
   "outputs": [],
   "source": []
  }
 ],
 "metadata": {
  "kernelspec": {
   "display_name": "Python 3",
   "language": "python",
   "name": "python3"
  },
  "language_info": {
   "codemirror_mode": {
    "name": "ipython",
    "version": 3
   },
   "file_extension": ".py",
   "mimetype": "text/x-python",
   "name": "python",
   "nbconvert_exporter": "python",
   "pygments_lexer": "ipython3",
   "version": "3.8.3"
  }
 },
 "nbformat": 4,
 "nbformat_minor": 5
}
