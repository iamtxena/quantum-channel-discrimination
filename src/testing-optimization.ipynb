{
 "cells": [
  {
   "cell_type": "markdown",
   "id": "seeing-desire",
   "metadata": {},
   "source": [
    "# Testing optimization"
   ]
  },
  {
   "cell_type": "code",
   "execution_count": 1,
   "id": "bizarre-length",
   "metadata": {},
   "outputs": [],
   "source": [
    "import os,sys,inspect\n",
    "currentdir = os.path.dirname(os.path.abspath(inspect.getfile(inspect.currentframe())))\n",
    "parentdir = os.path.dirname(currentdir)\n",
    "sys.path.insert(0,parentdir) \n",
    "\n",
    "from qcd.dampingchannels import OneShotDampingChannel\n",
    "from qcd import save_object_to_disk\n",
    "import numpy as np\n",
    "from numpy import pi"
   ]
  },
  {
   "cell_type": "code",
   "execution_count": 2,
   "id": "saving-messaging",
   "metadata": {},
   "outputs": [],
   "source": [
    "# optimizer_algorithms = ['CRS', 'DIRECT_L', 'DIRECT_L_RAND', 'ESCH', 'ISRES']\n",
    "# optimizer_iterations=[1000, 1000, 1000, 1000, 1000]\n",
    "# attenuation_factors = np.append(np.arange(0, 1, 0.5), 1)"
   ]
  },
  {
   "cell_type": "code",
   "execution_count": 2,
   "id": "prerequisite-inspection",
   "metadata": {},
   "outputs": [],
   "source": [
    "optimization_setup = { 'optimizer_algorithms': ['ESCH'],\n",
    "                        'optimizer_iterations': [100],\n",
    "                        'attenuation_factors': np.append(np.arange(0, 1, 0.5), 1),\n",
    "                        'initial_parameters': [0, 0, 0],\n",
    "                        'variable_bounds': [(0, pi/2),   # theta\n",
    "                                            (0, 2*pi),  # rx\n",
    "                                            (0, 2*pi)], # ry\n",
    "                        'plays': 50}"
   ]
  },
  {
   "cell_type": "code",
   "execution_count": 3,
   "id": "capable-dealing",
   "metadata": {},
   "outputs": [
    {
     "name": "stdout",
     "output_type": "stream",
     "text": [
      "Starting the execution\n",
      "Analyzing Optimizer Algorithm:  ESCH\n",
      "Best Average Probability: 0.74\n",
      "Final Best Optimizer Algorithm:  ESCH\n",
      "Final Best Average Probability: 0.74\n",
      "Number of cost function calls made: 100\n",
      "Parameters Found: θ = 45°, ϕrx = 4°, ϕry = 46°, η₀ = 45°, η₁ = 0°\n",
      "total minutes taken this pair of etas:  0\n",
      "total minutes taken so far:  0\n",
      "Analyzing Optimizer Algorithm:  ESCH\n",
      "Best Average Probability: 0.9\n",
      "Final Best Optimizer Algorithm:  ESCH\n",
      "Final Best Average Probability: 0.9\n",
      "Number of cost function calls made: 100\n",
      "Parameters Found: θ = 52°, ϕrx = 10°, ϕry = 27°, η₀ = 90°, η₁ = 0°\n",
      "total minutes taken this pair of etas:  0\n",
      "total minutes taken so far:  1\n",
      "Analyzing Optimizer Algorithm:  ESCH\n",
      "Best Average Probability: 0.8\n",
      "Final Best Optimizer Algorithm:  ESCH\n",
      "Final Best Average Probability: 0.8\n",
      "Number of cost function calls made: 100\n",
      "Parameters Found: θ = 56°, ϕrx = 15°, ϕry = 7°, η₀ = 90°, η₁ = 45°\n",
      "total minutes taken this pair of etas:  0\n",
      "total minutes taken so far:  1\n",
      "total minutes of execution time:  1\n",
      "All guesses have been calculated\n",
      "Total pair of etas tested: 3\n"
     ]
    }
   ],
   "source": [
    "optimal_configurations = OneShotDampingChannel.find_optimal_configurations(optimization_setup=optimization_setup)"
   ]
  },
  {
   "cell_type": "code",
   "execution_count": 5,
   "id": "stock-complex",
   "metadata": {},
   "outputs": [],
   "source": [
    "save_object_to_disk(optimal_configurations, '20210403_ESCH_100iterations_3etas', 'results/')"
   ]
  },
  {
   "cell_type": "code",
   "execution_count": null,
   "id": "painted-pontiac",
   "metadata": {},
   "outputs": [],
   "source": []
  }
 ],
 "metadata": {
  "kernelspec": {
   "display_name": "Python 3",
   "language": "python",
   "name": "python3"
  },
  "language_info": {
   "codemirror_mode": {
    "name": "ipython",
    "version": 3
   },
   "file_extension": ".py",
   "mimetype": "text/x-python",
   "name": "python",
   "nbconvert_exporter": "python",
   "pygments_lexer": "ipython3",
   "version": "3.8.3"
  }
 },
 "nbformat": 4,
 "nbformat_minor": 5
}
