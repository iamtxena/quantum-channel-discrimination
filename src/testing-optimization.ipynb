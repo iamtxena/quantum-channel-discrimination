{
 "cells": [
  {
   "cell_type": "markdown",
   "id": "seeing-desire",
   "metadata": {},
   "source": [
    "# Testing optimization"
   ]
  },
  {
   "cell_type": "code",
   "execution_count": 1,
   "id": "bizarre-length",
   "metadata": {},
   "outputs": [],
   "source": [
    "import os,sys,inspect\n",
    "currentdir = os.path.dirname(os.path.abspath(inspect.getfile(inspect.currentframe())))\n",
    "parentdir = os.path.dirname(currentdir)\n",
    "sys.path.insert(0,parentdir) \n",
    "\n",
    "from qcd.dampingchannels import OneShotDampingChannel\n",
    "from qcd import save_object_to_disk\n",
    "import numpy as np\n",
    "from numpy import pi"
   ]
  },
  {
   "cell_type": "code",
   "execution_count": 2,
   "id": "saving-messaging",
   "metadata": {},
   "outputs": [],
   "source": [
    "# optimizer_algorithms = ['CRS', 'DIRECT_L', 'DIRECT_L_RAND', 'ESCH', 'ISRES']\n",
    "# optimizer_iterations=[1000, 1000, 1000, 1000, 1000]\n",
    "# attenuation_factors = np.append(np.arange(0, 1, 0.5), 1)"
   ]
  },
  {
   "cell_type": "code",
   "execution_count": 3,
   "id": "prerequisite-inspection",
   "metadata": {},
   "outputs": [],
   "source": [
    "optimization_setup = { 'optimizer_algorithms': ['L_BFGS_B'],\n",
    "                        'optimizer_iterations': [50],\n",
    "                        'attenuation_angles': np.append(np.arange(0, pi/2, pi/2/5), pi/2),\n",
    "                        'initial_parameters': [0, 0, 0],\n",
    "                        'variable_bounds': [(0, pi/2),   # theta\n",
    "                                            (0, 2*pi),  # rx\n",
    "                                            (0, 2*pi)], # ry\n",
    "                        'plays': 50}"
   ]
  },
  {
   "cell_type": "code",
   "execution_count": 4,
   "id": "entitled-builder",
   "metadata": {},
   "outputs": [],
   "source": [
    "clone_setup = { 'total_clones': 2,\n",
    "              'id_clone': 0,\n",
    "              'file_name': '20210403_LBFGS_B',\n",
    "              'path': 'results/'}"
   ]
  },
  {
   "cell_type": "code",
   "execution_count": 5,
   "id": "capable-dealing",
   "metadata": {},
   "outputs": [
    {
     "name": "stdout",
     "output_type": "stream",
     "text": [
      "number of eta_pairs_idx_to_optimize: 7 -> [0, 1, 2, 3, 4, 5, 6]\n",
      "Starting the execution\n",
      "Analyzing Optimizer Algorithm:  L_BFGS_B\n",
      "Best Average Probability: 0.5\n",
      "Final Best Optimizer Algorithm:  L_BFGS_B\n",
      "Final Best Average Probability: 0.5\n",
      "Number of cost function calls made: 68\n",
      "Parameters Found: θ = 0°, ϕrx = 0°, ϕry = 0°, η₀ = 18°, η₁ = 0°\n",
      "total minutes taken this pair of etas:  0\n",
      "total minutes taken so far:  0\n",
      "Analyzing Optimizer Algorithm:  L_BFGS_B\n",
      "Best Average Probability: 0.56\n",
      "Final Best Optimizer Algorithm:  L_BFGS_B\n",
      "Final Best Average Probability: 0.56\n",
      "Number of cost function calls made: 72\n",
      "Parameters Found: θ = 0°, ϕrx = 0°, ϕry = 0°, η₀ = 36°, η₁ = 0°\n",
      "total minutes taken this pair of etas:  0\n",
      "total minutes taken so far:  1\n",
      "Analyzing Optimizer Algorithm:  L_BFGS_B\n",
      "Best Average Probability: 0.54\n",
      "Final Best Optimizer Algorithm:  L_BFGS_B\n",
      "Final Best Average Probability: 0.54\n",
      "Number of cost function calls made: 72\n",
      "Parameters Found: θ = 0°, ϕrx = 0°, ϕry = 0°, η₀ = 54°, η₁ = 0°\n",
      "total minutes taken this pair of etas:  0\n",
      "total minutes taken so far:  1\n",
      "Analyzing Optimizer Algorithm:  L_BFGS_B\n",
      "Best Average Probability: 0.52\n",
      "Final Best Optimizer Algorithm:  L_BFGS_B\n",
      "Final Best Average Probability: 0.52\n",
      "Number of cost function calls made: 72\n",
      "Parameters Found: θ = 0°, ϕrx = 0°, ϕry = 0°, η₀ = 72°, η₁ = 0°\n",
      "total minutes taken this pair of etas:  0\n",
      "total minutes taken so far:  1\n",
      "Analyzing Optimizer Algorithm:  L_BFGS_B\n",
      "Best Average Probability: 0.62\n",
      "Final Best Optimizer Algorithm:  L_BFGS_B\n",
      "Final Best Average Probability: 0.62\n",
      "Number of cost function calls made: 4\n",
      "Parameters Found: θ = 0°, ϕrx = 0°, ϕry = 0°, η₀ = 90°, η₁ = 0°\n",
      "total minutes taken this pair of etas:  0\n",
      "total minutes taken so far:  1\n",
      "Analyzing Optimizer Algorithm:  L_BFGS_B\n",
      "Best Average Probability: 0.48\n",
      "Final Best Optimizer Algorithm:  L_BFGS_B\n",
      "Final Best Average Probability: 0.48\n",
      "Number of cost function calls made: 84\n",
      "Parameters Found: θ = 0°, ϕrx = 0°, ϕry = 0°, η₀ = 36°, η₁ = 18°\n",
      "total minutes taken this pair of etas:  0\n",
      "total minutes taken so far:  2\n",
      "Analyzing Optimizer Algorithm:  L_BFGS_B\n",
      "Best Average Probability: 0.64\n",
      "Final Best Optimizer Algorithm:  L_BFGS_B\n",
      "Final Best Average Probability: 0.64\n",
      "Number of cost function calls made: 84\n",
      "Parameters Found: θ = 0°, ϕrx = 0°, ϕry = 0°, η₀ = 54°, η₁ = 18°\n",
      "total minutes taken this pair of etas:  0\n",
      "total minutes taken so far:  2\n",
      "total minutes of execution time:  2\n",
      "All guesses have been calculated\n",
      "Total pair of etas tested: 15\n"
     ]
    }
   ],
   "source": [
    "optimal_configurations = OneShotDampingChannel.find_optimal_configurations(optimization_setup=optimization_setup, clone_setup=clone_setup)"
   ]
  },
  {
   "cell_type": "code",
   "execution_count": 24,
   "id": "speaking-family",
   "metadata": {},
   "outputs": [],
   "source": [
    "clone_setup2 = { 'total_clones': 2,\n",
    "              'id_clone': 1,\n",
    "              'file_name': '20210403_LBFGS_B',\n",
    "              'path': 'results/'}"
   ]
  },
  {
   "cell_type": "code",
   "execution_count": 25,
   "id": "quality-anniversary",
   "metadata": {},
   "outputs": [
    {
     "name": "stdout",
     "output_type": "stream",
     "text": [
      "total etas: 6\n",
      "total eta pairs: 15\n",
      "eta_pair_idx_init: 7, eta_pair_idx_end: 15\n",
      "number of eta_pairs_idx_to_optimize: 8 -> [7, 8, 9, 10, 11, 12, 13, 14]\n"
     ]
    }
   ],
   "source": [
    "optimal_configurations = OneShotDampingChannel.find_optimal_configurations(optimization_setup=optimization_setup, clone_setup=clone_setup2)"
   ]
  },
  {
   "cell_type": "code",
   "execution_count": 13,
   "id": "seven-improvement",
   "metadata": {},
   "outputs": [],
   "source": [
    "clone_setup2 = { 'total_clones': 4,\n",
    "              'id_clone': 2,\n",
    "              'file_name': '20210403_LBFGS_B',\n",
    "              'path': 'results/'}"
   ]
  },
  {
   "cell_type": "code",
   "execution_count": 14,
   "id": "military-archive",
   "metadata": {},
   "outputs": [
    {
     "name": "stdout",
     "output_type": "stream",
     "text": [
      "total etas: 6\n",
      "total eta pairs: 15\n",
      "eta_pair_idx_init: 10, eta_pair_idx_end: 15\n",
      "number of eta_pairs_idx_to_optimize: 5 -> [10, 11, 12, 13, 14]\n"
     ]
    }
   ],
   "source": [
    "optimal_configurations = OneShotDampingChannel.find_optimal_configurations(optimization_setup=optimization_setup, clone_setup=clone_setup2)"
   ]
  },
  {
   "cell_type": "code",
   "execution_count": 20,
   "id": "guided-message",
   "metadata": {},
   "outputs": [
    {
     "name": "stdout",
     "output_type": "stream",
     "text": [
      "total etas: 6\n",
      "total eta pairs: 15\n",
      "eta_pair_idx_init: 0, eta_pair_idx_end: 3\n",
      "number of eta_pairs_idx_to_optimize: 3 -> [0, 1, 2]\n",
      "total etas: 6\n",
      "total eta pairs: 15\n",
      "eta_pair_idx_init: 3, eta_pair_idx_end: 7\n",
      "number of eta_pairs_idx_to_optimize: 4 -> [3, 4, 5, 6]\n",
      "total etas: 6\n",
      "total eta pairs: 15\n",
      "eta_pair_idx_init: 7, eta_pair_idx_end: 11\n",
      "number of eta_pairs_idx_to_optimize: 4 -> [7, 8, 9, 10]\n",
      "total etas: 6\n",
      "total eta pairs: 15\n",
      "eta_pair_idx_init: 11, eta_pair_idx_end: 15\n",
      "number of eta_pairs_idx_to_optimize: 4 -> [11, 12, 13, 14]\n"
     ]
    }
   ],
   "source": [
    "total_clones = 4\n",
    "for id_clone in range(total_clones):\n",
    "    clone_setup = { 'total_clones': total_clones,\n",
    "                     'id_clone': id_clone}\n",
    "    optimal_configurations = OneShotDampingChannel.find_optimal_configurations(optimization_setup=optimization_setup, clone_setup=clone_setup)"
   ]
  },
  {
   "cell_type": "code",
   "execution_count": 6,
   "id": "right-lincoln",
   "metadata": {},
   "outputs": [],
   "source": [
    "from qcd import merge_results_to_one_file, load_object_from_file"
   ]
  },
  {
   "cell_type": "code",
   "execution_count": 3,
   "id": "completed-opera",
   "metadata": {},
   "outputs": [],
   "source": [
    "clone_merge_setup = { 'total_clones': 3,\n",
    "                      'file_name': '20210403_LBFGS_B',\n",
    "                      'path': 'results/'}"
   ]
  },
  {
   "cell_type": "code",
   "execution_count": 4,
   "id": "dedicated-mandate",
   "metadata": {},
   "outputs": [],
   "source": [
    "merge_results_to_one_file(clone_setup=clone_merge_setup)"
   ]
  },
  {
   "cell_type": "code",
   "execution_count": 7,
   "id": "common-typing",
   "metadata": {},
   "outputs": [],
   "source": [
    "results =load_object_from_file(name='20210403_LBFGS_B', path='results/')"
   ]
  },
  {
   "cell_type": "code",
   "execution_count": 8,
   "id": "floating-amazon",
   "metadata": {},
   "outputs": [
    {
     "data": {
      "text/plain": [
       "{'eta_pairs': [],\n",
       " 'best_algorithm': ['NA',\n",
       "  'NA',\n",
       "  'NA',\n",
       "  'NA',\n",
       "  'NA',\n",
       "  'NA',\n",
       "  'NA',\n",
       "  'NA',\n",
       "  'NA',\n",
       "  'NA'],\n",
       " 'probabilities': [0, 0, 0, 0, 0, 0, 0, 0, 0, 0],\n",
       " 'configurations': [<qcd.configurations.oneshotbaseconfiguration.OneShotConfiguration at 0x7faf76f59b50>,\n",
       "  <qcd.configurations.oneshotbaseconfiguration.OneShotConfiguration at 0x7faf76f92160>,\n",
       "  <qcd.configurations.oneshotbaseconfiguration.OneShotConfiguration at 0x7faf76f7d100>,\n",
       "  <qcd.configurations.oneshotbaseconfiguration.OneShotConfiguration at 0x7faf76f7d220>,\n",
       "  <qcd.configurations.oneshotbaseconfiguration.OneShotConfiguration at 0x7faf76f7dcd0>,\n",
       "  <qcd.configurations.oneshotbaseconfiguration.OneShotConfiguration at 0x7faf76f7dd90>,\n",
       "  <qcd.configurations.oneshotbaseconfiguration.OneShotConfiguration at 0x7faf76f7dbb0>,\n",
       "  <qcd.configurations.oneshotbaseconfiguration.OneShotConfiguration at 0x7faf76f7d550>,\n",
       "  <qcd.configurations.oneshotbaseconfiguration.OneShotConfiguration at 0x7faf76f7dbe0>,\n",
       "  <qcd.configurations.oneshotbaseconfiguration.OneShotConfiguration at 0x7faf76f7ddf0>],\n",
       " 'number_calls_made': [0, 0, 0, 0, 0, 0, 0, 0, 0, 0]}"
      ]
     },
     "execution_count": 8,
     "metadata": {},
     "output_type": "execute_result"
    }
   ],
   "source": [
    "results"
   ]
  },
  {
   "cell_type": "code",
   "execution_count": null,
   "id": "growing-norway",
   "metadata": {},
   "outputs": [],
   "source": []
  }
 ],
 "metadata": {
  "kernelspec": {
   "display_name": "Python 3",
   "language": "python",
   "name": "python3"
  },
  "language_info": {
   "codemirror_mode": {
    "name": "ipython",
    "version": 3
   },
   "file_extension": ".py",
   "mimetype": "text/x-python",
   "name": "python",
   "nbconvert_exporter": "python",
   "pygments_lexer": "ipython3",
   "version": "3.8.3"
  }
 },
 "nbformat": 4,
 "nbformat_minor": 5
}
