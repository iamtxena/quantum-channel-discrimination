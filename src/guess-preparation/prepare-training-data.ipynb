{
 "cells": [
  {
   "cell_type": "markdown",
   "id": "billion-integrity",
   "metadata": {},
   "source": [
    "# Prepare training data to compute the guess function"
   ]
  },
  {
   "cell_type": "code",
   "execution_count": 7,
   "id": "champion-gathering",
   "metadata": {},
   "outputs": [],
   "source": [
    "import os,sys,inspect\n",
    "currentdir = os.path.dirname(os.path.abspath(inspect.getfile(inspect.currentframe())))\n",
    "parentdir = os.path.dirname(currentdir)\n",
    "sys.path.insert(0,parentdir) \n",
    "\n",
    "import pandas as pd\n",
    "import numpy as np\n",
    "import random\n",
    "import itertools\n",
    "import math\n",
    "import time\n",
    "from typing import Optional, Tuple, cast, List, Dict"
   ]
  },
  {
   "cell_type": "markdown",
   "id": "tired-minister",
   "metadata": {},
   "source": [
    "## prepare all random configurations"
   ]
  },
  {
   "cell_type": "code",
   "execution_count": 63,
   "id": "direct-sphere",
   "metadata": {},
   "outputs": [],
   "source": [
    "partitions = 20\n",
    "random_configuration_setup = {'state_probabilities': { 'min_value': 0.25, 'max_value': 1, 'partitions': 20},\n",
    "                            'angles_rx': { 'min_value': 0, 'max_value': 2*np.pi, 'partitions': 20},\n",
    "                            'angles_ry': { 'min_value': 0, 'max_value': 2*np.pi, 'partitions': 20},\n",
    "                            'etas': { 'min_value': 0, 'max_value': np.pi/2, 'partitions': 20, 'only_entangled': True}}\n",
    "number_random_configuration = 50"
   ]
  },
  {
   "cell_type": "code",
   "execution_count": 55,
   "id": "assured-cover",
   "metadata": {},
   "outputs": [],
   "source": [
    "def prepare_random_configurations(configuration_setup: dict, number_random_configuration: int):\n",
    "    \"\"\" create random configurations from a given range for each variable \"\"\"\n",
    "    if ('state_probabilities' not in configuration_setup or \n",
    "        'angles_rx' not in configuration_setup or \n",
    "        'angles_ry' not in configuration_setup or \n",
    "        'etas' not in configuration_setup):\n",
    "        raise ValueError('configuration_setup must include state_probabilities, angles_rx, angles_ry and etas')\n",
    "    state_probabilities = get_variable_distribution_values(configuration_setup['state_probabilities']['min_value'],\n",
    "                                                          configuration_setup['state_probabilities']['max_value'],\n",
    "                                                          configuration_setup['state_probabilities']['partitions'])\n",
    "    angles_rx = get_variable_distribution_values(configuration_setup['angles_rx']['min_value'],\n",
    "                                                          configuration_setup['angles_rx']['max_value'],\n",
    "                                                          configuration_setup['angles_rx']['partitions'])\n",
    "    angles_ry = get_variable_distribution_values(configuration_setup['angles_ry']['min_value'],\n",
    "                                                          configuration_setup['angles_ry']['max_value'],\n",
    "                                                          configuration_setup['angles_ry']['partitions'])\n",
    "    eta_pairs = (get_entangled_eta_pairs(configuration_setup['etas']['min_value'],\n",
    "                                        configuration_setup['etas']['max_value'],\n",
    "                                        configuration_setup['etas']['partitions']) if configuration_setup['etas']['only_entangled'] is True \n",
    "                 else get_eta_pairs(configuration_setup['etas']['min_value'],\n",
    "                                   configuration_setup['etas']['max_value'],\n",
    "                                   configuration_setup['etas']['partitions']))\n",
    "    \n",
    "    return (state_probabilities, angles_rx, angles_ry, eta_pairs)"
   ]
  },
  {
   "cell_type": "code",
   "execution_count": 11,
   "id": "alone-blame",
   "metadata": {},
   "outputs": [],
   "source": [
    "def get_variable_distribution_values(min_value=float, max_value=float, partitions=int) -> List[float]:\n",
    "    \"\"\" Return a list of values distributed evenly from min to max and added the last max_value at the end \"\"\"\n",
    "    return np.append(np.arange(min_value, max_value, max_value/partitions), max_value)"
   ]
  },
  {
   "cell_type": "code",
   "execution_count": 104,
   "id": "modified-locking",
   "metadata": {},
   "outputs": [],
   "source": [
    "def get_number_samples_eta_pairs_and_rest(total_configurations:int, n_state_probs:int, n_angles_rx:int, n_angles_ry:int, n_eta_pairs:int) -> Tuple[int, int, int, int, int]:\n",
    "    \"\"\" Return the number of samples for each list, evenly distributed, and adding more eta pairs samples when not possible \"\"\"\n",
    "    configs_per_list = math.modf(total_configurations ** (1/4))[1]\n",
    "    added_configs = total_configurations - configs_per_list ** 4\n",
    "    n_configs_per_state_probs = min(n_state_probs, configs_per_list)\n",
    "    n_configs_per_angles_rx = min(n_angles_rx, configs_per_list)\n",
    "    n_configs_per_angles_ry = min(n_angles_ry, configs_per_list)\n",
    "    added_configs += (configs_per_list - n_configs_per_state_probs) + (configs_per_list - n_configs_per_angles_rx) + (configs_per_list - n_configs_per_angles_ry)\n",
    "    n_configs_per_eta_pairs = min(n_eta_pairs, configs_per_list)\n",
    "    return (n_configs_per_state_probs, n_configs_per_angles_rx, n_configs_per_angles_ry, n_configs_per_eta_pairs, added_configs)"
   ]
  },
  {
   "cell_type": "code",
   "execution_count": 108,
   "id": "elder-pharmacology",
   "metadata": {},
   "outputs": [
    {
     "data": {
      "text/plain": [
       "(9.0, 9.0, 9.0, 9.0, 3438.0)"
      ]
     },
     "execution_count": 108,
     "metadata": {},
     "output_type": "execute_result"
    }
   ],
   "source": [
    "get_number_samples_eta_pairs_and_rest(9999, 20, 20, 20, 20)"
   ]
  },
  {
   "cell_type": "code",
   "execution_count": 103,
   "id": "sapphire-adult",
   "metadata": {},
   "outputs": [
    {
     "data": {
      "text/plain": [
       "108"
      ]
     },
     "execution_count": 103,
     "metadata": {},
     "output_type": "execute_result"
    }
   ],
   "source": [
    "3*3*3*4"
   ]
  },
  {
   "cell_type": "code",
   "execution_count": 59,
   "id": "marked-hello",
   "metadata": {},
   "outputs": [],
   "source": [
    "test = [0,1,2,3,4,5,6,7,8,9,10]"
   ]
  },
  {
   "cell_type": "code",
   "execution_count": 62,
   "id": "foreign-empire",
   "metadata": {},
   "outputs": [
    {
     "data": {
      "text/plain": [
       "[0, 10, 4, 1, 5, 2, 9, 7, 6, 8]"
      ]
     },
     "execution_count": 62,
     "metadata": {},
     "output_type": "execute_result"
    }
   ],
   "source": [
    "random.sample(test, 10)"
   ]
  },
  {
   "cell_type": "code",
   "execution_count": 80,
   "id": "executed-mailman",
   "metadata": {},
   "outputs": [],
   "source": [
    "max_configs = 2"
   ]
  },
  {
   "cell_type": "code",
   "execution_count": 90,
   "id": "grand-alexander",
   "metadata": {},
   "outputs": [],
   "source": [
    "configs = math.modf(100 ** (1/4))"
   ]
  },
  {
   "cell_type": "code",
   "execution_count": 83,
   "id": "metric-track",
   "metadata": {},
   "outputs": [],
   "source": [
    "remaining_configs = configs[1] - max_configs"
   ]
  },
  {
   "cell_type": "code",
   "execution_count": 84,
   "id": "communist-christmas",
   "metadata": {},
   "outputs": [
    {
     "data": {
      "text/plain": [
       "1.0"
      ]
     },
     "execution_count": 84,
     "metadata": {},
     "output_type": "execute_result"
    }
   ],
   "source": [
    "remaining_configs"
   ]
  },
  {
   "cell_type": "code",
   "execution_count": 97,
   "id": "thorough-jenny",
   "metadata": {},
   "outputs": [
    {
     "data": {
      "text/plain": [
       "19.0"
      ]
     },
     "execution_count": 97,
     "metadata": {},
     "output_type": "execute_result"
    }
   ],
   "source": [
    "100 - configs[1] ** 4"
   ]
  },
  {
   "cell_type": "code",
   "execution_count": 94,
   "id": "enhanced-cathedral",
   "metadata": {},
   "outputs": [
    {
     "data": {
      "text/plain": [
       "100.00000000000003"
      ]
     },
     "execution_count": 94,
     "metadata": {},
     "output_type": "execute_result"
    }
   ],
   "source": [
    "(100 ** (1/4))**4"
   ]
  },
  {
   "cell_type": "code",
   "execution_count": null,
   "id": "linear-separation",
   "metadata": {},
   "outputs": [],
   "source": []
  },
  {
   "cell_type": "code",
   "execution_count": 91,
   "id": "special-theater",
   "metadata": {},
   "outputs": [
    {
     "data": {
      "text/plain": [
       "(0.16227766016837952, 3.0)"
      ]
     },
     "execution_count": 91,
     "metadata": {},
     "output_type": "execute_result"
    }
   ],
   "source": [
    "configs"
   ]
  },
  {
   "cell_type": "code",
   "execution_count": 89,
   "id": "abroad-corpus",
   "metadata": {},
   "outputs": [
    {
     "data": {
      "text/plain": [
       "16.227766016837954"
      ]
     },
     "execution_count": 89,
     "metadata": {},
     "output_type": "execute_result"
    }
   ],
   "source": [
    "configs[0]*100"
   ]
  },
  {
   "cell_type": "code",
   "execution_count": 75,
   "id": "stuffed-anxiety",
   "metadata": {},
   "outputs": [
    {
     "data": {
      "text/plain": [
       "19"
      ]
     },
     "execution_count": 75,
     "metadata": {},
     "output_type": "execute_result"
    }
   ],
   "source": [
    "100-3**4"
   ]
  },
  {
   "cell_type": "code",
   "execution_count": 76,
   "id": "pretty-brisbane",
   "metadata": {},
   "outputs": [
    {
     "data": {
      "text/plain": [
       "160000"
      ]
     },
     "execution_count": 76,
     "metadata": {},
     "output_type": "execute_result"
    }
   ],
   "source": [
    "20**4"
   ]
  },
  {
   "cell_type": "code",
   "execution_count": 88,
   "id": "parental-static",
   "metadata": {},
   "outputs": [
    {
     "data": {
      "text/plain": [
       "2.087797629929844"
      ]
     },
     "execution_count": 88,
     "metadata": {},
     "output_type": "execute_result"
    }
   ],
   "source": [
    "19 ** (1/4)"
   ]
  },
  {
   "cell_type": "code",
   "execution_count": null,
   "id": "informed-contemporary",
   "metadata": {},
   "outputs": [],
   "source": []
  },
  {
   "cell_type": "code",
   "execution_count": null,
   "id": "thick-remainder",
   "metadata": {},
   "outputs": [],
   "source": []
  },
  {
   "cell_type": "code",
   "execution_count": 58,
   "id": "residential-currency",
   "metadata": {},
   "outputs": [
    {
     "data": {
      "text/plain": [
       "(array([0.25, 0.3 , 0.35, 0.4 , 0.45, 0.5 , 0.55, 0.6 , 0.65, 0.7 , 0.75,\n",
       "        0.8 , 0.85, 0.9 , 0.95, 1.  ]),\n",
       " array([0.        , 0.31415927, 0.62831853, 0.9424778 , 1.25663706,\n",
       "        1.57079633, 1.88495559, 2.19911486, 2.51327412, 2.82743339,\n",
       "        3.14159265, 3.45575192, 3.76991118, 4.08407045, 4.39822972,\n",
       "        4.71238898, 5.02654825, 5.34070751, 5.65486678, 5.96902604,\n",
       "        6.28318531]),\n",
       " array([0.        , 0.31415927, 0.62831853, 0.9424778 , 1.25663706,\n",
       "        1.57079633, 1.88495559, 2.19911486, 2.51327412, 2.82743339,\n",
       "        3.14159265, 3.45575192, 3.76991118, 4.08407045, 4.39822972,\n",
       "        4.71238898, 5.02654825, 5.34070751, 5.65486678, 5.96902604,\n",
       "        6.28318531]),\n",
       " [(1.0995574287564276, 1.0210176124166828),\n",
       "  (1.1780972450961724, 0.9424777960769379),\n",
       "  (1.1780972450961724, 1.0210176124166828),\n",
       "  (1.1780972450961724, 1.0995574287564276),\n",
       "  (1.2566370614359172, 0.8639379797371931),\n",
       "  (1.2566370614359172, 0.9424777960769379),\n",
       "  (1.2566370614359172, 1.0210176124166828),\n",
       "  (1.2566370614359172, 1.0995574287564276),\n",
       "  (1.2566370614359172, 1.1780972450961724),\n",
       "  (1.335176877775662, 0.7068583470577035),\n",
       "  (1.335176877775662, 0.7853981633974483),\n",
       "  (1.335176877775662, 0.8639379797371931),\n",
       "  (1.335176877775662, 0.9424777960769379),\n",
       "  (1.335176877775662, 1.0210176124166828),\n",
       "  (1.335176877775662, 1.0995574287564276),\n",
       "  (1.335176877775662, 1.1780972450961724),\n",
       "  (1.335176877775662, 1.2566370614359172),\n",
       "  (1.413716694115407, 0.6283185307179586),\n",
       "  (1.413716694115407, 0.7068583470577035),\n",
       "  (1.413716694115407, 0.7853981633974483),\n",
       "  (1.413716694115407, 0.8639379797371931),\n",
       "  (1.413716694115407, 0.9424777960769379),\n",
       "  (1.413716694115407, 1.0210176124166828),\n",
       "  (1.413716694115407, 1.0995574287564276),\n",
       "  (1.413716694115407, 1.1780972450961724),\n",
       "  (1.413716694115407, 1.2566370614359172),\n",
       "  (1.413716694115407, 1.335176877775662),\n",
       "  (1.4922565104551517, 0.47123889803846897),\n",
       "  (1.4922565104551517, 0.5497787143782138),\n",
       "  (1.4922565104551517, 0.6283185307179586),\n",
       "  (1.4922565104551517, 0.7068583470577035),\n",
       "  (1.4922565104551517, 0.7853981633974483),\n",
       "  (1.4922565104551517, 0.8639379797371931),\n",
       "  (1.4922565104551517, 0.9424777960769379),\n",
       "  (1.4922565104551517, 1.0210176124166828),\n",
       "  (1.4922565104551517, 1.0995574287564276),\n",
       "  (1.4922565104551517, 1.1780972450961724),\n",
       "  (1.4922565104551517, 1.2566370614359172),\n",
       "  (1.4922565104551517, 1.335176877775662),\n",
       "  (1.4922565104551517, 1.413716694115407),\n",
       "  (1.5707963267948966, 0.0),\n",
       "  (1.5707963267948966, 0.07853981633974483),\n",
       "  (1.5707963267948966, 0.15707963267948966),\n",
       "  (1.5707963267948966, 0.23561944901923448),\n",
       "  (1.5707963267948966, 0.3141592653589793),\n",
       "  (1.5707963267948966, 0.39269908169872414),\n",
       "  (1.5707963267948966, 0.47123889803846897),\n",
       "  (1.5707963267948966, 0.5497787143782138),\n",
       "  (1.5707963267948966, 0.6283185307179586),\n",
       "  (1.5707963267948966, 0.7068583470577035),\n",
       "  (1.5707963267948966, 0.7853981633974483),\n",
       "  (1.5707963267948966, 0.8639379797371931),\n",
       "  (1.5707963267948966, 0.9424777960769379),\n",
       "  (1.5707963267948966, 1.0210176124166828),\n",
       "  (1.5707963267948966, 1.0995574287564276),\n",
       "  (1.5707963267948966, 1.1780972450961724),\n",
       "  (1.5707963267948966, 1.2566370614359172),\n",
       "  (1.5707963267948966, 1.335176877775662),\n",
       "  (1.5707963267948966, 1.413716694115407),\n",
       "  (1.5707963267948966, 1.4922565104551517)])"
      ]
     },
     "execution_count": 58,
     "metadata": {},
     "output_type": "execute_result"
    }
   ],
   "source": [
    "prepare_random_configurations(configuration_setup=random_configuration_setup)"
   ]
  },
  {
   "cell_type": "code",
   "execution_count": 15,
   "id": "binary-female",
   "metadata": {},
   "outputs": [
    {
     "data": {
      "text/plain": [
       "array([0.25, 0.3 , 0.35, 0.4 , 0.45, 0.5 , 0.55, 0.6 , 0.65, 0.7 , 0.75,\n",
       "       0.8 , 0.85, 0.9 , 0.95, 1.  ])"
      ]
     },
     "execution_count": 15,
     "metadata": {},
     "output_type": "execute_result"
    }
   ],
   "source": [
    "get_variable_distribution_values(0.25,1,20)"
   ]
  },
  {
   "cell_type": "code",
   "execution_count": 8,
   "id": "flying-geometry",
   "metadata": {},
   "outputs": [],
   "source": [
    "def get_combinations_two_etas_without_repeats_from_etas(angles_etas: List[float]) -> List[Tuple[float, float]]:\n",
    "    \"\"\" from a given list of attenuations factors create a\n",
    "        list of all combinatorial pairs of possible etas\n",
    "        without repeats\n",
    "        For us it is the same testing first eta 0.1 and second eta 0.2\n",
    "        than first eta 0.2 and second eta 0.1\n",
    "        Though, we will always put the greater value as the first pair element\n",
    "    \"\"\"\n",
    "    # when there is only one element, we add the same element\n",
    "    if len(angles_etas) == 1:\n",
    "        angles_etas.append(angles_etas[0])\n",
    "    # get combinations of two etas without repeats\n",
    "    eta_pairs = list(itertools.combinations(angles_etas, 2))\n",
    "\n",
    "    return reorder_pairs(eta_pairs)\n",
    "\n",
    "def reorder_pairs(pairs: List[Tuple[float, float]]) -> List[Tuple[float, float]]:\n",
    "    \"\"\" reorder received pairs setting first the element of the tuple\n",
    "        as greater or equal de second one\n",
    "    \"\"\"\n",
    "    reordered_pairs = pairs\n",
    "    for idx, pair in enumerate(pairs):\n",
    "        reordered_pairs[idx] = reorder_pair(pair)\n",
    "    return reordered_pairs\n",
    "\n",
    "def reorder_pair(pair: Tuple[float, float]) -> Tuple[float, float]:\n",
    "    if pair[0] < pair[1]:\n",
    "        return (pair[1], pair[0])\n",
    "    return pair"
   ]
  },
  {
   "cell_type": "code",
   "execution_count": 38,
   "id": "sealed-portuguese",
   "metadata": {},
   "outputs": [],
   "source": [
    "def get_eta_pairs(min_value: float, max_value: float, num_etas_to_be_split: int)-> List[Tuple[float, float]]:\n",
    "    etas = get_variable_distribution_values(min_value, max_value, num_etas_to_be_split)\n",
    "    return get_combinations_two_etas_without_repeats_from_etas(etas)"
   ]
  },
  {
   "cell_type": "code",
   "execution_count": 57,
   "id": "visible-yield",
   "metadata": {},
   "outputs": [],
   "source": [
    "def get_entangled_eta_pairs(min_value: float, max_value: float, num_etas_to_be_split: int)-> List[Tuple[float, float]]:\n",
    "    return get_entangled_ys(min_value=min_value, max_value=max_value, num_etas_to_be_split=num_etas_to_be_split)[3]"
   ]
  },
  {
   "cell_type": "code",
   "execution_count": 41,
   "id": "directed-mambo",
   "metadata": {},
   "outputs": [],
   "source": [
    "def get_entangled_ys(num_etas_to_be_split: int, min_value: float = 0, max_value: float=np.pi/2 )-> Tuple[List[float], Tuple[int, int, int]]:\n",
    "    eta_pairs = get_eta_pairs(min_value, max_value, num_etas_to_be_split)\n",
    "    gammas = [np.cos(eta_pair[1]) + np.cos(eta_pair[0]) for eta_pair in eta_pairs]\n",
    "    gammas_etas = [(eta_pair[0], eta_pair[1], gammas[idx]) for idx, eta_pair in enumerate(eta_pairs)]\n",
    "    entangled_gammas = [gamma for gamma in gammas if gamma <= 1]\n",
    "    entangled_eta_pairs = [(eta_pair[0], eta_pair[1]) for idx, eta_pair in enumerate(eta_pairs) if gammas[idx] <= 1]\n",
    "    entangled_eta_pairs.sort()\n",
    "    theoretical_ys = [(gamma-1)/(gamma-2) for gamma in gammas] \n",
    "    entangled_ys = [theoretical_y for theoretical_y in theoretical_ys if theoretical_y > 0]\n",
    "    entangled_ys.sort()\n",
    "    entangled_ys.reverse()\n",
    "    return (entangled_ys, (len(entangled_ys), max(entangled_ys), min(entangled_ys)), entangled_gammas, entangled_eta_pairs, eta_pairs)"
   ]
  },
  {
   "cell_type": "code",
   "execution_count": 17,
   "id": "tired-cheese",
   "metadata": {},
   "outputs": [],
   "source": [
    "def get_gammas_min_max_from_entangled_ys(ty_min:float = 0, ty_max:float = 0.5):\n",
    "    gamma_min = (1-2*ty_min)/(1-ty_min)\n",
    "    gamma_max = (1-2*ty_max)/(1-ty_max)\n",
    "    return (gamma_min, gamma_max)"
   ]
  },
  {
   "cell_type": "code",
   "execution_count": 42,
   "id": "strong-eleven",
   "metadata": {},
   "outputs": [
    {
     "data": {
      "text/plain": [
       "60"
      ]
     },
     "execution_count": 42,
     "metadata": {},
     "output_type": "execute_result"
    }
   ],
   "source": [
    "len(get_entangled_ys(20)[3])"
   ]
  },
  {
   "cell_type": "code",
   "execution_count": 43,
   "id": "urban-grounds",
   "metadata": {},
   "outputs": [
    {
     "data": {
      "text/plain": [
       "[(1.0995574287564276, 1.0210176124166828),\n",
       " (1.1780972450961724, 0.9424777960769379),\n",
       " (1.1780972450961724, 1.0210176124166828),\n",
       " (1.1780972450961724, 1.0995574287564276),\n",
       " (1.2566370614359172, 0.8639379797371931),\n",
       " (1.2566370614359172, 0.9424777960769379),\n",
       " (1.2566370614359172, 1.0210176124166828),\n",
       " (1.2566370614359172, 1.0995574287564276),\n",
       " (1.2566370614359172, 1.1780972450961724),\n",
       " (1.335176877775662, 0.7068583470577035),\n",
       " (1.335176877775662, 0.7853981633974483),\n",
       " (1.335176877775662, 0.8639379797371931),\n",
       " (1.335176877775662, 0.9424777960769379),\n",
       " (1.335176877775662, 1.0210176124166828),\n",
       " (1.335176877775662, 1.0995574287564276),\n",
       " (1.335176877775662, 1.1780972450961724),\n",
       " (1.335176877775662, 1.2566370614359172),\n",
       " (1.413716694115407, 0.6283185307179586),\n",
       " (1.413716694115407, 0.7068583470577035),\n",
       " (1.413716694115407, 0.7853981633974483),\n",
       " (1.413716694115407, 0.8639379797371931),\n",
       " (1.413716694115407, 0.9424777960769379),\n",
       " (1.413716694115407, 1.0210176124166828),\n",
       " (1.413716694115407, 1.0995574287564276),\n",
       " (1.413716694115407, 1.1780972450961724),\n",
       " (1.413716694115407, 1.2566370614359172),\n",
       " (1.413716694115407, 1.335176877775662),\n",
       " (1.4922565104551517, 0.47123889803846897),\n",
       " (1.4922565104551517, 0.5497787143782138),\n",
       " (1.4922565104551517, 0.6283185307179586),\n",
       " (1.4922565104551517, 0.7068583470577035),\n",
       " (1.4922565104551517, 0.7853981633974483),\n",
       " (1.4922565104551517, 0.8639379797371931),\n",
       " (1.4922565104551517, 0.9424777960769379),\n",
       " (1.4922565104551517, 1.0210176124166828),\n",
       " (1.4922565104551517, 1.0995574287564276),\n",
       " (1.4922565104551517, 1.1780972450961724),\n",
       " (1.4922565104551517, 1.2566370614359172),\n",
       " (1.4922565104551517, 1.335176877775662),\n",
       " (1.4922565104551517, 1.413716694115407),\n",
       " (1.5707963267948966, 0.0),\n",
       " (1.5707963267948966, 0.07853981633974483),\n",
       " (1.5707963267948966, 0.15707963267948966),\n",
       " (1.5707963267948966, 0.23561944901923448),\n",
       " (1.5707963267948966, 0.3141592653589793),\n",
       " (1.5707963267948966, 0.39269908169872414),\n",
       " (1.5707963267948966, 0.47123889803846897),\n",
       " (1.5707963267948966, 0.5497787143782138),\n",
       " (1.5707963267948966, 0.6283185307179586),\n",
       " (1.5707963267948966, 0.7068583470577035),\n",
       " (1.5707963267948966, 0.7853981633974483),\n",
       " (1.5707963267948966, 0.8639379797371931),\n",
       " (1.5707963267948966, 0.9424777960769379),\n",
       " (1.5707963267948966, 1.0210176124166828),\n",
       " (1.5707963267948966, 1.0995574287564276),\n",
       " (1.5707963267948966, 1.1780972450961724),\n",
       " (1.5707963267948966, 1.2566370614359172),\n",
       " (1.5707963267948966, 1.335176877775662),\n",
       " (1.5707963267948966, 1.413716694115407),\n",
       " (1.5707963267948966, 1.4922565104551517)]"
      ]
     },
     "execution_count": 43,
     "metadata": {},
     "output_type": "execute_result"
    }
   ],
   "source": [
    "get_entangled_ys(20)[3]"
   ]
  },
  {
   "cell_type": "code",
   "execution_count": null,
   "id": "responsible-bridge",
   "metadata": {},
   "outputs": [],
   "source": []
  },
  {
   "cell_type": "markdown",
   "id": "alone-croatia",
   "metadata": {},
   "source": [
    "## run all configurations (without guess) on a parametrized circuit"
   ]
  },
  {
   "cell_type": "code",
   "execution_count": null,
   "id": "affecting-monkey",
   "metadata": {},
   "outputs": [],
   "source": []
  },
  {
   "cell_type": "markdown",
   "id": "ranking-growth",
   "metadata": {},
   "source": [
    "## convert execution result counts and configuration to a training row data"
   ]
  },
  {
   "cell_type": "code",
   "execution_count": 2,
   "id": "collected-reviewer",
   "metadata": {},
   "outputs": [],
   "source": [
    "one_execution = { 'state_probability': 0, # [0.25, 1]\n",
    "              'rx_theta': 0, # [0, 2*pi]\n",
    "              'ry_theta': 0, # [0, 2*pi]\n",
    "              'eta0': 0, # [1.0995574287564276, pi/2] -> only computed for 20 etas, and it should be the resulting entangled etas for eta0 [63º, 90º]\n",
    "              'eta1': 0, # [0, pi/2] -> but this is a discrete variable only 20 values\n",
    "              'bit0': 0, # [0 or 1] the left bit of the measured counts '00'\n",
    "              'bit1': 0, # [0 or 1] the right bit of the measured counts '00'\n",
    "              'eta_used': 0} # target value\n",
    "\n",
    "state_probabilities = []\n",
    "rx_thetas = []\n",
    "ry_thetas = []\n",
    "etas0 = []\n",
    "etas1 = []\n",
    "bits0 = []\n",
    "bits1 = []\n",
    "etas_used = []\n",
    "data = { 'state_probability': state_probabilities,\n",
    "              'rx_theta': rx_thetas,\n",
    "              'ry_theta': ry_thetas,\n",
    "              'eta0': etas0,\n",
    "              'eta1': etas1,\n",
    "              'bit0': bits0,\n",
    "              'bit1': bits1,\n",
    "              'eta_used': etas_used} "
   ]
  },
  {
   "cell_type": "markdown",
   "id": "lightweight-thailand",
   "metadata": {},
   "source": [
    "## write training data to a CSV file"
   ]
  },
  {
   "cell_type": "code",
   "execution_count": 5,
   "id": "olive-actor",
   "metadata": {},
   "outputs": [],
   "source": [
    "df = pd.DataFrame(data)\n",
    "csv_file_name = \"./entangled_executions.csv\"\n",
    "df.to_csv(csv_file_name)"
   ]
  },
  {
   "cell_type": "code",
   "execution_count": null,
   "id": "verbal-trout",
   "metadata": {},
   "outputs": [],
   "source": []
  }
 ],
 "metadata": {
  "kernelspec": {
   "display_name": "Python 3",
   "language": "python",
   "name": "python3"
  },
  "language_info": {
   "codemirror_mode": {
    "name": "ipython",
    "version": 3
   },
   "file_extension": ".py",
   "mimetype": "text/x-python",
   "name": "python",
   "nbconvert_exporter": "python",
   "pygments_lexer": "ipython3",
   "version": "3.8.3"
  }
 },
 "nbformat": 4,
 "nbformat_minor": 5
}
