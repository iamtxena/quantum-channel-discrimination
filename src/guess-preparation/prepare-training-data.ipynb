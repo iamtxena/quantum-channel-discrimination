{
 "cells": [
  {
   "cell_type": "markdown",
   "id": "comic-saver",
   "metadata": {},
   "source": [
    "# Prepare training data to compute the guess function"
   ]
  },
  {
   "cell_type": "code",
   "execution_count": 4,
   "id": "broadband-findings",
   "metadata": {},
   "outputs": [],
   "source": [
    "import os,sys,inspect\n",
    "currentdir = os.path.dirname(os.path.abspath(inspect.getfile(inspect.currentframe())))\n",
    "parentdir = os.path.dirname(currentdir)\n",
    "sys.path.insert(0,parentdir) \n",
    "\n",
    "import pandas as pd\n"
   ]
  },
  {
   "cell_type": "markdown",
   "id": "demanding-reaction",
   "metadata": {},
   "source": [
    "## prepare all random configurations"
   ]
  },
  {
   "cell_type": "code",
   "execution_count": null,
   "id": "amazing-cheat",
   "metadata": {},
   "outputs": [],
   "source": []
  },
  {
   "cell_type": "markdown",
   "id": "dress-karma",
   "metadata": {},
   "source": [
    "## run all configurations (without guess) on a parametrized circuit"
   ]
  },
  {
   "cell_type": "code",
   "execution_count": null,
   "id": "consecutive-doctor",
   "metadata": {},
   "outputs": [],
   "source": []
  },
  {
   "cell_type": "markdown",
   "id": "statutory-typing",
   "metadata": {},
   "source": [
    "## convert execution result counts and configuration to a training row data"
   ]
  },
  {
   "cell_type": "code",
   "execution_count": 2,
   "id": "fresh-texas",
   "metadata": {},
   "outputs": [],
   "source": [
    "one_execution = { 'state_probability': 0, # [0.25, 1]\n",
    "              'rx_theta': 0, # [0, 2*pi]\n",
    "              'ry_theta': 0, # [0, 2*pi]\n",
    "              'eta0': 0, # [1.0995574287564276, pi/2] -> only computed for 20 etas, and it should be the resulting entangled etas for eta0 [63º, 90º]\n",
    "              'eta1': 0, # [0, pi/2] -> but this is a discrete variable only 20 values\n",
    "              'bit0': 0, # [0 or 1] the left bit of the measured counts '00'\n",
    "              'bit1': 0, # [0 or 1] the right bit of the measured counts '00'\n",
    "              'eta_used': 0} # target value\n",
    "\n",
    "state_probabilities = []\n",
    "rx_thetas = []\n",
    "ry_thetas = []\n",
    "etas0 = []\n",
    "etas1 = []\n",
    "bits0 = []\n",
    "bits1 = []\n",
    "etas_used = []\n",
    "data = { 'state_probability': state_probabilities,\n",
    "              'rx_theta': rx_thetas,\n",
    "              'ry_theta': ry_thetas,\n",
    "              'eta0': etas0,\n",
    "              'eta1': etas1,\n",
    "              'bit0': bits0,\n",
    "              'bit1': bits1,\n",
    "              'eta_used': etas_used} "
   ]
  },
  {
   "cell_type": "markdown",
   "id": "tender-hudson",
   "metadata": {},
   "source": [
    "## write training data to a CSV file"
   ]
  },
  {
   "cell_type": "code",
   "execution_count": 5,
   "id": "junior-devon",
   "metadata": {},
   "outputs": [],
   "source": [
    "df = pd.DataFrame(data)\n",
    "csv_file_name = \"./entangled_executions.csv\"\n",
    "df.to_csv(csv_file_name)"
   ]
  },
  {
   "cell_type": "code",
   "execution_count": null,
   "id": "seasonal-belly",
   "metadata": {},
   "outputs": [],
   "source": []
  }
 ],
 "metadata": {
  "kernelspec": {
   "display_name": "Python 3",
   "language": "python",
   "name": "python3"
  },
  "language_info": {
   "codemirror_mode": {
    "name": "ipython",
    "version": 3
   },
   "file_extension": ".py",
   "mimetype": "text/x-python",
   "name": "python",
   "nbconvert_exporter": "python",
   "pygments_lexer": "ipython3",
   "version": "3.8.3"
  }
 },
 "nbformat": 4,
 "nbformat_minor": 5
}
