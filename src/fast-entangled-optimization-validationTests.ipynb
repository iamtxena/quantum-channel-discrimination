{
 "cells": [
  {
   "cell_type": "markdown",
   "id": "adequate-sapphire",
   "metadata": {},
   "source": [
    "# Ligthning Fast One-Shot Side Entanglement Optimization"
   ]
  },
  {
   "cell_type": "markdown",
   "id": "rolled-reset",
   "metadata": {},
   "source": [
    "## Imports"
   ]
  },
  {
   "cell_type": "code",
   "execution_count": 1,
   "id": "urban-tiger",
   "metadata": {},
   "outputs": [],
   "source": [
    "import numpy as np\n",
    "import random\n",
    "import itertools\n",
    "import math\n",
    "import time\n",
    "import pickle\n",
    "from typing import Optional, Tuple, cast, List, Dict\n",
    "from bitarray.util import count_xor, urandom\n",
    "from bitarray import frozenbitarray\n",
    "from qiskit import Aer, QuantumCircuit, execute, QuantumRegister, ClassicalRegister\n",
    "from qiskit.result.result import Result\n",
    "from qiskit.aqua.components.optimizers import SLSQP, L_BFGS_B, CRS, DIRECT_L, DIRECT_L_RAND, ESCH, ISRES"
   ]
  },
  {
   "cell_type": "markdown",
   "id": "brazilian-clause",
   "metadata": {},
   "source": [
    "## General auxiliary functions"
   ]
  },
  {
   "cell_type": "code",
   "execution_count": 96,
   "id": "aboriginal-barrier",
   "metadata": {},
   "outputs": [],
   "source": [
    "# Optimization results files\n",
    "filename = '20210413a_C2_A2_500_10000'  # 2 RX + 2 RY gates\n",
    "#filename = '20210413a_C2_A3_500_10000'  # 2 RX + 2 RY gates\n",
    "#filename = '20210414a_C2_A2_500_10000'  # 1 RX + 1 RY gates\n",
    "#filename = '20210414a_C2_A3_500_10000'  # 1 RX + 1 RY gates\n",
    "\n",
    "guess_plays = 1000000 # Plays to get the guess\n",
    "validate_plays = 1000000 # Plays to get the validation"
   ]
  },
  {
   "cell_type": "code",
   "execution_count": 3,
   "id": "incoming-poverty",
   "metadata": {},
   "outputs": [],
   "source": [
    "\"\"\" save and load results to and from a file \"\"\"\n",
    "def save_results_to_disk(obj, name ):\n",
    "    with open('results/'+ name + '.pkl', 'wb') as f:\n",
    "        pickle.dump(obj, f, pickle.HIGHEST_PROTOCOL)\n",
    "\n",
    "def load_results_from_file(name ):\n",
    "    with open('results/' + name + '.pkl', 'rb') as f:\n",
    "        return pickle.load(f)"
   ]
  },
  {
   "cell_type": "code",
   "execution_count": null,
   "id": "external-relay",
   "metadata": {},
   "outputs": [],
   "source": []
  },
  {
   "cell_type": "code",
   "execution_count": 85,
   "id": "shaped-persian",
   "metadata": {},
   "outputs": [],
   "source": []
  },
  {
   "cell_type": "code",
   "execution_count": 86,
   "id": "protective-trick",
   "metadata": {},
   "outputs": [],
   "source": []
  },
  {
   "cell_type": "code",
   "execution_count": 87,
   "id": "conventional-segment",
   "metadata": {},
   "outputs": [],
   "source": []
  },
  {
   "cell_type": "code",
   "execution_count": 88,
   "id": "downtown-beach",
   "metadata": {},
   "outputs": [],
   "source": []
  },
  {
   "cell_type": "markdown",
   "id": "acoustic-ordering",
   "metadata": {},
   "source": [
    "## Auxiliary functions for preparing the optimization (until the cost function)"
   ]
  },
  {
   "cell_type": "code",
   "execution_count": 89,
   "id": "subsequent-accuracy",
   "metadata": {},
   "outputs": [],
   "source": [
    "def find_optimal_configurations(optimization_setup: dict, clone_setup: Optional[dict]=None) -> dict:\n",
    "    \"\"\" Finds out the optimal configuration for each pair of attenuation levels\n",
    "        using the configured optimization algorithm \"\"\"\n",
    "    eta_pairs_idx_to_optimize, optimal_configurations = _select_eta_pairs_to_optimize(clone_setup)\n",
    "\n",
    "    print(f'number of eta_pairs_idx_to_optimize: {len(eta_pairs_idx_to_optimize)} -> {eta_pairs_idx_to_optimize}')\n",
    "\n",
    "    program_start_time = time.time()\n",
    "    print(\"Starting the execution\")\n",
    "    \n",
    "    for eta_pair_idx in eta_pairs_idx_to_optimize:\n",
    "        start_time = time.time()\n",
    "        GLOBAL_ETA_PAIR = GLOBAL_ETA_PAIRS[eta_pair_idx]\n",
    "        result = _compute_best_configuration(optimization_setup, GLOBAL_ETA_PAIR)\n",
    "        optimal_configurations['probabilities'].append(result['best_probability'])\n",
    "        optimal_configurations['configurations'].append(result['best_configuration'])\n",
    "        optimal_configurations['best_algorithm'].append(result['best_algorithm'])\n",
    "        optimal_configurations['number_calls_made'].append(result['number_calls_made'])\n",
    "        end_time = time.time()\n",
    "        print(f\"Pair of etas # {eta_pair_idx} of {len(eta_pairs_idx_to_optimize)}, time taken this pair of etas: \" +\n",
    "              f'{np.round((end_time - start_time)/60, 0)} minutes' +\n",
    "              f' and {np.round((end_time - start_time) % 60, 0)} seconds')\n",
    "        print(\"total minutes taken this pair of etas: \", int(np.round((end_time - start_time) / 60)))\n",
    "        print(\"total time taken so far: \" +\n",
    "              f'{np.round((end_time - program_start_time)/60, 0)} minutes' +\n",
    "              f' and {np.round((end_time - program_start_time) % 60, 0)} seconds')\n",
    "    end_time = time.time()\n",
    "    print(\"total minutes of execution time: \", int(np.round((end_time - program_start_time) / 60)))\n",
    "    print(f'Number eta pairs optimized: {len(eta_pairs_idx_to_optimize)}' +\n",
    "          f'from the total eta pairs: {len(GLOBAL_ETA_PAIRS)} ')\n",
    "    optimal_configurations['eta_pairs'] = GLOBAL_ETA_PAIRS\n",
    "\n",
    "    return optimal_configurations"
   ]
  },
  {
   "cell_type": "code",
   "execution_count": 90,
   "id": "helpful-affiliate",
   "metadata": {},
   "outputs": [],
   "source": [
    "    def _select_eta_pairs_to_optimize(clone_setup: Optional[dict]) -> Tuple[List[int], dict]:\n",
    "        \"\"\" from the given clone setup, select the eta pairs to be optimized,\n",
    "            and set the non computed pairs configuration as default values   \"\"\"\n",
    "\n",
    "        eta_pair_idx_init, eta_pair_idx_end = _set_eta_pair_index_bounds(clone_setup)\n",
    "        index_dict = _build_eta_pair_index_lists(eta_pair_idx_init, eta_pair_idx_end)\n",
    "        default_optimal_configurations = _set_default_optimal_configurations(index_dict['eta_pair_idx_to_skip'])\n",
    "\n",
    "        return (index_dict['eta_pair_idx_to_compute'],\n",
    "                default_optimal_configurations)"
   ]
  },
  {
   "cell_type": "code",
   "execution_count": 91,
   "id": "married-level",
   "metadata": {},
   "outputs": [],
   "source": [
    "def _set_default_optimal_configurations(eta_pair_idx_to_skip: List[int]) -> dict:\n",
    "    \"\"\" Return the optimal configurations set to default values for the indexes to be skipped \"\"\"\n",
    "    elements_to_skip = len(eta_pair_idx_to_skip)\n",
    "\n",
    "    configurations: List[dict] = []\n",
    "    for eta_pair_idx in eta_pair_idx_to_skip:\n",
    "        one_configuration = {'state_probability': 0,\n",
    "                             'angle_rx1': 0,\n",
    "                             'angle_ry1': 0,\n",
    "                             'angle_rx0': 0,\n",
    "                             'angle_ry0': 0,\n",
    "                             'eta_pair': GLOBAL_ETA_PAIRS[eta_pair_idx]}\n",
    "        configurations.append(one_configuration)\n",
    "\n",
    "    return {'eta_pairs': [],\n",
    "            'best_algorithm': ['NA'] * elements_to_skip,\n",
    "            'probabilities': [0] * elements_to_skip,\n",
    "            'configurations': configurations,\n",
    "            'number_calls_made': [0] * elements_to_skip}"
   ]
  },
  {
   "cell_type": "code",
   "execution_count": 92,
   "id": "posted-chaos",
   "metadata": {},
   "outputs": [],
   "source": [
    "def _set_eta_pair_index_bounds(clone_setup: Optional[dict]) -> Tuple[int, int]:\n",
    "    \"\"\" set the first and last eta pair index from which to optimize the configuration \"\"\"\n",
    "    total_eta_pairs = len(GLOBAL_ETA_PAIRS)\n",
    "\n",
    "    if clone_setup is None or clone_setup['total_clones'] <= 1:\n",
    "        return (0, total_eta_pairs)\n",
    "\n",
    "    eta_pair_idx_init = int(np.floor(clone_setup['id_clone'] * total_eta_pairs / clone_setup['total_clones']))\n",
    "    eta_pair_idx_end = min(int((clone_setup['id_clone'] + 1) *\n",
    "                               total_eta_pairs / clone_setup['total_clones']), total_eta_pairs)\n",
    "    return (eta_pair_idx_init, eta_pair_idx_end)\n",
    "\n",
    "def _build_eta_pair_index_lists(eta_pair_idx_init: int, eta_pair_idx_end: int) -> Dict:\n",
    "    \"\"\" create two lists with the the eta pair index to be computed and the index to be skipped \"\"\"\n",
    "    first_part_to_skip = list(range(0, eta_pair_idx_init))\n",
    "    last_part_to_skip = list(range(eta_pair_idx_end, len(GLOBAL_ETA_PAIRS)))\n",
    "\n",
    "    return {\n",
    "        'eta_pair_idx_to_compute': list(range(eta_pair_idx_init, eta_pair_idx_end)),\n",
    "        'eta_pair_idx_to_skip': first_part_to_skip + last_part_to_skip\n",
    "    }"
   ]
  },
  {
   "cell_type": "code",
   "execution_count": 93,
   "id": "fresh-voice",
   "metadata": {},
   "outputs": [],
   "source": [
    "def _compute_best_configuration(optimization_setup: dict, GLOBAL_ETA_PAIR) -> dict:\n",
    "    \"\"\" Find out the best configuration with a global pair of etas (channels) trying out\n",
    "        a list of specified optimization algorithm \"\"\"\n",
    "    optimizer_algorithms = optimization_setup['optimizer_algorithms']\n",
    "    optimizer_iterations = optimization_setup['optimizer_iterations']\n",
    "    best_probability = 0\n",
    "    best_configuration = []\n",
    "    best_optimizer_algorithm = \"\"\n",
    "    number_calls_made = 0\n",
    "\n",
    "    for optimizer_algorithm, max_evals in zip(optimizer_algorithms, optimizer_iterations):\n",
    "        print(\"Analyzing Optimizer Algorithm: \", optimizer_algorithm)\n",
    "        if optimizer_algorithm == 'SLSQP':\n",
    "            optimizer = SLSQP(maxiter=max_evals)\n",
    "        if optimizer_algorithm == 'L_BFGS_B':\n",
    "            optimizer = L_BFGS_B(maxfun=max_evals, maxiter=max_evals)\n",
    "        if optimizer_algorithm == 'CRS':\n",
    "            optimizer = CRS(max_evals=max_evals)\n",
    "        if optimizer_algorithm == 'DIRECT_L':\n",
    "            optimizer = DIRECT_L(max_evals=max_evals)\n",
    "        if optimizer_algorithm == 'DIRECT_L_RAND':\n",
    "            optimizer = DIRECT_L_RAND(max_evals=max_evals)\n",
    "        if optimizer_algorithm == 'ESCH':\n",
    "            optimizer = ESCH(max_evals=max_evals)\n",
    "        if optimizer_algorithm == 'ISRES':\n",
    "            optimizer = ISRES(max_evals=max_evals)\n",
    "\n",
    "        ret = optimizer.optimize(num_vars=len(optimization_setup['initial_parameters']),\n",
    "                                 objective_function=_cost_function,\n",
    "                                 variable_bounds=optimization_setup['variable_bounds'],\n",
    "                                 initial_point=optimization_setup['initial_parameters'])\n",
    "#        print('Parámetros')\n",
    "#        print(ret[0])\n",
    "        print(\"Best Average Probability:\", -ret[1])\n",
    "        if (-ret[1]) > best_probability:\n",
    "            best_configuration = ret[0]\n",
    "            best_probability = -ret[1]\n",
    "            number_calls_made = ret[2]\n",
    "            best_optimizer_algorithm = optimizer_algorithm\n",
    "\n",
    "    # Print results\n",
    "    print(\"Final Best Optimizer Algorithm: \", best_optimizer_algorithm)\n",
    "    print(\"Final Best Average Probability:\", best_probability)\n",
    "    print(\"Number of cost function calls made:\", number_calls_made)\n",
    "    print(\"Parameters Found: state_probability = \" + str(best_configuration[0]) +\n",
    "          \", \" + u\"\\u03D5\" + \"rx1 = \" + str(int(math.degrees(best_configuration[1]))) + u\"\\u00B0\" +\n",
    "          \", \" + u\"\\u03D5\" + \"ry1 = \" + str(int(math.degrees(best_configuration[2]))) + u\"\\u00B0\" +\n",
    "          \", \" + u\"\\u03D5\" + \"rx0 = \" + str(int(math.degrees(best_configuration[3]))) + u\"\\u00B0\" +\n",
    "          \", \" + u\"\\u03D5\" + \"ry0 = \" + str(int(math.degrees(best_configuration[4]))) + u\"\\u00B0\" +\n",
    "          \", \" + u\"\\u03B7\" + u\"\\u2080\" + \" = \" + str(int(math.degrees(GLOBAL_ETA_PAIR[0]))) + u\"\\u00B0\" +\n",
    "          \", \" + u\"\\u03B7\" + u\"\\u2081\" + \" = \" + str(int(math.degrees(GLOBAL_ETA_PAIR[1]))) + u\"\\u00B0\")\n",
    "    \n",
    "    best_configuration_dict = {'state_probability': best_configuration[0],\n",
    "                               'angle_rx1': best_configuration[1],\n",
    "                               'angle_ry1': best_configuration[2],\n",
    "                               'angle_rx0': best_configuration[3],\n",
    "                               'angle_ry0': best_configuration[4],\n",
    "                               'eta_pair': GLOBAL_ETA_PAIR} \n",
    "    \n",
    "    return {'best_algorithm': best_optimizer_algorithm,\n",
    "            'best_probability': best_probability,\n",
    "            'best_configuration': best_configuration_dict,\n",
    "            'number_calls_made': number_calls_made} "
   ]
  },
  {
   "cell_type": "code",
   "execution_count": 94,
   "id": "fluid-signal",
   "metadata": {},
   "outputs": [],
   "source": [
    "def _cost_function(params: List[float]) -> float:\n",
    "    \"\"\" Computes the cost of running a specific configuration for the number of plays\n",
    "        defined in the optimization setup.\n",
    "        Cost is computed as 1 (perfect probability) - average success probability for\n",
    "        all the plays with the given configuration\n",
    "        Returns the Cost (error probability).\n",
    "    \"\"\"\n",
    "    configuration = {\n",
    "        'state_probability': params[0],\n",
    "        'angle_rx1': params[1],\n",
    "        'angle_ry1': params[2],\n",
    "        'angle_rx0': params[3],\n",
    "        'angle_ry0': params[4],\n",
    "        'eta_pair': GLOBAL_ETA_PAIR}\n",
    "\n",
    "    return - compute_new_average_success_probability(configuration=configuration,\n",
    "                                                       plays=GLOBAL_PLAYS)"
   ]
  },
  {
   "cell_type": "markdown",
   "id": "underlying-outreach",
   "metadata": {},
   "source": [
    "## Auxiliary functions for fast compute the circuit and success average probability"
   ]
  },
  {
   "cell_type": "code",
   "execution_count": 95,
   "id": "velvet-civilian",
   "metadata": {},
   "outputs": [],
   "source": [
    "def compute_new_average_success_probability(configuration: dict,\n",
    "                                            plays: Optional[int] = 100,) -> float:\n",
    "    \"\"\" Computes the average success probability of running a specific configuration\n",
    "        for the number of plays defined in the configuration.\n",
    "    \"\"\"\n",
    "    random_etas, eta_shots = _get_random_etas_and_eta_shots(plays)\n",
    "    #guesses_eta = _run_all_circuits_and_return_guess(configuration, eta_shots)\n",
    "    #return _check_guesses_and_return_average_success_probability(plays, random_etas, guesses_eta)\n",
    "    return _run_all_circuits_and_return_cost(configuration, eta_shots)"
   ]
  },
  {
   "cell_type": "code",
   "execution_count": 96,
   "id": "derived-superior",
   "metadata": {},
   "outputs": [],
   "source": [
    "def _get_random_etas_and_eta_shots(plays: int) -> Tuple[frozenbitarray, Tuple[int, int]]:\n",
    "    \"\"\" create a random bit string with length the number of plays and calculate the\n",
    "        number of shots for each eta based on the random string value (0 -> eta0, 1 -> eta1)\n",
    "    \"\"\"\n",
    "    random_etas = frozenbitarray(urandom(plays))\n",
    "    eta1_shots = random_etas.count()\n",
    "    eta0_shots = plays - eta1_shots\n",
    "    return (random_etas, (eta0_shots, eta1_shots))"
   ]
  },
  {
   "cell_type": "code",
   "execution_count": 97,
   "id": "obvious-light",
   "metadata": {},
   "outputs": [],
   "source": [
    "def _check_guesses_and_return_average_success_probability(plays: int, \n",
    "                                                          random_etas: frozenbitarray, \n",
    "                                                          guesses_eta: Tuple[List[int],List[int]]) -> float:\n",
    "    \"\"\" check the guessed etas with the initial random etas and compute the average with a xor bitwise operation \"\"\"\n",
    "    guesses = frozenbitarray([guesses_eta[random_eta].pop(0) for random_eta in random_etas])\n",
    "    return 1 - (count_xor(random_etas, guesses) / plays)"
   ]
  },
  {
   "cell_type": "code",
   "execution_count": 87,
   "id": "frequent-monster",
   "metadata": {},
   "outputs": [],
   "source": [
    "def _run_all_circuits_and_return_guess(configuration: dict,\n",
    "                                       eta_shots: Optional[Tuple[int, int]] = (1, 1)) -> Tuple[List[int],\n",
    "                                                                                               List[int]]:\n",
    "    \"\"\" Create a pair of Quantum Circuits, in its transpiled form, from a given configuration \"\"\"\n",
    "    if eta_shots is None:\n",
    "        eta_shots = (1, 1)\n",
    "\n",
    "    eta_counts = [cast(Result, execute(_create_one_circuit(configuration, eta),\n",
    "                                         backend=GLOBAL_BACKEND,\n",
    "                                         shots=eta_shots[idx],\n",
    "                                         memory=False).result()).get_counts()\n",
    "                    for idx, eta in enumerate(configuration['eta_pair'])]\n",
    "    counts0_distribution = [-1.0, -1.0, -1.0, -1.0]\n",
    "    counts1_distribution = [-1.0, -1.0, -1.0, -1.0]\n",
    "    guess = [2, 2, 2, 2]\n",
    "    if '00' in eta_counts[0]: \n",
    "        counts0_distribution[0]= eta_counts[0]['00']/(2*eta_shots[0])\n",
    "    if '01' in eta_counts[0]: \n",
    "        counts0_distribution[1]= eta_counts[0]['01']/(2*eta_shots[0])\n",
    "    if '10' in eta_counts[0]: \n",
    "        counts0_distribution[2]= eta_counts[0]['10']/(2*eta_shots[0])\n",
    "    if '11' in eta_counts[0]: \n",
    "        counts0_distribution[3]= eta_counts[0]['11']/(2*eta_shots[0])\n",
    "    if '00' in eta_counts[1]: \n",
    "        counts1_distribution[0]= eta_counts[1]['00']/(2*eta_shots[0])\n",
    "    if '01' in eta_counts[1]: \n",
    "        counts1_distribution[1]= eta_counts[1]['01']/(2*eta_shots[0])\n",
    "    if '10' in eta_counts[1]: \n",
    "        counts1_distribution[2]= eta_counts[1]['10']/(2*eta_shots[0])\n",
    "    if '11' in eta_counts[1]: \n",
    "        counts1_distribution[3]= eta_counts[1]['11']/(2*eta_shots[0])\n",
    "    for i in range(len(counts_distribution)):\n",
    "        counts_distribution[i] = max (counts0_distribution[i], counts1_distribution[i])\n",
    "        if counts_distribution[i] == counts0_distribution[i]:\n",
    "            guess[i] = 0\n",
    "        elif counts_distribution[i] == counts1_distribution[i]:\n",
    "            guess[i] = 1\n",
    "    return counts_distribution, guess"
   ]
  },
  {
   "cell_type": "code",
   "execution_count": null,
   "id": "painted-inflation",
   "metadata": {},
   "outputs": [],
   "source": []
  },
  {
   "cell_type": "code",
   "execution_count": 99,
   "id": "alive-closing",
   "metadata": {},
   "outputs": [],
   "source": [
    "def _reorder_configuration(configuration: dict):\n",
    "    return {'state_probability': configuration['state_probability'],\n",
    "            'angle_rx1': configuration['angle_rx1'],\n",
    "            'angle_ry1': configuration['angle_ry1'],\n",
    "            'angle_rx0': configuration['angle_rx0'],\n",
    "            'angle_ry0': configuration['angle_ry0'],\n",
    "            'eta_pair': reorder_pair(configuration['eta_pair'])\n",
    "    }"
   ]
  },
  {
   "cell_type": "code",
   "execution_count": 38,
   "id": "vocal-catholic",
   "metadata": {},
   "outputs": [],
   "source": [
    "def _create_one_circuit(configuration: dict,\n",
    "                        eta: float) -> QuantumCircuit:\n",
    "    \"\"\" Creates one circuit from a given configuration and eta \"\"\"\n",
    "    qreg_q = QuantumRegister(3, 'q')\n",
    "    creg_c = ClassicalRegister(2, 'c')\n",
    "\n",
    "    initial_state = _prepare_initial_state_entangled(configuration['state_probability'])\n",
    "\n",
    "    circuit = QuantumCircuit(qreg_q, creg_c)\n",
    "    circuit.initialize(initial_state, [0, 1])\n",
    "    circuit.reset(qreg_q[2])\n",
    "    circuit.cry(2 * eta, qreg_q[1], qreg_q[2])\n",
    "    circuit.cx(qreg_q[2], qreg_q[1])\n",
    "    circuit.barrier()\n",
    "    circuit.cx(qreg_q[0], qreg_q[1])\n",
    "    circuit.h(qreg_q[0])\n",
    "    circuit.rx(configuration['angle_rx1'], qreg_q[1])\n",
    "    circuit.ry(configuration['angle_ry1'], qreg_q[1])\n",
    "    circuit.rx(configuration['angle_rx0'], qreg_q[0])\n",
    "    circuit.ry(configuration['angle_ry0'], qreg_q[0])\n",
    "    circuit.measure([0, 1], creg_c)\n",
    "    return circuit"
   ]
  },
  {
   "cell_type": "code",
   "execution_count": 23,
   "id": "satellite-donor",
   "metadata": {},
   "outputs": [],
   "source": [
    "def _prepare_initial_state_entangled(state_probability: float) -> Tuple[complex, complex, complex, complex]:\n",
    "    \"\"\" Prepare initial state: computing 'y' as the amplitudes  \"\"\"\n",
    "    # ORIGINAL\n",
    "    return (0, np.sqrt(state_probability), np.sqrt(1 - state_probability), 0)\n",
    "    # return (0, np.sqrt(1 - state_probability), np.sqrt(state_probability), 0)"
   ]
  },
  {
   "cell_type": "code",
   "execution_count": 102,
   "id": "angry-northeast",
   "metadata": {},
   "outputs": [],
   "source": [
    "def _get_counts_from_one_eta_counts(one_eta_counts: List[str]) -> List[int]:\n",
    "    return [_guess_eta_from_counts(one_eta_count) for one_eta_count in one_eta_counts]"
   ]
  },
  {
   "cell_type": "code",
   "execution_count": 103,
   "id": "inside-broadcast",
   "metadata": {},
   "outputs": [],
   "source": [
    "def _guess_eta_from_counts(counts: str) -> int:\n",
    "    \"\"\" Decides which eta was used on the real execution from the 'counts' measured\n",
    "        based on the guess strategy that is required to use\n",
    "    \"\"\"\n",
    "    return _guess_eta_used_two_bit_strategy(counts)"
   ]
  },
  {
   "cell_type": "code",
   "execution_count": 104,
   "id": "otherwise-corporation",
   "metadata": {},
   "outputs": [],
   "source": [
    "def _guess_eta_used_two_bit_strategy(counts: str) -> int:\n",
    "    \"\"\" Decides which eta was used on the real execution from the two 'counts' measured\n",
    "        Qubits order MATTER!!!!\n",
    "        \"01\" means that:\n",
    "          the LEFTMOST bit (0) corresponds to the measurement of the qubit that goes THROUGH the channel\n",
    "          and the RIGHTMOST bit (1) corresponds to the measurement of the qubit that goes OUTSIDE the channel\n",
    "        Remember that we are only sending |01> + |10> entangles states\n",
    "        Setting eta0 >= eta1:\n",
    "            * outcome 00 -> eta0 as the most probable (more attenuation)\n",
    "            * outcome 01 -> we do not know if there has been attenuation. 50% chance, random choice\n",
    "            * outcome 10 -> eta1 as the most probable (less attenuation)\n",
    "            * outcome 11 -> not possible, but in case we get it (from noisy simulation), 50% chance, random choice\n",
    "    \"\"\"\n",
    "    if len(counts) != 2:\n",
    "        raise ValueError('counts MUST be a two character length string')\n",
    "    if counts == \"00\":\n",
    "        return 0\n",
    "    if counts == \"10\":\n",
    "        return 1\n",
    "    if counts == \"01\" or counts == \"11\":\n",
    "        return random.choice([0, 1])\n",
    "    raise ValueError(\"Accepted counts are '00', '01', '10', '11'\")"
   ]
  },
  {
   "cell_type": "markdown",
   "id": "changing-basic",
   "metadata": {},
   "source": [
    "## Get optimized configuration to define the guess"
   ]
  },
  {
   "cell_type": "code",
   "execution_count": null,
   "id": "radical-working",
   "metadata": {},
   "outputs": [
    {
     "name": "stdout",
     "output_type": "stream",
     "text": [
      "number of eta_pairs_idx_to_optimize: 1 -> [0]\n",
      "Starting the execution\n",
      "Analyzing Optimizer Algorithm:  CRS\n"
     ]
    }
   ],
   "source": [
    "optzed_results = load_results_from_file(name=filename)\n",
    "\n",
    "GLOBAL_BACKEND=Aer.get_backend('qasm_simulator')\n",
    "GLOBAL_ETA_PAIR = (0,0)\n",
    "optimization_setup = { 'optimizer_algorithms': [A1],\n",
    "                        'optimizer_iterations': [iterations],\n",
    "                        'attenuation_angles': (np.pi/2, np.pi/4), #np.append(np.arange(0, np.pi/2, np.pi/2/eta_splits), np.pi/2),\n",
    "                        'initial_parameters': [0, 0, 0, 0, 0],\n",
    "                        'variable_bounds': [(0, 1),   # amplitude_probability\n",
    "                                            (0, 2*np.pi),  # rx1\n",
    "                                            (0, 2*np.pi),  # ry1\n",
    "                                            (0, 2*np.pi),  # rx0\n",
    "                                            (0, 2*np.pi)], # ry0\n",
    "                        'plays': shots}\n",
    "GLOBAL_ETA_PAIRS = get_combinations_two_etas_without_repeats_from_etas(optimization_setup['attenuation_angles'])\n",
    "GLOBAL_PLAYS = optimization_setup['plays']\n",
    "clone_setup=None\n",
    "\n",
    "eta_pairs_idx_to_optimize, optimal_configurations = _select_eta_pairs_to_optimize(clone_setup)\n",
    "\n",
    "print(f'number of eta_pairs_idx_to_optimize: {len(eta_pairs_idx_to_optimize)} -> {eta_pairs_idx_to_optimize}')\n",
    "\n",
    "program_start_time = time.time()\n",
    "print(\"Starting the execution\")\n",
    "    \n",
    "for eta_pair_idx in eta_pairs_idx_to_optimize:\n",
    "    start_time = time.time()\n",
    "    GLOBAL_ETA_PAIR = GLOBAL_ETA_PAIRS[eta_pair_idx]\n",
    "    result = _compute_best_configuration(optimization_setup, GLOBAL_ETA_PAIR)\n",
    "    # print(result)\n",
    "    optimal_configurations['probabilities'].append(result['best_probability'])\n",
    "    optimal_configurations['configurations'].append(result['best_configuration'])\n",
    "    optimal_configurations['best_algorithm'].append(result['best_algorithm'])\n",
    "    optimal_configurations['number_calls_made'].append(result['number_calls_made'])\n",
    "    end_time = time.time()\n",
    "    print(f\"Pair of etas # {eta_pair_idx+1} of {len(eta_pairs_idx_to_optimize)}, time taken this pair of etas: \" +\n",
    "              f'{np.round((end_time - start_time)/60, 0)} minutes' +\n",
    "              f' and {np.round((end_time - start_time) % 60, 0)} seconds')\n",
    "    print(\"total minutes taken this pair of etas: \", int(np.round((end_time - start_time) / 60)))\n",
    "    print(\"total time taken so far: \" +\n",
    "              f'{np.round((end_time - program_start_time)/60, 0)} minutes' +\n",
    "              f' and {np.round((end_time - program_start_time) % 60, 0)} seconds')\n",
    "end_time = time.time()\n",
    "print(\"total minutes of execution time: \", int(np.round((end_time - program_start_time) / 60)))\n",
    "print(f'Number eta pairs optimized: {len(eta_pairs_idx_to_optimize)}' +\n",
    "          f'from the total eta pairs: {len(GLOBAL_ETA_PAIRS)} ')\n",
    "optimal_configurations['eta_pairs'] = GLOBAL_ETA_PAIRS\n",
    "results= optimal_configurations"
   ]
  },
  {
   "cell_type": "code",
   "execution_count": 144,
   "id": "drawn-block",
   "metadata": {
    "scrolled": true
   },
   "outputs": [
    {
     "name": "stdout",
     "output_type": "stream",
     "text": [
      "The expected probability to distinguish this eta pair is: 0.5011435\n",
      "The guess to implement will do the following selections:\n",
      "   00 counts goes to: 0 which adds this probability: 0.119174\n",
      "   10 counts goes to: 1 which adds this probability: 0.2562045\n",
      "   01 counts goes to: 0 which adds this probability: 0.0397935\n",
      "   11 counts goes to: 0 which adds this probability: 0.0859715\n"
     ]
    }
   ],
   "source": [
    "optzed_results = load_results_from_file(name=filename)\n",
    "GLOBAL_BACKEND=Aer.get_backend('qasm_simulator')\n",
    "GLOBAL_ETA_PAIRS = optzed_results['eta_pairs']\n",
    "GLOBAL_PLAYS = guess_plays\n",
    "POVM_configurations = optzed_results['configurations']\n",
    "i = 0\n",
    "counts_distribution, guess = _run_all_circuits_and_return_guess(POVM_configurations[i],[GLOBAL_PLAYS, GLOBAL_PLAYS])\n",
    "expected_prob = counts_distribution[0]+counts_distribution[1]+counts_distribution[2]+counts_distribution[3]\n",
    "print('The expected probability to distinguish this eta pair is: ' + str(expected_prob))\n",
    "print('The guess to implement will do the following selections:')\n",
    "print('   00 counts goes to: ' + str(guess[0]) + ' which adds this probability: ' + str(counts_distribution[0]))\n",
    "print('   10 counts goes to: ' + str(guess[1]) + ' which adds this probability: ' + str(counts_distribution[1]))\n",
    "print('   01 counts goes to: ' + str(guess[2]) + ' which adds this probability: ' + str(counts_distribution[2]))\n",
    "print('   11 counts goes to: ' + str(guess[3]) + ' which adds this probability: ' + str(counts_distribution[3]))\n",
    "\n",
    "#GLOBAL_PLAYS = validate_plays\n",
    "#counts_distribution, guess_v = _run_all_circuits_and_validate_guess(POVM_configurations[i],[GLOBAL_PLAYS, GLOBAL_PLAYS])\n",
    "#final_probs="
   ]
  },
  {
   "cell_type": "code",
   "execution_count": null,
   "id": "verbal-reply",
   "metadata": {},
   "outputs": [],
   "source": []
  },
  {
   "cell_type": "code",
   "execution_count": 146,
   "id": "indian-string",
   "metadata": {},
   "outputs": [
    {
     "data": {
      "text/plain": [
       "[0, 1, 0, 0]"
      ]
     },
     "execution_count": 146,
     "metadata": {},
     "output_type": "execute_result"
    }
   ],
   "source": [
    "guess"
   ]
  },
  {
   "cell_type": "code",
   "execution_count": 147,
   "id": "academic-bumper",
   "metadata": {},
   "outputs": [
    {
     "data": {
      "text/plain": [
       "0.5015605"
      ]
     },
     "execution_count": 147,
     "metadata": {},
     "output_type": "execute_result"
    }
   ],
   "source": [
    "total_prob"
   ]
  },
  {
   "cell_type": "code",
   "execution_count": null,
   "id": "southwest-government",
   "metadata": {},
   "outputs": [],
   "source": []
  },
  {
   "cell_type": "code",
   "execution_count": null,
   "id": "coupled-discrimination",
   "metadata": {},
   "outputs": [],
   "source": []
  },
  {
   "cell_type": "code",
   "execution_count": null,
   "id": "biological-witch",
   "metadata": {},
   "outputs": [],
   "source": []
  },
  {
   "cell_type": "code",
   "execution_count": null,
   "id": "studied-twenty",
   "metadata": {},
   "outputs": [],
   "source": []
  },
  {
   "cell_type": "code",
   "execution_count": null,
   "id": "laughing-white",
   "metadata": {},
   "outputs": [],
   "source": []
  },
  {
   "cell_type": "code",
   "execution_count": null,
   "id": "strong-tourist",
   "metadata": {},
   "outputs": [],
   "source": [
    "# results"
   ]
  },
  {
   "cell_type": "code",
   "execution_count": null,
   "id": "banned-transfer",
   "metadata": {},
   "outputs": [],
   "source": [
    "#qreg_q = QuantumRegister(3, 'q')\n",
    "#creg_c = ClassicalRegister(2, 'c')\n",
    "#circuit = QuantumCircuit(qreg_q, creg_c)\n",
    "#circuit.initialize([0,1,0,0], [0, 1])\n",
    "#circuit.reset(qreg_q[2])\n",
    "#circuit.cry(0, qreg_q[1], qreg_q[2])\n",
    "#circuit.cx(qreg_q[2], qreg_q[1])\n",
    "#circuit.barrier()\n",
    "#circuit.rx(0, qreg_q[1])\n",
    "#circuit.ry(0, qreg_q[1])\n",
    "#circuit.rx(0, qreg_q[0])\n",
    "#circuit.ry(0, qreg_q[0])\n",
    "#circuit.cx(qreg_q[0], qreg_q[1])\n",
    "#circuit.h(qreg_q[0])\n",
    "#circuit.measure([0, 1], creg_c)\n",
    "#circuit.draw()"
   ]
  },
  {
   "cell_type": "code",
   "execution_count": null,
   "id": "corporate-aside",
   "metadata": {},
   "outputs": [],
   "source": []
  },
  {
   "cell_type": "code",
   "execution_count": null,
   "id": "copyrighted-involvement",
   "metadata": {},
   "outputs": [],
   "source": []
  },
  {
   "cell_type": "code",
   "execution_count": null,
   "id": "physical-mistress",
   "metadata": {},
   "outputs": [],
   "source": []
  },
  {
   "cell_type": "code",
   "execution_count": null,
   "id": "short-april",
   "metadata": {},
   "outputs": [],
   "source": []
  }
 ],
 "metadata": {
  "kernelspec": {
   "display_name": "Python 3",
   "language": "python",
   "name": "python3"
  },
  "language_info": {
   "codemirror_mode": {
    "name": "ipython",
    "version": 3
   },
   "file_extension": ".py",
   "mimetype": "text/x-python",
   "name": "python",
   "nbconvert_exporter": "python",
   "pygments_lexer": "ipython3",
   "version": "3.9.2"
  }
 },
 "nbformat": 4,
 "nbformat_minor": 5
}
