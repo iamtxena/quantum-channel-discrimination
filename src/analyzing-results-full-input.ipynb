{
 "cells": [
  {
   "cell_type": "markdown",
   "id": "fresh-westminster",
   "metadata": {
    "toc": true
   },
   "source": [
    "<h1>Table of Contents<span class=\"tocSkip\"></span></h1>\n",
    "<div class=\"toc\"><ul class=\"toc-item\"></ul></div>"
   ]
  },
  {
   "cell_type": "markdown",
   "id": "brazilian-surfing",
   "metadata": {},
   "source": [
    "# Analyzing results from a circuit with a Full Input"
   ]
  },
  {
   "cell_type": "code",
   "execution_count": 1,
   "id": "solar-treat",
   "metadata": {},
   "outputs": [],
   "source": [
    "import os,sys,inspect\n",
    "currentdir = os.path.dirname(os.path.abspath(inspect.getfile(inspect.currentframe())))\n",
    "parentdir = os.path.dirname(currentdir)\n",
    "sys.path.insert(0,parentdir) \n",
    "\n",
    "from qcd.optimizationresults.globaloptimizationresults import GlobalOptimizationResultsFullInput"
   ]
  },
  {
   "cell_type": "code",
   "execution_count": 2,
   "id": "cheap-fellowship",
   "metadata": {},
   "outputs": [
    {
     "name": "stderr",
     "output_type": "stream",
     "text": [
      "ic| number_third_channels: 20\n",
      "ic| number_eta_pairs: 6\n",
      "ic| len(list_configs): 6\n",
      "ic| number_third_channels: 5\n",
      "ic| number_eta_pairs: 3\n",
      "ic| len(list_configs): 3\n",
      "ic| number_third_channels: 5\n",
      "ic| number_eta_pairs: 3\n",
      "ic| len(list_configs): 3\n"
     ]
    }
   ],
   "source": [
    "results = GlobalOptimizationResultsFullInput.load_results(file_names=['20210421a_C2b_A1_1000_10000_3_6_20'],\n",
    "                                                 path=\"results/\")"
   ]
  },
  {
   "cell_type": "code",
   "execution_count": 10,
   "id": "extreme-application",
   "metadata": {},
   "outputs": [
    {
     "data": {
      "image/png": "[encoded data removed]",
      "text/plain": [
       "<Figure size 432x288 with 2 Axes>"
      ]
     },
     "metadata": {
      "needs_background": "light"
     },
     "output_type": "display_data"
    }
   ],
   "source": [
    "results.plot_probabilities(results_index=5)"
   ]
  },
  {
   "cell_type": "code",
   "execution_count": 4,
   "id": "direct-louisville",
   "metadata": {},
   "outputs": [
    {
     "data": {
      "text/plain": [
       "<qcd.optimizationresults.globaloptimizationresultsFullInput.GlobalOptimizationResultsFullInput at 0x7f9029f1f070>"
      ]
     },
     "execution_count": 4,
     "metadata": {},
     "output_type": "execute_result"
    }
   ],
   "source": [
    "results"
   ]
  },
  {
   "cell_type": "code",
   "execution_count": 4,
   "id": "minimal-calcium",
   "metadata": {},
   "outputs": [
    {
     "data": {
      "text/plain": [
       "20"
      ]
     },
     "execution_count": 4,
     "metadata": {},
     "output_type": "execute_result"
    }
   ],
   "source": [
    "len(results._optimization_results[0]._two_eta_configurations[0]['eta_groups'])"
   ]
  },
  {
   "cell_type": "code",
   "execution_count": null,
   "id": "silver-summary",
   "metadata": {},
   "outputs": [],
   "source": []
  }
 ],
 "metadata": {
  "kernelspec": {
   "display_name": "Python 3",
   "language": "python",
   "name": "python3"
  },
  "language_info": {
   "codemirror_mode": {
    "name": "ipython",
    "version": 3
   },
   "file_extension": ".py",
   "mimetype": "text/x-python",
   "name": "python",
   "nbconvert_exporter": "python",
   "pygments_lexer": "ipython3",
   "version": "3.8.2"
  },
  "toc": {
   "base_numbering": 1,
   "nav_menu": {},
   "number_sections": true,
   "sideBar": true,
   "skip_h1_title": true,
   "title_cell": "Table of Contents",
   "title_sidebar": "Contents",
   "toc_cell": true,
   "toc_position": {},
   "toc_section_display": true,
   "toc_window_display": true
  }
 },
 "nbformat": 4,
 "nbformat_minor": 5
}
