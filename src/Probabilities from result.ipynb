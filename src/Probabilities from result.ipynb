{
 "cells": [
  {
   "cell_type": "markdown",
   "id": "false-madness",
   "metadata": {},
   "source": [
    "# Print probabilities from results"
   ]
  },
  {
   "cell_type": "code",
   "execution_count": 9,
   "id": "breathing-paragraph",
   "metadata": {},
   "outputs": [],
   "source": [
    "import numpy as np\n",
    "import matplotlib.pyplot as plt\n",
    "import pickle"
   ]
  },
  {
   "cell_type": "code",
   "execution_count": 10,
   "id": "engaged-discount",
   "metadata": {},
   "outputs": [],
   "source": [
    "def load_results_from_file(name ):\n",
    "    with open('results/' + name + '.pkl', 'rb') as f:\n",
    "        return pickle.load(f)"
   ]
  },
  {
   "cell_type": "code",
   "execution_count": 11,
   "id": "adjustable-guatemala",
   "metadata": {},
   "outputs": [],
   "source": [
    "\"\"\" Load results from a file \"\"\"\n",
    "result = load_results_from_file(name='20210320_results_CRS')"
   ]
  },
  {
   "cell_type": "code",
   "execution_count": 12,
   "id": "interior-opinion",
   "metadata": {},
   "outputs": [
    {
     "data": {
      "image/png": "[encoded data removed]",
      "text/plain": [
       "<Figure size 432x288 with 1 Axes>"
      ]
     },
     "metadata": {
      "needs_background": "light"
     },
     "output_type": "display_data"
    }
   ],
   "source": [
    "X = []\n",
    "for eta_pair in result['eta_pairs']:\n",
    "    X.append(eta_pair[1])\n",
    "    X.append(eta_pair[0])\n",
    "X = sorted(list(set(X)))\n",
    "lenx = len(X)\n",
    "probs = np.zeros((lenx,lenx))\n",
    "values = list(result.values())\n",
    "for ind_prob in range(len(values[2])):\n",
    "    check = ind_prob\n",
    "    ind_0 = 0\n",
    "    ind_1 = 1\n",
    "    pas = 1\n",
    "    start = 1\n",
    "    while check > 0:\n",
    "        check = check - lenx + pas + start\n",
    "        ind_0 = pas - 1\n",
    "        ind_1 = lenx - 1 + check \n",
    "        pas = pas + 1\n",
    "        start = 0\n",
    "    probs[ind_0, ind_1]= values[2][ind_prob]\n",
    "for i in range(len(X)):\n",
    "    probs[i, i]= 0.5    \n",
    "plt.imshow(probs)\n",
    "plt.show()"
   ]
  },
  {
   "cell_type": "code",
   "execution_count": null,
   "id": "biblical-puppy",
   "metadata": {},
   "outputs": [],
   "source": []
  }
 ],
 "metadata": {
  "kernelspec": {
   "display_name": "Python 3",
   "language": "python",
   "name": "python3"
  },
  "language_info": {
   "codemirror_mode": {
    "name": "ipython",
    "version": 3
   },
   "file_extension": ".py",
   "mimetype": "text/x-python",
   "name": "python",
   "nbconvert_exporter": "python",
   "pygments_lexer": "ipython3",
   "version": "3.9.1"
  }
 },
 "nbformat": 4,
 "nbformat_minor": 5
}
