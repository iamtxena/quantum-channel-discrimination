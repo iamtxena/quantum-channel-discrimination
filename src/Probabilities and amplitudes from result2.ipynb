{
 "cells": [
  {
   "cell_type": "markdown",
   "id": "interracial-merchandise",
   "metadata": {},
   "source": [
    "# Print probabilities from results"
   ]
  },
  {
   "cell_type": "code",
   "execution_count": 2,
   "id": "dental-nudist",
   "metadata": {},
   "outputs": [],
   "source": [
    "from qiskit import QuantumRegister, ClassicalRegister, QuantumCircuit, Aer, execute\n",
    "from qiskit.aqua.components.optimizers import GSLS, L_BFGS_B, SLSQP, TNC, CRS, DIRECT_L, DIRECT_L_RAND, ESCH, ISRES\n",
    "import math\n",
    "import random\n",
    "import numpy as np\n",
    "from numpy import pi\n",
    "import itertools\n",
    "import matplotlib.pyplot as plt\n",
    "import pickle\n",
    "import matplotlib.patches as mpatches"
   ]
  },
  {
   "cell_type": "code",
   "execution_count": 3,
   "id": "facial-authentication",
   "metadata": {},
   "outputs": [],
   "source": [
    "def load_results_from_file(name ):\n",
    "    with open('results/' + name + '.pkl', 'rb') as f:\n",
    "        return pickle.load(f)\n",
    "    \n",
    "def save_results_to_disk(obj, name ):\n",
    "    with open('results/'+ name + '.pkl', 'wb') as f:\n",
    "        pickle.dump(obj, f, pickle.HIGHEST_PROTOCOL)\n",
    "    \n",
    "def get_max_result(first, second):\n",
    "    Max = first\n",
    "    for ind in range(len(MAX['probabilities'])):\n",
    "        if Max['probabilities'][ind] < second['probabilities'][ind]:\n",
    "            Max['best_algorithm'][ind] = second['best_algorithm'][ind]\n",
    "            Max['probabilities'][ind] = second['probabilities'][ind]\n",
    "            Max['configurations'][ind] = second['configurations'][ind]\n",
    "    return(Max)"
   ]
  },
  {
   "cell_type": "code",
   "execution_count": 4,
   "id": "handed-rebecca",
   "metadata": {},
   "outputs": [],
   "source": [
    "result1 = load_results_from_file(name='VAL_20210502ja_C1_A2_100_100000')"
   ]
  },
  {
   "cell_type": "code",
   "execution_count": 3,
   "id": "peaceful-latin",
   "metadata": {},
   "outputs": [],
   "source": [
    "\"\"\" Load results from a file \"\"\"\n",
    "#result1 = load_results_from_file(name='20210331_results_CRS_clons')\n",
    "#result1 = load_results_from_file(name='20210331_results_clons')\n",
    "\n",
    "result1 = load_results_from_file(name='20210331_C1_CRS_Clon00')\n",
    "result2 = load_results_from_file(name='20210331_C1_CRS_Clon01')\n",
    "result3 = load_results_from_file(name='20210331_C1_CRS_Clon02')\n",
    "result4 = load_results_from_file(name='20210331_C1_CRS_Clon03')\n",
    "result5 = load_results_from_file(name='20210331_C1_CRS_Clon04')\n",
    "result6 = load_results_from_file(name='20210331_C1_CRS_Clon05')\n",
    "result7 = load_results_from_file(name='20210331_C1_CRS_Clon06')\n",
    "result8 = load_results_from_file(name='20210331_C1_CRS_Clon07')\n",
    "result9 = load_results_from_file(name='20210331_C1_CRS_Clon08')\n",
    "result0 = load_results_from_file(name='20210331_C1_CRS_Clon09')\n",
    "result10 = load_results_from_file(name='20210331_C1_CRS_Clon10')\n",
    "result11 = load_results_from_file(name='20210331_C1_CRS_Clon11')\n",
    "\n",
    "\"\"\" Mix result files \"\"\"\n",
    "MAX = result1\n",
    "MAX =  get_max_result(result1, result2)\n",
    "MAX =  get_max_result(result1, result3)\n",
    "MAX =  get_max_result(result1, result4)\n",
    "MAX =  get_max_result(result1, result5)\n",
    "MAX =  get_max_result(result1, result6)\n",
    "MAX =  get_max_result(result1, result7)\n",
    "MAX =  get_max_result(result1, result8)\n",
    "MAX =  get_max_result(result1, result9)\n",
    "MAX =  get_max_result(result1, result0)\n",
    "MAX =  get_max_result(result1, result10)\n",
    "MAX =  get_max_result(result1, result11)\n",
    "result1 = MAX"
   ]
  },
  {
   "cell_type": "code",
   "execution_count": 27,
   "id": "productive-nashville",
   "metadata": {},
   "outputs": [],
   "source": [
    "\"\"\" Save mixed results to a file \"\"\"\n",
    "#save_results_to_disk(result1, name='20210331_results_CRS_clons')\n",
    "#save_results_to_disk(result1, name='20210331_results_clons')"
   ]
  },
  {
   "cell_type": "markdown",
   "id": "sorted-antenna",
   "metadata": {},
   "source": [
    "# From simulation results loaded previouly extract probabilities\n",
    "\n",
    "Plot the probabilities array for both simulations"
   ]
  },
  {
   "cell_type": "code",
   "execution_count": 19,
   "id": "prerequisite-turtle",
   "metadata": {},
   "outputs": [
    {
     "data": {
      "image/png": "[encoded data removed]",
      "text/plain": [
       "<Figure size 432x288 with 2 Axes>"
      ]
     },
     "metadata": {
      "needs_background": "light"
     },
     "output_type": "display_data"
    }
   ],
   "source": [
    "X1 = []\n",
    "for eta_pair in result1['eta_pairs']:\n",
    "    X1.append(eta_pair[0])\n",
    "    X1.append(eta_pair[1])\n",
    "X1 = sorted(list(dict.fromkeys(X1)))\n",
    "lenx1 = len(X1)\n",
    "probs1 = np.zeros((lenx1,lenx1))\n",
    "values1 = list(result1.values())\n",
    "for ind_prob in range(len(values1[2])):\n",
    "    ind_0 = X1.index(result1['eta_pairs'][ind_prob][0])\n",
    "    ind_1 = X1.index(result1['eta_pairs'][ind_prob][1])\n",
    "    probs1[ind_0, ind_1]= values1[2][ind_prob]\n",
    "for i in range(len(X1)):\n",
    "    probs1[i, i]= 0.5 \n",
    "\n",
    "\n",
    "fig = plt.figure('Probabilities from simulation')\n",
    "ax1 = fig.add_subplot(111)\n",
    "im = ax1.imshow(probs1, cmap='viridis', extent =(0, 90, 90, 0), vmin=0, vmax=1)\n",
    "cb = plt.colorbar(im, label = 'Probabilities value')\n",
    "ax1.set_xlabel('Channel 0 (angle Eta)')\n",
    "ax1.set_ylabel('Channel 1 (angle Eta)')\n",
    "\n",
    "plt.show()"
   ]
  },
  {
   "cell_type": "markdown",
   "id": "satisfied-gates",
   "metadata": {},
   "source": [
    "The following graph shows the optimization algorithm which provided the better result"
   ]
  },
  {
   "cell_type": "code",
   "execution_count": 12,
   "id": "particular-parent",
   "metadata": {},
   "outputs": [
    {
     "data": {
      "image/png": "[encoded data removed]",
      "text/plain": [
       "<Figure size 432x288 with 1 Axes>"
      ]
     },
     "metadata": {
      "needs_background": "light"
     },
     "output_type": "display_data"
    }
   ],
   "source": [
    "X1 = []\n",
    "for eta_pair in result1['eta_pairs']:\n",
    "    X1.append(eta_pair[1])\n",
    "    X1.append(eta_pair[0])\n",
    "X1 = sorted(list(dict.fromkeys(X1)))\n",
    "lenx1 = len(X1)\n",
    "Optim1 = np.zeros((lenx1,lenx1))\n",
    "values1 = list(result1.values())\n",
    "for ind_prob in range(len(values1[1])):\n",
    "    ind_0 = X1.index(result1['eta_pairs'][ind_prob][0])\n",
    "    ind_1 = X1.index(result1['eta_pairs'][ind_prob][1])\n",
    "    if values1[1][ind_prob] == 'CRS':\n",
    "        Opt = 0.2\n",
    "    elif values1[1][ind_prob] == 'DIRECT_L':\n",
    "        Opt = 0.3\n",
    "    else:\n",
    "        Opt = 0.5\n",
    "    Optim1[ind_1, ind_0]= Opt\n",
    "\n",
    "\n",
    "fig = plt.figure('Optimization algorithm contribution in simulation')\n",
    "ax1 = fig.add_subplot(111)\n",
    "ax1.set_xlabel('Channel 0 (angle Eta)')\n",
    "ax1.set_ylabel('Channel 1 (angle Eta)')\n",
    "\n",
    "values = [0.2, 0.3, 0.5]\n",
    "Opt = ['CRS', 'DIRECT_L', 'DIRECT_L_RAND']\n",
    "im = plt.imshow(Optim1, interpolation='none', extent =(0, 90, 90, 0))\n",
    "colors = [ im.cmap(im.norm(value)) for value in values]\n",
    "patches = [ mpatches.Patch(color=colors[i], label=Opt[i]) for i in range(len(Opt)) ]\n",
    "plt.legend(handles=patches, bbox_to_anchor=(1.05, 1), loc=2, borderaxespad=0. )\n",
    "plt.grid(False)\n",
    "\n",
    "\n",
    "plt.show()"
   ]
  },
  {
   "cell_type": "markdown",
   "id": "remarkable-center",
   "metadata": {},
   "source": [
    "# Expected results\n",
    "## What the theoric results from the paper are?\n",
    "The following functions allow to prepare a matrix in the same shape the arrays simulated to compare against later."
   ]
  },
  {
   "cell_type": "code",
   "execution_count": 13,
   "id": "through-catholic",
   "metadata": {},
   "outputs": [],
   "source": [
    "def get_combinations_two_etas_without_repeats(input_list_lambda):\n",
    "    \"\"\" from a given list of attenuations (lambdas) create a \n",
    "        list of all combinatorial pairs of possible lambdas\n",
    "        without repeats (order does not matter).\n",
    "        For us it is the same testing first lambda 0.1 and second lambda 0.2 \n",
    "        than first lambda 0.2 and second lambda 0.1\n",
    "    \"\"\"\n",
    "    list_lambda = input_list_lambda\n",
    "     # when there is only one element, we add the same element\n",
    "    if len(list_lambda) == 1:\n",
    "        list_lambda.append(list_lambda[0])\n",
    "    # get combinations of two lambdas without repeats\n",
    "    return list(itertools.combinations(list_lambda, 2))"
   ]
  },
  {
   "cell_type": "markdown",
   "id": "hourly-agriculture",
   "metadata": {},
   "source": [
    "Here a result is computed to be operated in the same way that info from simulations."
   ]
  },
  {
   "cell_type": "code",
   "execution_count": 36,
   "id": "characteristic-bumper",
   "metadata": {},
   "outputs": [
    {
     "name": "stdout",
     "output_type": "stream",
     "text": [
      "Starting the execution\n",
      "Total pair of etas calculated: 210\n"
     ]
    }
   ],
   "source": [
    "# create the channels to be used\n",
    "# from 0 to pi/2 in steps of 0.1, and adding the 1 as the last value\n",
    "etas = np.append(np.arange(0, pi/2, pi/2/20), pi/2)\n",
    "\n",
    "two_pair_etas = get_combinations_two_etas_without_repeats(etas)\n",
    "probabilities = []\n",
    "configurations = []\n",
    "best_algorithm = ['THEORY']\n",
    "\n",
    "#program_start_time = time.time()\n",
    "print(\"Starting the execution\")\n",
    "\n",
    "for eta_pair in two_pair_etas:\n",
    "    GLOBAL_LAMBDA1=eta_pair[0]\n",
    "    GLOBAL_LAMBDA0=eta_pair[1]\n",
    "    Gamma = np.cos(GLOBAL_LAMBDA1) + np.cos(GLOBAL_LAMBDA0)\n",
    "    if Gamma < 1/np.sqrt(2):\n",
    "        best_probability = 1/2 + 1/4*(np.cos(GLOBAL_LAMBDA1) - np.cos(GLOBAL_LAMBDA0))/np.sqrt(1-Gamma*Gamma)\n",
    "        best_configuration = 1/(2 - 2 * Gamma * Gamma)\n",
    "    else:\n",
    "        best_probability = 1/2 * (np.sin(GLOBAL_LAMBDA0)*np.sin(GLOBAL_LAMBDA0) + np.cos(GLOBAL_LAMBDA1)*np.cos(GLOBAL_LAMBDA1))\n",
    "        best_configuration = 1\n",
    "    probabilities.append(best_probability)\n",
    "    configurations.append(best_configuration)\n",
    "    best_algorithm.append('THEORY')\n",
    "\n",
    "print(f'Total pair of etas calculated: {len(two_pair_etas)}')\n",
    "\n",
    "theoric_result = {\n",
    "    \"eta_pairs\": two_pair_etas,\n",
    "    \"best_algorithm\": best_algorithm,\n",
    "    \"probabilities\": probabilities,\n",
    "    \"configurations\": configurations\n",
    "}"
   ]
  },
  {
   "cell_type": "code",
   "execution_count": 37,
   "id": "strong-shooting",
   "metadata": {},
   "outputs": [
    {
     "data": {
      "image/png": "[encoded data removed]",
      "text/plain": [
       "<Figure size 432x288 with 2 Axes>"
      ]
     },
     "metadata": {
      "needs_background": "light"
     },
     "output_type": "display_data"
    }
   ],
   "source": [
    "X3 = []\n",
    "for eta_pair in theoric_result['eta_pairs']:\n",
    "    X3.append((eta_pair[1]))\n",
    "    X3.append((eta_pair[0]))\n",
    "X3 = sorted(list(dict.fromkeys(X3)))\n",
    "lenx3 = len(X3)\n",
    "probs3 = np.zeros((lenx3,lenx3))\n",
    "values3 = list(theoric_result.values())\n",
    "for ind_prob in range(len(values3[2])):\n",
    "    ind_0 = X3.index(theoric_result['eta_pairs'][ind_prob][0])\n",
    "    ind_1 = X3.index(theoric_result['eta_pairs'][ind_prob][1])\n",
    "    probs3[ind_1, ind_0]= values3[2][ind_prob]\n",
    "for i in range(len(X3)):\n",
    "    probs3[i, i]= 0.5   \n",
    "\n",
    "\n",
    "fig = plt.figure('Probabilities from simulation')\n",
    "ax1 = fig.add_subplot(111)\n",
    "im = ax1.imshow(probs3, cmap='viridis', extent =(0, 90, 90, 0))\n",
    "cb = plt.colorbar(im, label = 'Probabilities value')\n",
    "ax1.set_xlabel('Channel 0 (angle Eta)')\n",
    "ax1.set_ylabel('Channel 1 (angle Eta)')\n",
    "\n",
    "plt.show()"
   ]
  },
  {
   "cell_type": "markdown",
   "id": "private-embassy",
   "metadata": {},
   "source": [
    "# Compare probabilities from simulations against the theoric ones from paper\n",
    " ## Simulation 1 vs theory in absolute value"
   ]
  },
  {
   "cell_type": "code",
   "execution_count": 23,
   "id": "catholic-praise",
   "metadata": {},
   "outputs": [
    {
     "data": {
      "image/png": "[encoded data removed]",
      "text/plain": [
       "<Figure size 432x288 with 2 Axes>"
      ]
     },
     "metadata": {
      "needs_background": "light"
     },
     "output_type": "display_data"
    }
   ],
   "source": [
    "Delta_prob1= probs3 - probs1\n",
    "\n",
    "fig = plt.figure('Difference in Probabilities (simulation vs. theory')\n",
    "ax1 = fig.add_subplot(111)\n",
    "im = ax1.imshow(Delta_prob2, cmap='RdBu', extent =(0, 90, 90, 0), vmin=-0.2, vmax=0.2)\n",
    "cb = plt.colorbar(im, label = 'Probabilities Delta value')\n",
    "ax1.set_xlabel('Channel 0 (angle Eta)')\n",
    "ax1.set_ylabel('Channel 1 (angle Eta)')\n",
    "\n",
    "plt.show()"
   ]
  },
  {
   "cell_type": "markdown",
   "id": "noted-andrew",
   "metadata": {},
   "source": [
    " ## Simulation 1 vs theory in percentage"
   ]
  },
  {
   "cell_type": "code",
   "execution_count": 25,
   "id": "received-champagne",
   "metadata": {},
   "outputs": [
    {
     "data": {
      "image/png": "[encoded data removed]",
      "text/plain": [
       "<Figure size 432x288 with 2 Axes>"
      ]
     },
     "metadata": {
      "needs_background": "light"
     },
     "output_type": "display_data"
    }
   ],
   "source": [
    "Total_col, Total_row = Delta_prob1.shape\n",
    "col=Total_col\n",
    "Delta_Pc_prob1= np.zeros((Total_col,Total_row))\n",
    "while col > 0:\n",
    "    row = Total_row\n",
    "    while row > 0:\n",
    "        if probs3[row-1, col-1] == 0:\n",
    "            if Delta_prob1[row-1, col-1] == 0:\n",
    "                Delta_Pc_prob1[row-1, col-1]= 0\n",
    "            else:\n",
    "                Delta_Pc_prob1[row-1, col-1]= 10000\n",
    "        else:\n",
    "            Delta_Pc_prob1[row-1, col-1] = 100*Delta_prob1[row-1, col-1]/probs3[row-1, col-1]\n",
    "        row = row - 1\n",
    "    col = col - 1\n",
    "\n",
    "fig = plt.figure('Deviation in % from theoric probability (simulation vs. theory')\n",
    "ax1 = fig.add_subplot(111)\n",
    "im = ax1.imshow(Delta_Pc_prob1, cmap='RdBu', extent =(0, 90, 90, 0), vmin=-10, vmax=10)\n",
    "cb = plt.colorbar(im, label = 'Probabilities Delta (%)')\n",
    "ax1.set_xlabel('Channel 0 (angle Eta)')\n",
    "ax1.set_ylabel('Channel 1 (angle Eta)')\n",
    "\n",
    "plt.show()"
   ]
  },
  {
   "cell_type": "markdown",
   "id": "vietnamese-optics",
   "metadata": {},
   "source": [
    "# Input state obtained from simulations vs Theory\n",
    "## Amplitude |1> from 1st simulation"
   ]
  },
  {
   "cell_type": "code",
   "execution_count": 39,
   "id": "undefined-cycling",
   "metadata": {},
   "outputs": [
    {
     "data": {
      "image/png": "[encoded data removed]",
      "text/plain": [
       "<Figure size 432x288 with 2 Axes>"
      ]
     },
     "metadata": {
      "needs_background": "light"
     },
     "output_type": "display_data"
    }
   ],
   "source": [
    "X1 = []\n",
    "for eta_pair in result1['eta_pairs']:\n",
    "    X1.append(eta_pair[1])\n",
    "    X1.append(eta_pair[0])\n",
    "X1 = sorted(list(set(X1)))\n",
    "lenx1 = len(X1)\n",
    "amp1 = np.zeros((lenx1,lenx1))\n",
    "values1 = list(result1.values())\n",
    "for ind_prob in range(len(values1[3])):\n",
    "    ind_0 = X3.index(theoric_result['eta_pairs'][ind_prob][0])\n",
    "    ind_1 = X3.index(theoric_result['eta_pairs'][ind_prob][1])\n",
    "    amp1[ind_1, ind_0]= values1[3][ind_prob]['state_probability']\n",
    "for i in range(len(X1)):\n",
    "    amp1[i, i]= 0    \n",
    "\n",
    "fig = plt.figure('Input state amplitude |1> obtained from simulation 1')\n",
    "ax1 = fig.add_subplot(111)\n",
    "im = ax1.imshow(amp1, cmap='viridis', extent =(0, 90, 90, 0), vmin=0, vmax=1)\n",
    "cb = plt.colorbar(im, label = 'Amplitude value')\n",
    "ax1.set_xlabel('Channel 0 (angle Eta)')\n",
    "ax1.set_ylabel('Channel 1 (angle Eta)')\n",
    "\n",
    "plt.show()"
   ]
  },
  {
   "cell_type": "markdown",
   "id": "moving-career",
   "metadata": {},
   "source": [
    "## Amplitude |1> expected from theoric formula"
   ]
  },
  {
   "cell_type": "code",
   "execution_count": 38,
   "id": "norman-picnic",
   "metadata": {},
   "outputs": [
    {
     "data": {
      "image/png": "[encoded data removed]",
      "text/plain": [
       "<Figure size 432x288 with 2 Axes>"
      ]
     },
     "metadata": {
      "needs_background": "light"
     },
     "output_type": "display_data"
    }
   ],
   "source": [
    "X3 = []\n",
    "for eta_pair in theoric_result['eta_pairs']:\n",
    "    X3.append(eta_pair[1])\n",
    "    X3.append(eta_pair[0])\n",
    "X3 = sorted(list(set(X3)))\n",
    "lenx3 = len(X3)\n",
    "amp3 = np.zeros((lenx3,lenx3))\n",
    "values3 = list(theoric_result.values())\n",
    "for ind_prob in range(len(values3[3])):\n",
    "    ind_0 = X3.index(theoric_result['eta_pairs'][ind_prob][0])\n",
    "    ind_1 = X3.index(theoric_result['eta_pairs'][ind_prob][1])\n",
    "    amp3[ind_1, ind_0]= values3[3][ind_prob]\n",
    "for i in range(len(X3)):\n",
    "    amp3[i, i]= 0    \n",
    "\n",
    "fig = plt.figure('Input state amplitude |1> expected from theory')\n",
    "ax1 = fig.add_subplot(111)\n",
    "im = ax1.imshow(amp3, cmap='viridis', extent =(0, 90, 90, 0), vmin=0, vmax=1)\n",
    "cb = plt.colorbar(im, label = 'Amplitude value')\n",
    "ax1.set_xlabel('Channel 0 (angle Eta)')\n",
    "ax1.set_ylabel('Channel 1 (angle Eta)')\n",
    "\n",
    "plt.show()\n"
   ]
  },
  {
   "cell_type": "markdown",
   "id": "seven-environment",
   "metadata": {},
   "source": [
    "## Amplitude deltas when comparing simulation results from theory"
   ]
  },
  {
   "cell_type": "code",
   "execution_count": 40,
   "id": "arbitrary-poultry",
   "metadata": {},
   "outputs": [
    {
     "data": {
      "image/png": "[encoded data removed]",
      "text/plain": [
       "<Figure size 432x288 with 2 Axes>"
      ]
     },
     "metadata": {
      "needs_background": "light"
     },
     "output_type": "display_data"
    }
   ],
   "source": [
    "Deltaamp1= amp3 - amp1\n",
    "\n",
    "fig = plt.figure('Difference in Amplitudes (simulation1 vs. theory')\n",
    "ax1 = fig.add_subplot(111)\n",
    "im = ax1.imshow(Deltaamp1, cmap='RdBu', extent =(0, 90, 90, 0), vmin=-1, vmax=1)\n",
    "cb = plt.colorbar(im, label = 'Amplitude Delta value')\n",
    "ax1.set_xlabel('Channel 0 (angle Eta)')\n",
    "ax1.set_ylabel('Channel 1 (angle Eta)')\n",
    "\n",
    "plt.show()"
   ]
  },
  {
   "cell_type": "code",
   "execution_count": 34,
   "id": "printable-traveler",
   "metadata": {},
   "outputs": [
    {
     "name": "stdout",
     "output_type": "stream",
     "text": [
      "0.5\n"
     ]
    }
   ],
   "source": [
    "print(values1[3][0]['state_probability'])"
   ]
  },
  {
   "cell_type": "code",
   "execution_count": null,
   "id": "cardiovascular-release",
   "metadata": {},
   "outputs": [],
   "source": []
  }
 ],
 "metadata": {
  "kernelspec": {
   "display_name": "Python 3",
   "language": "python",
   "name": "python3"
  },
  "language_info": {
   "codemirror_mode": {
    "name": "ipython",
    "version": 3
   },
   "file_extension": ".py",
   "mimetype": "text/x-python",
   "name": "python",
   "nbconvert_exporter": "python",
   "pygments_lexer": "ipython3",
   "version": "3.9.2"
  },
  "varInspector": {
   "cols": {
    "lenName": 16,
    "lenType": 16,
    "lenVar": 40
   },
   "kernels_config": {
    "python": {
     "delete_cmd_postfix": "",
     "delete_cmd_prefix": "del ",
     "library": "var_list.py",
     "varRefreshCmd": "print(var_dic_list())"
    },
    "r": {
     "delete_cmd_postfix": ") ",
     "delete_cmd_prefix": "rm(",
     "library": "var_list.r",
     "varRefreshCmd": "cat(var_dic_list()) "
    }
   },
   "types_to_exclude": [
    "module",
    "function",
    "builtin_function_or_method",
    "instance",
    "_Feature"
   ],
   "window_display": false
  }
 },
 "nbformat": 4,
 "nbformat_minor": 5
}
