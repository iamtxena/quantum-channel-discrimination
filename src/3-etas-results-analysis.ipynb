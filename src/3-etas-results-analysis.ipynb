{
 "cells": [
  {
   "cell_type": "markdown",
   "id": "critical-sight",
   "metadata": {},
   "source": [
    "# Analysis for a 3 quantum damping channel discrimination"
   ]
  },
  {
   "cell_type": "code",
   "execution_count": 1,
   "id": "honey-somalia",
   "metadata": {},
   "outputs": [],
   "source": [
    "import os,sys,inspect\n",
    "currentdir = os.path.dirname(os.path.abspath(inspect.getfile(inspect.currentframe())))\n",
    "parentdir = os.path.dirname(currentdir)\n",
    "sys.path.insert(0,parentdir) \n",
    "\n",
    "from typing import cast, Tuple, List\n",
    "from qcd import load_object_from_file\n",
    "from qcd.typings.configurations import OptimalConfigurations\n",
    "from qcd.configurations import OneShotConfiguration\n",
    "import math"
   ]
  },
  {
   "cell_type": "code",
   "execution_count": 2,
   "id": "capable-military",
   "metadata": {},
   "outputs": [],
   "source": [
    "results = load_object_from_file(name='20210414b_C2_A2_1000_10000_3_1_20', path='../demo/data/')"
   ]
  },
  {
   "cell_type": "code",
   "execution_count": null,
   "id": "union-shark",
   "metadata": {},
   "outputs": [],
   "source": [
    "class OptimalConfigurations(TypedDict, total=False):\n",
    "    eta_groups: List[List[float]]\n",
    "    best_algorithm: List[str]\n",
    "    probabilities: List[float]\n",
    "    configurations: List[ChannelConfiguration]\n",
    "    number_calls_made: List[int]\n",
    "    legacy: bool\n",
    "\n",
    "return {'state_probability': self._state_probability if hasattr(self, 'state_probability') else self._theta,\n",
    "'angle_rx': self._angle_rx,\n",
    "'angle_ry': self._angle_ry,\n",
    "'eta_group': self._eta_group,\n",
    "}"
   ]
  },
  {
   "cell_type": "code",
   "execution_count": 3,
   "id": "harmful-seventh",
   "metadata": {},
   "outputs": [],
   "source": [
    "def get_number_eta_pairs(eta_groups)->int:\n",
    "    eta_third = eta_groups[0][2]\n",
    "    number_eta_pairs = 0\n",
    "    for eta_group in eta_groups:\n",
    "        if eta_group[2] != eta_third:\n",
    "            return number_eta_pairs\n",
    "        number_eta_pairs += 1"
   ]
  },
  {
   "cell_type": "code",
   "execution_count": 115,
   "id": "orange-customer",
   "metadata": {},
   "outputs": [],
   "source": [
    "def get_etas_and_probabilities_from_optimal_results(optimal_results: OptimalConfigurations)-> List[dict]:\n",
    "    \"\"\" From the optimal results, obtain the etas and the result probabilities for each 3-eta execution.\n",
    "        Return a list of etas used (in degrees) and the probabilities with the associated eta pair.\n",
    "    \"\"\"\n",
    "    probabilities = []\n",
    "    eta_pairs = []\n",
    "    etas_third_channel = []\n",
    "    \n",
    "    for configuration in optimal_results['configurations']:\n",
    "        eta_pairs.append((int(math.degrees(cast(OneShotConfiguration, configuration).eta_group[0])),\n",
    "                         int(math.degrees(cast(OneShotConfiguration, configuration).eta_group[1]))))\n",
    "        etas_third_channel.append(int(math.degrees(cast(OneShotConfiguration, configuration).eta_group[2])))\n",
    "        probabilities.append(cast(OneShotConfiguration, configuration).state_probability)\n",
    "\n",
    "    number_eta_pairs = get_number_eta_pairs(eta_groups=optimal_results['eta_groups'])\n",
    "    number_third_channels = int(len(optimal_results['eta_groups']) / number_eta_pairs)\n",
    "\n",
    "    results_to_plot = [{'probabilities': [],'etas_third_channel': [],'eta_pair':(0,0)} for i in range(number_eta_pairs)]\n",
    "    \n",
    "    for idx, (probability, eta_third, eta_pair) in enumerate(zip(probabilities, etas_third_channel, eta_pairs)):\n",
    "        results_to_plot[idx % number_eta_pairs]['probabilities'].append(probability)\n",
    "        results_to_plot[idx % number_eta_pairs]['etas_third_channel'].append(eta_third)\n",
    "        results_to_plot[idx % number_eta_pairs]['eta_pair'] = eta_pair\n",
    "    return results_to_plot\n",
    "    "
   ]
  },
  {
   "cell_type": "code",
   "execution_count": 116,
   "id": "concrete-seeker",
   "metadata": {},
   "outputs": [],
   "source": [
    "parsed_results = get_etas_and_probabilities_from_optimal_results(optimal_results=results)"
   ]
  },
  {
   "cell_type": "code",
   "execution_count": 117,
   "id": "charitable-killer",
   "metadata": {},
   "outputs": [
    {
     "data": {
      "text/plain": [
       "6"
      ]
     },
     "execution_count": 117,
     "metadata": {},
     "output_type": "execute_result"
    }
   ],
   "source": [
    "len(parsed_results)"
   ]
  },
  {
   "cell_type": "code",
   "execution_count": 118,
   "id": "checked-issue",
   "metadata": {},
   "outputs": [
    {
     "data": {
      "text/plain": [
       "[{'probabilities': [0.8333333333333333,\n",
       "   0.8337905807041609,\n",
       "   0.8333333333333333,\n",
       "   0.8333333333333333,\n",
       "   0.8333333333333333,\n",
       "   0.7222222222222221,\n",
       "   0.8333332636416139,\n",
       "   0.8333333333333333,\n",
       "   0.5,\n",
       "   0.796245491032871,\n",
       "   0.8331809175430573,\n",
       "   0.8209876543209875,\n",
       "   0.8333333333333333,\n",
       "   0.7222222222222221,\n",
       "   0.7962962937151215,\n",
       "   0.7962962962962963,\n",
       "   0.8333333333333333,\n",
       "   0.7962962962962963,\n",
       "   0.7222222222222221,\n",
       "   0.7222222222222221],\n",
       "  'etas_third_channel': [0,\n",
       "   4,\n",
       "   9,\n",
       "   14,\n",
       "   18,\n",
       "   23,\n",
       "   28,\n",
       "   33,\n",
       "   37,\n",
       "   42,\n",
       "   47,\n",
       "   52,\n",
       "   56,\n",
       "   61,\n",
       "   66,\n",
       "   71,\n",
       "   75,\n",
       "   80,\n",
       "   85,\n",
       "   90],\n",
       "  'eta_pair': (0, 29)},\n",
       " {'probabilities': [0.8333333333333333,\n",
       "   0.8333333333333333,\n",
       "   0.7962962962962963,\n",
       "   0.7962962962962963,\n",
       "   0.8333333333333333,\n",
       "   0.8333333333333333,\n",
       "   0.8333331242581752,\n",
       "   0.796296296009499,\n",
       "   0.7962962962962963,\n",
       "   0.8333333333333333,\n",
       "   0.7962962962962963,\n",
       "   0.8333333333333333,\n",
       "   0.8333333333333333,\n",
       "   0.8333333333333333,\n",
       "   0.8333333333333333,\n",
       "   0.8333333333333333,\n",
       "   0.7962962962962963,\n",
       "   0.7962962962962963,\n",
       "   0.7222222222222221,\n",
       "   0.7235939643347049],\n",
       "  'etas_third_channel': [0,\n",
       "   4,\n",
       "   9,\n",
       "   14,\n",
       "   18,\n",
       "   23,\n",
       "   28,\n",
       "   33,\n",
       "   37,\n",
       "   42,\n",
       "   47,\n",
       "   52,\n",
       "   56,\n",
       "   61,\n",
       "   66,\n",
       "   71,\n",
       "   75,\n",
       "   80,\n",
       "   85,\n",
       "   90],\n",
       "  'eta_pair': (0, 59)},\n",
       " {'probabilities': [0.7222222222222221,\n",
       "   0.7222222222222221,\n",
       "   0.7222222222222221,\n",
       "   0.7222222222222221,\n",
       "   0.6979881115683585,\n",
       "   0.6851851851851851,\n",
       "   0.7222222222222221,\n",
       "   0.7098765432098764,\n",
       "   0.722220340545799,\n",
       "   0.7222222222222221,\n",
       "   0.7016460905349794,\n",
       "   0.7222222222127802,\n",
       "   0.7222222222222221,\n",
       "   0.7217649748513945,\n",
       "   0.7222222222222221,\n",
       "   0.7222222222222221,\n",
       "   0.7222222225090194,\n",
       "   0.7962962962962963,\n",
       "   0.7222222222222221,\n",
       "   0.7222222222222221],\n",
       "  'etas_third_channel': [0,\n",
       "   4,\n",
       "   9,\n",
       "   14,\n",
       "   18,\n",
       "   23,\n",
       "   28,\n",
       "   33,\n",
       "   37,\n",
       "   42,\n",
       "   47,\n",
       "   52,\n",
       "   56,\n",
       "   61,\n",
       "   66,\n",
       "   71,\n",
       "   75,\n",
       "   80,\n",
       "   85,\n",
       "   90],\n",
       "  'eta_pair': (0, 90)},\n",
       " {'probabilities': [0.018518518518518545,\n",
       "   0.018518518518518545,\n",
       "   0.006172839506172867,\n",
       "   0.018518518518518545,\n",
       "   0.006172839506172867,\n",
       "   0.006172839506172867,\n",
       "   0.05555555555555558,\n",
       "   0.006172839506172867,\n",
       "   0.05555555555555558,\n",
       "   0.018518518518518545,\n",
       "   0.05555555555555558,\n",
       "   0.018518518518518545,\n",
       "   0.018518518518518545,\n",
       "   0.018518518518518545,\n",
       "   0.018518518518518545,\n",
       "   0.11865569272976682,\n",
       "   0.154320987654321,\n",
       "   0.05967078189300414,\n",
       "   0.05555555555555558,\n",
       "   0.09259259259259262],\n",
       "  'etas_third_channel': [0,\n",
       "   4,\n",
       "   9,\n",
       "   14,\n",
       "   18,\n",
       "   23,\n",
       "   28,\n",
       "   33,\n",
       "   37,\n",
       "   42,\n",
       "   47,\n",
       "   52,\n",
       "   56,\n",
       "   61,\n",
       "   66,\n",
       "   71,\n",
       "   75,\n",
       "   80,\n",
       "   85,\n",
       "   90],\n",
       "  'eta_pair': (29, 59)},\n",
       " {'probabilities': [0.0432098765432099,\n",
       "   0.11728395061728397,\n",
       "   0.05555555555555558,\n",
       "   0.05555555555555558,\n",
       "   0.05555555555555558,\n",
       "   0.16529492455418382,\n",
       "   0.05555555555555558,\n",
       "   0.16666666666666669,\n",
       "   0.11728395061728397,\n",
       "   0.05555555555555558,\n",
       "   0.05555555555555558,\n",
       "   0.11728395061728397,\n",
       "   0.057384335963707914,\n",
       "   0.05555555555555558,\n",
       "   0.16666666666666669,\n",
       "   0.055557437231978736,\n",
       "   0.09259259259259262,\n",
       "   0.05555555555555558,\n",
       "   0.05555555555555558,\n",
       "   0.05555555555555558],\n",
       "  'etas_third_channel': [0,\n",
       "   4,\n",
       "   9,\n",
       "   14,\n",
       "   18,\n",
       "   23,\n",
       "   28,\n",
       "   33,\n",
       "   37,\n",
       "   42,\n",
       "   47,\n",
       "   52,\n",
       "   56,\n",
       "   61,\n",
       "   66,\n",
       "   71,\n",
       "   75,\n",
       "   80,\n",
       "   85,\n",
       "   90],\n",
       "  'eta_pair': (29, 90)},\n",
       " {'probabilities': [0.0432098765432099,\n",
       "   0.0432098765432099,\n",
       "   0.05555555555555558,\n",
       "   0.05555555555555558,\n",
       "   0.05555555555555558,\n",
       "   0.05555555555555558,\n",
       "   0.05555555555555558,\n",
       "   0.05555555555555558,\n",
       "   0.16666666695346388,\n",
       "   0.3394553675760809,\n",
       "   0.3513946044810242,\n",
       "   0.3395061728395062,\n",
       "   0.3888888888888889,\n",
       "   0.3888888888888889,\n",
       "   0.3888888888888889,\n",
       "   0.3888888888888889,\n",
       "   0.35185185185185186,\n",
       "   0.3888888888888889,\n",
       "   0.42592592592592593,\n",
       "   0.4012345679012346],\n",
       "  'etas_third_channel': [0,\n",
       "   4,\n",
       "   9,\n",
       "   14,\n",
       "   18,\n",
       "   23,\n",
       "   28,\n",
       "   33,\n",
       "   37,\n",
       "   42,\n",
       "   47,\n",
       "   52,\n",
       "   56,\n",
       "   61,\n",
       "   66,\n",
       "   71,\n",
       "   75,\n",
       "   80,\n",
       "   85,\n",
       "   90],\n",
       "  'eta_pair': (59, 90)}]"
      ]
     },
     "execution_count": 118,
     "metadata": {},
     "output_type": "execute_result"
    }
   ],
   "source": [
    "parsed_results"
   ]
  },
  {
   "cell_type": "code",
   "execution_count": null,
   "id": "legendary-australia",
   "metadata": {},
   "outputs": [
    {
     "data": {
      "text/plain": [
       "[(0, 29), (0, 59), (0, 90), (29, 59), (29, 90), (59, 90)]"
      ]
     },
     "execution_count": 119,
     "metadata": {},
     "output_type": "execute_result"
    }
   ],
   "source": [
    "[parsed_result['eta_pair'] for parsed_result in parsed_results]"
   ]
  },
  {
   "cell_type": "code",
   "execution_count": 120,
   "id": "romantic-monte",
   "metadata": {},
   "outputs": [
    {
     "data": {
      "text/plain": [
       "20"
      ]
     },
     "execution_count": 120,
     "metadata": {},
     "output_type": "execute_result"
    }
   ],
   "source": [
    "len(parsed_results[0]['etas_third_channel'])"
   ]
  },
  {
   "cell_type": "code",
   "execution_count": 123,
   "id": "local-municipality",
   "metadata": {},
   "outputs": [
    {
     "data": {
      "text/plain": [
       "[0, 4, 9, 14, 18, 23, 28, 33, 37, 42, 47, 52, 56, 61, 66, 71, 75, 80, 85, 90]"
      ]
     },
     "execution_count": 123,
     "metadata": {},
     "output_type": "execute_result"
    }
   ],
   "source": [
    "parsed_results[0]['etas_third_channel']"
   ]
  },
  {
   "cell_type": "code",
   "execution_count": 89,
   "id": "polish-morgan",
   "metadata": {},
   "outputs": [
    {
     "data": {
      "text/plain": [
       "[0.8333333333333333,\n",
       " 0.8333333333333333,\n",
       " 0.8337905807041609,\n",
       " 0.8337905807041609,\n",
       " 0.8333333333333333,\n",
       " 0.8333333333333333,\n",
       " 0.8333333333333333,\n",
       " 0.8333333333333333,\n",
       " 0.8333333333333333,\n",
       " 0.8333333333333333,\n",
       " 0.7222222222222221,\n",
       " 0.7222222222222221,\n",
       " 0.8333332636416139,\n",
       " 0.8333332636416139,\n",
       " 0.8333333333333333,\n",
       " 0.8333333333333333,\n",
       " 0.5,\n",
       " 0.5,\n",
       " 0.796245491032871,\n",
       " 0.796245491032871,\n",
       " 0.8331809175430573,\n",
       " 0.8331809175430573,\n",
       " 0.8209876543209875,\n",
       " 0.8209876543209875,\n",
       " 0.8333333333333333,\n",
       " 0.8333333333333333,\n",
       " 0.7222222222222221,\n",
       " 0.7222222222222221,\n",
       " 0.7962962937151215,\n",
       " 0.7962962937151215,\n",
       " 0.7962962962962963,\n",
       " 0.7962962962962963,\n",
       " 0.8333333333333333,\n",
       " 0.8333333333333333,\n",
       " 0.7962962962962963,\n",
       " 0.7962962962962963,\n",
       " 0.7222222222222221,\n",
       " 0.7222222222222221,\n",
       " 0.7222222222222221,\n",
       " 0.7222222222222221]"
      ]
     },
     "execution_count": 89,
     "metadata": {},
     "output_type": "execute_result"
    }
   ],
   "source": [
    "parsed_results[0]['probabilities']"
   ]
  },
  {
   "cell_type": "code",
   "execution_count": 44,
   "id": "handled-oregon",
   "metadata": {},
   "outputs": [],
   "source": [
    "one_eta_pair_result = {\n",
    "        'probabilities': [],\n",
    "        'etas_third_channel': [],\n",
    "        'eta_pair': (0,0)\n",
    "    }"
   ]
  },
  {
   "cell_type": "code",
   "execution_count": 45,
   "id": "younger-disease",
   "metadata": {},
   "outputs": [
    {
     "data": {
      "text/plain": [
       "[{'probabilities': [], 'etas_third_channel': [], 'eta_pair': (0, 0)},\n",
       " {'probabilities': [], 'etas_third_channel': [], 'eta_pair': (0, 0)},\n",
       " {'probabilities': [], 'etas_third_channel': [], 'eta_pair': (0, 0)},\n",
       " {'probabilities': [], 'etas_third_channel': [], 'eta_pair': (0, 0)},\n",
       " {'probabilities': [], 'etas_third_channel': [], 'eta_pair': (0, 0)},\n",
       " {'probabilities': [], 'etas_third_channel': [], 'eta_pair': (0, 0)}]"
      ]
     },
     "execution_count": 45,
     "metadata": {},
     "output_type": "execute_result"
    }
   ],
   "source": [
    "[one_eta_pair_result]*6"
   ]
  },
  {
   "cell_type": "code",
   "execution_count": null,
   "id": "annoying-router",
   "metadata": {},
   "outputs": [],
   "source": []
  },
  {
   "cell_type": "code",
   "execution_count": null,
   "id": "upset-sugar",
   "metadata": {},
   "outputs": [],
   "source": []
  },
  {
   "cell_type": "code",
   "execution_count": null,
   "id": "unavailable-convertible",
   "metadata": {},
   "outputs": [],
   "source": []
  },
  {
   "cell_type": "code",
   "execution_count": null,
   "id": "intense-tower",
   "metadata": {},
   "outputs": [],
   "source": []
  },
  {
   "cell_type": "code",
   "execution_count": null,
   "id": "labeled-taxation",
   "metadata": {},
   "outputs": [],
   "source": []
  },
  {
   "cell_type": "code",
   "execution_count": null,
   "id": "acknowledged-pride",
   "metadata": {},
   "outputs": [],
   "source": []
  }
 ],
 "metadata": {
  "kernelspec": {
   "display_name": "Python 3",
   "language": "python",
   "name": "python3"
  },
  "language_info": {
   "codemirror_mode": {
    "name": "ipython",
    "version": 3
   },
   "file_extension": ".py",
   "mimetype": "text/x-python",
   "name": "python",
   "nbconvert_exporter": "python",
   "pygments_lexer": "ipython3",
   "version": "3.8.3"
  }
 },
 "nbformat": 4,
 "nbformat_minor": 5
}
