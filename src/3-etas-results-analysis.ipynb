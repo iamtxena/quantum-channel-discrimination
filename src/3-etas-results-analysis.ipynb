{
 "cells": [
  {
   "cell_type": "markdown",
   "id": "critical-sight",
   "metadata": {},
   "source": [
    "# Analysis for a 3 quantum damping channel discrimination"
   ]
  },
  {
   "cell_type": "code",
   "execution_count": 1,
   "id": "honey-somalia",
   "metadata": {},
   "outputs": [],
   "source": [
    "import os,sys,inspect\n",
    "currentdir = os.path.dirname(os.path.abspath(inspect.getfile(inspect.currentframe())))\n",
    "parentdir = os.path.dirname(currentdir)\n",
    "sys.path.insert(0,parentdir) \n",
    "\n",
    "from typing import cast, Tuple, List\n",
    "from qcd import load_object_from_file\n",
    "from qcd.typings.configurations import OptimalConfigurations\n",
    "from qcd.configurations import OneShotConfiguration\n",
    "import math"
   ]
  },
  {
   "cell_type": "code",
   "execution_count": 2,
   "id": "capable-military",
   "metadata": {},
   "outputs": [],
   "source": [
    "results = load_object_from_file(name='20210414b_C2_A2_1000_10000_3_1_20', path='../demo/data/')"
   ]
  },
  {
   "cell_type": "code",
   "execution_count": null,
   "id": "union-shark",
   "metadata": {},
   "outputs": [],
   "source": [
    "class OptimalConfigurations(TypedDict, total=False):\n",
    "    eta_groups: List[List[float]]\n",
    "    best_algorithm: List[str]\n",
    "    probabilities: List[float]\n",
    "    configurations: List[ChannelConfiguration]\n",
    "    number_calls_made: List[int]\n",
    "    legacy: bool\n",
    "\n",
    "return {'state_probability': self._state_probability if hasattr(self, 'state_probability') else self._theta,\n",
    "'angle_rx': self._angle_rx,\n",
    "'angle_ry': self._angle_ry,\n",
    "'eta_group': self._eta_group,\n",
    "}"
   ]
  },
  {
   "cell_type": "code",
   "execution_count": 3,
   "id": "harmful-seventh",
   "metadata": {},
   "outputs": [],
   "source": [
    "def get_number_eta_pairs(eta_groups)->int:\n",
    "    eta_third = eta_groups[0][2]\n",
    "    number_eta_pairs = 0\n",
    "    for eta_group in eta_groups:\n",
    "        if eta_group[2] != eta_third:\n",
    "            return number_eta_pairs\n",
    "        number_eta_pairs += 1"
   ]
  },
  {
   "cell_type": "code",
   "execution_count": 104,
   "id": "orange-customer",
   "metadata": {},
   "outputs": [],
   "source": [
    "def get_etas_and_probabilities_from_optimal_results(optimal_results: OptimalConfigurations)-> List[dict]:\n",
    "    \"\"\" From the optimal results, obtain the etas and the result probabilities for each 3-eta execution.\n",
    "        Return a list of etas used (in degrees) and the probabilities with the associated eta pair.\n",
    "    \"\"\"\n",
    "    probabilities = []\n",
    "    eta_pairs = []\n",
    "    etas_third_channel = []\n",
    "    \n",
    "    for configuration in optimal_results['configurations']:\n",
    "        eta_pairs.append((int(math.degrees(cast(OneShotConfiguration, configuration).eta_group[0])),\n",
    "                         int(math.degrees(cast(OneShotConfiguration, configuration).eta_group[1]))))\n",
    "        etas_third_channel.append(int(math.degrees(cast(OneShotConfiguration, configuration).eta_group[2])))\n",
    "        probabilities.append(cast(OneShotConfiguration, configuration).state_probability)\n",
    "    \n",
    "    # print(etas_third_channel)\n",
    "    # print(eta_pairs)\n",
    "    number_eta_pairs = get_number_eta_pairs(eta_groups=optimal_results['eta_groups'])\n",
    "    number_third_channels = int(len(optimal_results['eta_groups']) / number_eta_pairs)\n",
    "    \n",
    "    one_eta_pair_result = {\n",
    "        'probabilities': [],\n",
    "        'etas_third_channel': [],\n",
    "        'eta_pair': (0,0)\n",
    "    }\n",
    "    two_eta_pair_result = {\n",
    "        'probabilities': [],\n",
    "        'etas_third_channel': [],\n",
    "        'eta_pair': (0,0)\n",
    "    }\n",
    "    three_eta_pair_result = {\n",
    "        'probabilities': [],\n",
    "        'etas_third_channel': [],\n",
    "        'eta_pair': (0,0)\n",
    "    }\n",
    "    four_eta_pair_result = {\n",
    "        'probabilities': [],\n",
    "        'etas_third_channel': [],\n",
    "        'eta_pair': (0,0)\n",
    "    }\n",
    "    five_eta_pair_result = {\n",
    "        'probabilities': [],\n",
    "        'etas_third_channel': [],\n",
    "        'eta_pair': (0,0)\n",
    "    }\n",
    "    six_eta_pair_result = {\n",
    "        'probabilities': [],\n",
    "        'etas_third_channel': [],\n",
    "        'eta_pair': (0,0)\n",
    "    }\n",
    "    results_to_plot = [[[],[],(0,0)]] * number_eta_pairs\n",
    "    results_one = [[],[],(0,0)]\n",
    "    \n",
    "    for idx, (probability, eta_third, eta_pair) in enumerate(zip(probabilities, etas_third_channel, eta_pairs)):\n",
    "        # results_to_plot[idx % number_eta_pairs]['probabilities'].append(probability)\n",
    "        # results_to_plot[idx % number_eta_pairs]['etas_third_channel'].append(eta_third)\n",
    "        # results_to_plot[idx % number_eta_pairs]['eta_pair'] = eta_pair\n",
    "        if idx % 6 == 0: \n",
    "            one_eta_pair_result['probabilities'].append(probability)\n",
    "            one_eta_pair_result['etas_third_channel'].append(eta_third)\n",
    "            one_eta_pair_result['eta_pair'] = eta_pair\n",
    "            results_to_plot[0][0] = 'heelo'\n",
    "            results_to_plot[0][1] = 'bye'\n",
    "            results_to_plot[0][2] = eta_pair\n",
    "        if idx % 6 == 1: \n",
    "            two_eta_pair_result['probabilities'].append(probability)\n",
    "            two_eta_pair_result['etas_third_channel'].append(eta_third)\n",
    "            two_eta_pair_result['eta_pair'] = eta_pair\n",
    "        if idx % 6 == 2: \n",
    "            three_eta_pair_result['probabilities'].append(probability)\n",
    "            three_eta_pair_result['etas_third_channel'].append(eta_third)\n",
    "            three_eta_pair_result['eta_pair'] = eta_pair\n",
    "        if idx % 6 == 3: \n",
    "            four_eta_pair_result['probabilities'].append(probability)\n",
    "            four_eta_pair_result['etas_third_channel'].append(eta_third)\n",
    "            four_eta_pair_result['eta_pair'] = eta_pair\n",
    "        if idx % 6 == 4: \n",
    "            five_eta_pair_result['probabilities'].append(probability)\n",
    "            five_eta_pair_result['etas_third_channel'].append(eta_third)\n",
    "            five_eta_pair_result['eta_pair'] = eta_pair\n",
    "        if idx % 6 == 5: \n",
    "            six_eta_pair_result['probabilities'].append(probability)\n",
    "            six_eta_pair_result['etas_third_channel'].append(eta_third)\n",
    "            six_eta_pair_result['eta_pair'] = eta_pair\n",
    "    \n",
    "    # return [one_eta_pair_result, two_eta_pair_result, three_eta_pair_result, four_eta_pair_result, five_eta_pair_result, six_eta_pair_result]\n",
    "    # results_to_plot.append(results_one)\n",
    "    return results_to_plot\n",
    "    "
   ]
  },
  {
   "cell_type": "code",
   "execution_count": 105,
   "id": "concrete-seeker",
   "metadata": {},
   "outputs": [],
   "source": [
    "parsed_results = get_etas_and_probabilities_from_optimal_results(optimal_results=results)"
   ]
  },
  {
   "cell_type": "code",
   "execution_count": 106,
   "id": "charitable-killer",
   "metadata": {},
   "outputs": [
    {
     "data": {
      "text/plain": [
       "6"
      ]
     },
     "execution_count": 106,
     "metadata": {},
     "output_type": "execute_result"
    }
   ],
   "source": [
    "len(parsed_results)"
   ]
  },
  {
   "cell_type": "code",
   "execution_count": 107,
   "id": "checked-issue",
   "metadata": {},
   "outputs": [
    {
     "data": {
      "text/plain": [
       "[['heelo', 'bye', (0, 29)],\n",
       " ['heelo', 'bye', (0, 29)],\n",
       " ['heelo', 'bye', (0, 29)],\n",
       " ['heelo', 'bye', (0, 29)],\n",
       " ['heelo', 'bye', (0, 29)],\n",
       " ['heelo', 'bye', (0, 29)]]"
      ]
     },
     "execution_count": 107,
     "metadata": {},
     "output_type": "execute_result"
    }
   ],
   "source": [
    "parsed_results"
   ]
  },
  {
   "cell_type": "code",
   "execution_count": null,
   "id": "legendary-australia",
   "metadata": {},
   "outputs": [
    {
     "data": {
      "text/plain": [
       "[(0, 29), (0, 0), (0, 0), (0, 0), (0, 0), (0, 0)]"
      ]
     },
     "execution_count": 84,
     "metadata": {},
     "output_type": "execute_result"
    }
   ],
   "source": [
    "[parsed_result['eta_pair'] for parsed_result in parsed_results]"
   ]
  },
  {
   "cell_type": "code",
   "execution_count": 85,
   "id": "romantic-monte",
   "metadata": {},
   "outputs": [
    {
     "data": {
      "text/plain": [
       "40"
      ]
     },
     "execution_count": 85,
     "metadata": {},
     "output_type": "execute_result"
    }
   ],
   "source": [
    "len(parsed_results[0]['etas_third_channel'])"
   ]
  },
  {
   "cell_type": "code",
   "execution_count": 87,
   "id": "local-municipality",
   "metadata": {},
   "outputs": [
    {
     "data": {
      "text/plain": [
       "[0,\n",
       " 0,\n",
       " 4,\n",
       " 4,\n",
       " 9,\n",
       " 9,\n",
       " 14,\n",
       " 14,\n",
       " 18,\n",
       " 18,\n",
       " 23,\n",
       " 23,\n",
       " 28,\n",
       " 28,\n",
       " 33,\n",
       " 33,\n",
       " 37,\n",
       " 37,\n",
       " 42,\n",
       " 42,\n",
       " 47,\n",
       " 47,\n",
       " 52,\n",
       " 52,\n",
       " 56,\n",
       " 56,\n",
       " 61,\n",
       " 61,\n",
       " 66,\n",
       " 66,\n",
       " 71,\n",
       " 71,\n",
       " 75,\n",
       " 75,\n",
       " 80,\n",
       " 80,\n",
       " 85,\n",
       " 85,\n",
       " 90,\n",
       " 90]"
      ]
     },
     "execution_count": 87,
     "metadata": {},
     "output_type": "execute_result"
    }
   ],
   "source": [
    "parsed_results[0]['etas_third_channel']"
   ]
  },
  {
   "cell_type": "code",
   "execution_count": 89,
   "id": "polish-morgan",
   "metadata": {},
   "outputs": [
    {
     "data": {
      "text/plain": [
       "[0.8333333333333333,\n",
       " 0.8333333333333333,\n",
       " 0.8337905807041609,\n",
       " 0.8337905807041609,\n",
       " 0.8333333333333333,\n",
       " 0.8333333333333333,\n",
       " 0.8333333333333333,\n",
       " 0.8333333333333333,\n",
       " 0.8333333333333333,\n",
       " 0.8333333333333333,\n",
       " 0.7222222222222221,\n",
       " 0.7222222222222221,\n",
       " 0.8333332636416139,\n",
       " 0.8333332636416139,\n",
       " 0.8333333333333333,\n",
       " 0.8333333333333333,\n",
       " 0.5,\n",
       " 0.5,\n",
       " 0.796245491032871,\n",
       " 0.796245491032871,\n",
       " 0.8331809175430573,\n",
       " 0.8331809175430573,\n",
       " 0.8209876543209875,\n",
       " 0.8209876543209875,\n",
       " 0.8333333333333333,\n",
       " 0.8333333333333333,\n",
       " 0.7222222222222221,\n",
       " 0.7222222222222221,\n",
       " 0.7962962937151215,\n",
       " 0.7962962937151215,\n",
       " 0.7962962962962963,\n",
       " 0.7962962962962963,\n",
       " 0.8333333333333333,\n",
       " 0.8333333333333333,\n",
       " 0.7962962962962963,\n",
       " 0.7962962962962963,\n",
       " 0.7222222222222221,\n",
       " 0.7222222222222221,\n",
       " 0.7222222222222221,\n",
       " 0.7222222222222221]"
      ]
     },
     "execution_count": 89,
     "metadata": {},
     "output_type": "execute_result"
    }
   ],
   "source": [
    "parsed_results[0]['probabilities']"
   ]
  },
  {
   "cell_type": "code",
   "execution_count": 44,
   "id": "handled-oregon",
   "metadata": {},
   "outputs": [],
   "source": [
    "one_eta_pair_result = {\n",
    "        'probabilities': [],\n",
    "        'etas_third_channel': [],\n",
    "        'eta_pair': (0,0)\n",
    "    }"
   ]
  },
  {
   "cell_type": "code",
   "execution_count": 45,
   "id": "younger-disease",
   "metadata": {},
   "outputs": [
    {
     "data": {
      "text/plain": [
       "[{'probabilities': [], 'etas_third_channel': [], 'eta_pair': (0, 0)},\n",
       " {'probabilities': [], 'etas_third_channel': [], 'eta_pair': (0, 0)},\n",
       " {'probabilities': [], 'etas_third_channel': [], 'eta_pair': (0, 0)},\n",
       " {'probabilities': [], 'etas_third_channel': [], 'eta_pair': (0, 0)},\n",
       " {'probabilities': [], 'etas_third_channel': [], 'eta_pair': (0, 0)},\n",
       " {'probabilities': [], 'etas_third_channel': [], 'eta_pair': (0, 0)}]"
      ]
     },
     "execution_count": 45,
     "metadata": {},
     "output_type": "execute_result"
    }
   ],
   "source": [
    "[one_eta_pair_result]*6"
   ]
  },
  {
   "cell_type": "code",
   "execution_count": null,
   "id": "annoying-router",
   "metadata": {},
   "outputs": [],
   "source": []
  },
  {
   "cell_type": "code",
   "execution_count": null,
   "id": "upset-sugar",
   "metadata": {},
   "outputs": [],
   "source": []
  },
  {
   "cell_type": "code",
   "execution_count": null,
   "id": "unavailable-convertible",
   "metadata": {},
   "outputs": [],
   "source": []
  },
  {
   "cell_type": "code",
   "execution_count": null,
   "id": "intense-tower",
   "metadata": {},
   "outputs": [],
   "source": []
  },
  {
   "cell_type": "code",
   "execution_count": null,
   "id": "labeled-taxation",
   "metadata": {},
   "outputs": [],
   "source": []
  },
  {
   "cell_type": "code",
   "execution_count": null,
   "id": "acknowledged-pride",
   "metadata": {},
   "outputs": [],
   "source": []
  }
 ],
 "metadata": {
  "kernelspec": {
   "display_name": "Python 3",
   "language": "python",
   "name": "python3"
  },
  "language_info": {
   "codemirror_mode": {
    "name": "ipython",
    "version": 3
   },
   "file_extension": ".py",
   "mimetype": "text/x-python",
   "name": "python",
   "nbconvert_exporter": "python",
   "pygments_lexer": "ipython3",
   "version": "3.8.3"
  }
 },
 "nbformat": 4,
 "nbformat_minor": 5
}
