{
 "cells": [
  {
   "cell_type": "code",
   "execution_count": 1,
   "metadata": {},
   "outputs": [],
   "source": [
    "from qiskit import QuantumRegister, ClassicalRegister, QuantumCircuit, Aer, execute\n",
    "import math\n",
    "import random\n",
    "import numpy as np\n",
    "from numpy import pi\n",
    "import time\n",
    "import itertools\n",
    "import matplotlib.pyplot as plt\n"
   ]
  },
  {
   "cell_type": "code",
   "execution_count": 2,
   "metadata": {},
   "outputs": [],
   "source": [
    "def prepare_initial_state(theta, phase):\n",
    "    \"\"\" Prepare initial state \"\"\"\n",
    "    return (math.cos(theta / 2) * (1 + 0j),\n",
    "        (math.sin(theta / 2) * math.e**(1j * phase) + 0 + 0j))"
   ]
  },
  {
   "cell_type": "code",
   "execution_count": 3,
   "metadata": {},
   "outputs": [],
   "source": [
    "def convert_counts_to_final_state(counts):\n",
    "    \"\"\" Convert the results of a simulation to a final state: aplha*|0> + beta*|1> \"\"\"\n",
    "    counts_zero = 0\n",
    "    counts_one = 0\n",
    "\n",
    "    if \"0\" in counts:\n",
    "        counts_zero = counts[\"0\"]\n",
    "    if \"1\" in counts:\n",
    "        counts_one = counts[\"1\"]\n",
    "\n",
    "    total_cycles = counts_zero + counts_one\n",
    "\n",
    "    return (np.sqrt(counts_zero / total_cycles),\n",
    "            np.sqrt(counts_one / total_cycles))"
   ]
  },
  {
   "cell_type": "code",
   "execution_count": 4,
   "metadata": {},
   "outputs": [],
   "source": [
    "def set_random_eta(eta0, eta1):\n",
    "    \"\"\" return a random choice from eta0 and eta1 with the correspondent key name \"\"\"\n",
    "    eta_value = random.choice([eta0, eta1])\n",
    "    if eta_value == eta0:\n",
    "        return eta_value, 0\n",
    "    return eta_value, 1"
   ]
  },
  {
   "cell_type": "code",
   "execution_count": 5,
   "metadata": {},
   "outputs": [],
   "source": [
    "def compute_damping_channel(theta, phase, eta, phi_rx, phi_ry, backend, iterations=1024):\n",
    "    qreg_q = QuantumRegister(2, 'q')\n",
    "    creg_c = ClassicalRegister(1, 'c')\n",
    "\n",
    "    initial_state = prepare_initial_state(theta, phase)\n",
    "\n",
    "    circuit = QuantumCircuit(qreg_q, creg_c)\n",
    "    circuit.initialize([initial_state[0],\n",
    "                        initial_state[1]], qreg_q[0])\n",
    "    circuit.reset(qreg_q[1])\n",
    "    circuit.cry(eta, qreg_q[0], qreg_q[1])\n",
    "    circuit.cx(qreg_q[1], qreg_q[0])\n",
    "    circuit.rx(phi_rx, qreg_q[0])\n",
    "    circuit.ry(phi_ry, qreg_q[0])\n",
    "    circuit.measure(qreg_q[0], creg_c[0])\n",
    "\n",
    "    counts = execute(circuit, backend, shots=iterations).result().get_counts(circuit)\n",
    "    return convert_counts_to_final_state(counts)"
   ]
  },
  {
   "cell_type": "code",
   "execution_count": 6,
   "metadata": {},
   "outputs": [],
   "source": [
    "def compute_random_damping_channel(configuration, backend, iterations=1024):\n",
    "    eta_value, eta_used = set_random_eta(configuration['eta0'], configuration['eta1'])\n",
    "    result = compute_damping_channel(configuration['theta'], configuration['phase'], eta_value, configuration['phi_rx'], configuration['phi_ry'], backend, iterations)\n",
    "\n",
    "    return {\n",
    "        \"0\": result[0],\n",
    "        \"1\": result[1],\n",
    "        \"eta_used\": eta_used\n",
    "    }"
   ]
  },
  {
   "cell_type": "markdown",
   "metadata": {},
   "source": [
    "## A sample execution"
   ]
  },
  {
   "cell_type": "code",
   "execution_count": 7,
   "metadata": {},
   "outputs": [],
   "source": [
    "# a simple execution\n",
    "backend = backend=Aer.get_backend('qasm_simulator')\n",
    "\n",
    "theta = pi\n",
    "phase = pi\n",
    "phi_rx = 0\n",
    "phi_ry = 0\n",
    "eta0 = pi/2\n",
    "eta1 = 0\n",
    "\n",
    "configuration = {\n",
    "    \"theta\": theta,\n",
    "    \"phase\": phase,\n",
    "    \"phi_rx\": phi_rx,\n",
    "    \"phi_ry\": phi_ry,\n",
    "    \"eta0\": eta0,\n",
    "    \"eta1\": eta1\n",
    "}"
   ]
  },
  {
   "cell_type": "code",
   "execution_count": 8,
   "metadata": {},
   "outputs": [
    {
     "data": {
      "text/plain": [
       "{'0': 0.0, '1': 1.0, 'eta_used': 1}"
      ]
     },
     "execution_count": 8,
     "metadata": {},
     "output_type": "execute_result"
    }
   ],
   "source": [
    "real_result = compute_random_damping_channel(configuration, backend)\n",
    "real_result"
   ]
  },
  {
   "cell_type": "code",
   "execution_count": 9,
   "metadata": {},
   "outputs": [],
   "source": [
    "def guess_eta_used(real_result, configuration, backend, iterations=1024):\n",
    "    \"\"\" function to decide which eta was used on the real random execution and return 0 or 1 as the eta index \"\"\"\n",
    "    execution_eta0 = compute_damping_channel(configuration['theta'], configuration['phase'], configuration['eta0'], configuration['phi_rx'], configuration['phi_ry'], backend, iterations)\n",
    "    # execution_eta1 = compute_damping_channel(configuration['theta'], configuration['phase'], configuration['eta1'], configuration['phi_rx'], configuration['phi_ry'], backend, iterations)\n",
    "\n",
    "    # !!! TODO decide how to better check that\n",
    "    # now just comparing if the values rounded to two decimasls are equal to the first execution\n",
    "    if (np.round(execution_eta0[0]) == np.round(real_result[\"0\"]) and \n",
    "        np.round(execution_eta0[1]) == np.round(real_result[\"1\"])):\n",
    "        return 0\n",
    "    return 1"
   ]
  },
  {
   "cell_type": "code",
   "execution_count": 10,
   "metadata": {},
   "outputs": [],
   "source": [
    "def check_value(real_eta, guess_eta): \n",
    "    if real_eta == guess_eta: return 1\n",
    "    return 0"
   ]
  },
  {
   "cell_type": "code",
   "execution_count": 11,
   "metadata": {},
   "outputs": [
    {
     "data": {
      "text/plain": [
       "1"
      ]
     },
     "execution_count": 11,
     "metadata": {},
     "output_type": "execute_result"
    }
   ],
   "source": [
    "guess_eta_used(real_result, configuration, backend)"
   ]
  },
  {
   "cell_type": "code",
   "execution_count": 12,
   "metadata": {},
   "outputs": [],
   "source": [
    "def play_and_guess_one_case(configuration, backend, iterations=1024):\n",
    "    \"\"\" Execute a real execution with a random eta from the two passed, \n",
    "        guess which one was used on the exection and\n",
    "        check the result.\n",
    "        Returns 1 on success (it was a correct guess) or 0 on fail (it was an incorrect guess) \n",
    "    \"\"\"\n",
    "    real_result = compute_random_damping_channel(configuration, backend)\n",
    "    guess_eta = guess_eta_used(real_result, configuration, backend)\n",
    "    return check_value(real_result['eta_used'], guess_eta)"
   ]
  },
  {
   "cell_type": "code",
   "execution_count": 13,
   "metadata": {},
   "outputs": [
    {
     "data": {
      "text/plain": [
       "1"
      ]
     },
     "execution_count": 13,
     "metadata": {},
     "output_type": "execute_result"
    }
   ],
   "source": [
    "configuration = {\n",
    "    \"theta\": theta,\n",
    "    \"phase\": phase,\n",
    "    \"phi_rx\": phi_rx,\n",
    "    \"phi_ry\": phi_ry,\n",
    "    \"eta0\": eta0,\n",
    "    \"eta1\": eta1\n",
    "}\n",
    "play_and_guess_one_case(configuration, backend)"
   ]
  },
  {
   "cell_type": "markdown",
   "metadata": {},
   "source": [
    "## Launching the loop to determine the best combination to detect the given $\\eta$"
   ]
  },
  {
   "cell_type": "code",
   "execution_count": 14,
   "metadata": {},
   "outputs": [],
   "source": [
    "def play_and_guess(global_configuration, backend, plays=10, simulation_iterations=1024):\n",
    "    \"\"\" Play the play_and_guess game for the number of plays for each combination of input parameters.\n",
    "        Returns an array of execution results. \n",
    "\n",
    "        Each item of the result list consist of:\n",
    "        -----------------------------------------------------------------\n",
    "        | theta | phase | phi_rx | phi_ry | eta0 | eta1 | succ_avg_prob |\n",
    "        -----------------------------------------------------------------\n",
    "        succ_avg_prob: is the average probability of guessing correctly for this specific combination \n",
    "        We want to maximize these value.\n",
    "    \"\"\"\n",
    "    results = []\n",
    "    list_theta = global_configuration['list_theta']\n",
    "    list_phase = global_configuration['list_phase']\n",
    "    list_phi_rx = global_configuration['list_phi_rx']\n",
    "    list_phi_ry = global_configuration['list_phi_ry']\n",
    "    list_eta = global_configuration['list_eta']\n",
    "    \n",
    "    # when there is only one element, we add the same element\n",
    "    if len(list_eta) == 1:\n",
    "        list_eta.append(list_eta[0])\n",
    "    # get combinations of two etas without repeats\n",
    "    two_pair_etas = list(itertools.combinations(list_eta, 2))\n",
    "\n",
    "    program_start_time = time.time()\n",
    "    print(\"Starting the execution\")\n",
    "    i = 0\n",
    "    for theta in list_theta:\n",
    "        print(f\"execution with theta {theta}\")\n",
    "        start_time = time.time()\n",
    "        for phase in list_phase:\n",
    "            for phi_rx in list_phi_rx:\n",
    "                for phi_ry in list_phi_ry:\n",
    "                    for eta_pair in two_pair_etas:\n",
    "\n",
    "                        configuration = {\n",
    "                            \"theta\": theta,\n",
    "                            \"phase\": phase,\n",
    "                            \"phi_rx\": phi_rx,\n",
    "                            \"phi_ry\": phi_ry,\n",
    "                            \"eta0\": eta_pair[0],\n",
    "                            \"eta1\": eta_pair[1]\n",
    "                        }\n",
    "\n",
    "                        success_counts = 0\n",
    "                        for play in range(plays):\n",
    "                            success_counts += play_and_guess_one_case(configuration, backend, simulation_iterations)\n",
    "                        succ_avg_prob = success_counts/plays\n",
    "                        results.append({\n",
    "                            \"theta\": theta,\n",
    "                            \"phase\": phase,\n",
    "                            \"phi_rx\": phi_rx,\n",
    "                            \"phi_ry\": phi_ry,\n",
    "                            \"eta0\": eta_pair[0],\n",
    "                            \"eta1\": eta_pair[1],\n",
    "                            \"succ_avg_prob\": succ_avg_prob\n",
    "                        })\n",
    "                        i+=1\n",
    "        end_time = time.time()\n",
    "        print(\"total minutes taken this theta: \", int(np.round((end_time - start_time)/60)))\n",
    "        print(\"total minutes taken so far: \", int(np.round((end_time - program_start_time)/60)))\n",
    "    end_time = time.time()\n",
    "    print(\"total minutes of execution time: \", int(np.round((end_time - program_start_time)/60)))\n",
    "    print(\"All guesses have been calculated\")\n",
    "    print(f\"Total executions: {i} \")\n",
    "    return results"
   ]
  },
  {
   "cell_type": "markdown",
   "metadata": {},
   "source": [
    "### Set a list of configurations to play: a simple one"
   ]
  },
  {
   "cell_type": "code",
   "execution_count": 15,
   "metadata": {},
   "outputs": [],
   "source": [
    "global_configuration = {\n",
    "    'list_theta': [0],\n",
    "    'list_phase': [0],\n",
    "    'list_phi_rx': [0],\n",
    "    'list_phi_ry': [0],\n",
    "    'list_eta': [0,0],\n",
    "}\n",
    "\n",
    "backend = Aer.get_backend('qasm_simulator')\n",
    "plays = 10\n",
    "simulation_iterations = 1024"
   ]
  },
  {
   "cell_type": "code",
   "execution_count": 16,
   "metadata": {},
   "outputs": [
    {
     "name": "stdout",
     "output_type": "stream",
     "text": [
      "Starting the execution\n",
      "execution with theta 0\n",
      "total minutes taken this theta:  0\n",
      "total minutes taken so far:  0\n",
      "total minutes of execution time:  0\n",
      "All guesses have been calculated\n",
      "Total executions: 1 \n"
     ]
    },
    {
     "data": {
      "text/plain": [
       "[{'theta': 0,\n",
       "  'phase': 0,\n",
       "  'phi_rx': 0,\n",
       "  'phi_ry': 0,\n",
       "  'eta0': 0,\n",
       "  'eta1': 0,\n",
       "  'succ_avg_prob': 1.0}]"
      ]
     },
     "execution_count": 16,
     "metadata": {},
     "output_type": "execute_result"
    }
   ],
   "source": [
    "play_and_guess(global_configuration, backend, plays, simulation_iterations)"
   ]
  },
  {
   "cell_type": "markdown",
   "metadata": {},
   "source": [
    "### Set a list of configurations to play: with more options"
   ]
  },
  {
   "cell_type": "code",
   "execution_count": 17,
   "metadata": {},
   "outputs": [],
   "source": [
    "points_theta=5\n",
    "points_phase=5\n",
    "list_theta = np.mgrid[0:pi:points_theta * 1j]\n",
    "list_phase = np.mgrid[0:2 * pi:points_phase * 1j]\n",
    "list_eta = [0, pi/2, pi/1.5]\n",
    "list_phi_rx = [0]\n",
    "list_phi_ry = [0]\n",
    "\n",
    "global_configuration2 = {\n",
    "    'list_theta': list_theta,\n",
    "    'list_phase': list_phase,\n",
    "    'list_phi_rx': list_phi_rx,\n",
    "    'list_phi_ry': list_phi_ry,\n",
    "    'list_eta': list_eta,\n",
    "}\n",
    "\n",
    "backend = Aer.get_backend('qasm_simulator')\n",
    "plays = 10\n",
    "simulation_iterations = 1024"
   ]
  },
  {
   "cell_type": "code",
   "execution_count": 18,
   "metadata": {},
   "outputs": [
    {
     "name": "stdout",
     "output_type": "stream",
     "text": [
      "Starting the execution\n",
      "execution with theta 0.0\n",
      "total minutes taken this theta:  0\n",
      "total minutes taken so far:  0\n",
      "execution with theta 0.7853981633974483\n",
      "total minutes taken this theta:  0\n",
      "total minutes taken so far:  0\n",
      "execution with theta 1.5707963267948966\n",
      "total minutes taken this theta:  0\n",
      "total minutes taken so far:  0\n",
      "execution with theta 2.356194490192345\n",
      "total minutes taken this theta:  0\n",
      "total minutes taken so far:  0\n",
      "execution with theta 3.141592653589793\n",
      "total minutes taken this theta:  0\n",
      "total minutes taken so far:  0\n",
      "total minutes of execution time:  0\n",
      "All guesses have been calculated\n",
      "Total executions: 75 \n"
     ]
    }
   ],
   "source": [
    "results = play_and_guess(global_configuration2, backend, plays, simulation_iterations)"
   ]
  },
  {
   "cell_type": "code",
   "execution_count": 19,
   "metadata": {},
   "outputs": [
    {
     "data": {
      "text/plain": [
       "{'theta': 0.0,\n",
       " 'phase': 0.0,\n",
       " 'phi_rx': 0,\n",
       " 'phi_ry': 0,\n",
       " 'eta0': 0,\n",
       " 'eta1': 2.0943951023931953,\n",
       " 'succ_avg_prob': 0.4}"
      ]
     },
     "execution_count": 19,
     "metadata": {},
     "output_type": "execute_result"
    }
   ],
   "source": [
    "results[1]"
   ]
  },
  {
   "cell_type": "code",
   "execution_count": 20,
   "metadata": {},
   "outputs": [],
   "source": [
    "def set_result_with_etas_and_psuccess(results):\n",
    "    eta_pairs = []\n",
    "    p_success = []\n",
    "\n",
    "    for result in results:\n",
    "        eta_pairs.append(str(int(math.degrees(result['eta0']))) + ' ' + str(int(math.degrees(result['eta1']))))\n",
    "        p_success.append(result['succ_avg_prob'])\n",
    "    return {\n",
    "        'eta_pairs': eta_pairs,\n",
    "        'p_success': p_success\n",
    "    }"
   ]
  },
  {
   "cell_type": "code",
   "execution_count": 21,
   "metadata": {},
   "outputs": [],
   "source": [
    "to_print = set_result_with_etas_and_psuccess(results)"
   ]
  },
  {
   "cell_type": "code",
   "execution_count": 22,
   "metadata": {},
   "outputs": [],
   "source": [
    "def set_result_with_initial_states_and_psuccess(results):\n",
    "    initial_states = []\n",
    "    p_success = []\n",
    "\n",
    "    for result in results:\n",
    "        initial_states.append(str(int(math.degrees(result['theta']))) + ' ' + str(int(math.degrees(result['phase']))))\n",
    "        p_success.append(result['succ_avg_prob'])\n",
    "    return {\n",
    "        'initial_states': initial_states,\n",
    "        'p_success': p_success\n",
    "    }"
   ]
  },
  {
   "cell_type": "code",
   "execution_count": 23,
   "metadata": {},
   "outputs": [],
   "source": [
    "to_print = set_result_with_initial_states_and_psuccess(results)"
   ]
  },
  {
   "cell_type": "code",
   "execution_count": 24,
   "metadata": {},
   "outputs": [],
   "source": [
    "def plot_scatter(X, Y, x_label):\n",
    "    fig = plt.figure(figsize=(15, 10))\n",
    "    fig.suptitle('Probability Analysis', fontsize=20)\n",
    "    ax1 = fig.add_subplot(1, 1, 1)\n",
    "    ax1.set_xlabel(x_label)\n",
    "    ax1.set_ylabel('Prob. Success')\n",
    "    ax1.scatter(X, Y)\n",
    "    plt.show()"
   ]
  },
  {
   "cell_type": "code",
   "execution_count": 25,
   "metadata": {},
   "outputs": [
    {
     "name": "stdout",
     "output_type": "stream",
     "text": [
      "Starting the execution\n",
      "execution with theta 0.0\n",
      "total minutes taken this theta:  0\n",
      "total minutes taken so far:  0\n",
      "execution with theta 0.7853981633974483\n",
      "total minutes taken this theta:  0\n",
      "total minutes taken so far:  0\n",
      "execution with theta 1.5707963267948966\n",
      "total minutes taken this theta:  0\n",
      "total minutes taken so far:  0\n",
      "execution with theta 2.356194490192345\n",
      "total minutes taken this theta:  0\n",
      "total minutes taken so far:  0\n",
      "execution with theta 3.141592653589793\n",
      "total minutes taken this theta:  0\n",
      "total minutes taken so far:  0\n",
      "total minutes of execution time:  0\n",
      "All guesses have been calculated\n",
      "Total executions: 25 \n"
     ]
    }
   ],
   "source": [
    "points_theta=5\n",
    "points_phase=5\n",
    "list_theta = np.mgrid[0:pi:points_theta * 1j]\n",
    "list_phase = np.mgrid[0:2 * pi:points_phase * 1j]\n",
    "list_eta = [0]\n",
    "list_phi_rx = [0]\n",
    "list_phi_ry = [0]\n",
    "\n",
    "global_configuration = {\n",
    "    'list_theta': list_theta,\n",
    "    'list_phase': list_phase,\n",
    "    'list_phi_rx': list_phi_rx,\n",
    "    'list_phi_ry': list_phi_ry,\n",
    "    'list_eta': list_eta,\n",
    "}\n",
    "\n",
    "backend = Aer.get_backend('qasm_simulator')\n",
    "plays = 10\n",
    "simulation_iterations = 1024\n",
    "results = play_and_guess(global_configuration, backend, plays, simulation_iterations)"
   ]
  },
  {
   "cell_type": "code",
   "execution_count": 26,
   "metadata": {},
   "outputs": [
    {
     "data": {
      "image/png": "[encoded data removed]",
      "text/plain": [
       "<Figure size 1080x720 with 1 Axes>"
      ]
     },
     "metadata": {
      "needs_background": "light"
     },
     "output_type": "display_data"
    }
   ],
   "source": [
    "to_print = set_result_with_initial_states_and_psuccess(results)\n",
    "plot_scatter(to_print['initial_states'], to_print['p_success'], 'Input States')"
   ]
  },
  {
   "cell_type": "code",
   "execution_count": 27,
   "metadata": {},
   "outputs": [
    {
     "name": "stdout",
     "output_type": "stream",
     "text": [
      "Starting the execution\n",
      "execution with theta 0.0\n",
      "total minutes taken this theta:  0\n",
      "total minutes taken so far:  0\n",
      "execution with theta 0.7853981633974483\n",
      "total minutes taken this theta:  0\n",
      "total minutes taken so far:  0\n",
      "execution with theta 1.5707963267948966\n",
      "total minutes taken this theta:  0\n",
      "total minutes taken so far:  0\n",
      "execution with theta 2.356194490192345\n",
      "total minutes taken this theta:  0\n",
      "total minutes taken so far:  0\n",
      "execution with theta 3.141592653589793\n",
      "total minutes taken this theta:  0\n",
      "total minutes taken so far:  0\n",
      "total minutes of execution time:  0\n",
      "All guesses have been calculated\n",
      "Total executions: 25 \n"
     ]
    }
   ],
   "source": [
    "points_theta=5\n",
    "points_phase=5\n",
    "list_theta = np.mgrid[0:pi:points_theta * 1j]\n",
    "list_phase = np.mgrid[0:2 * pi:points_phase * 1j]\n",
    "list_eta = [0, pi/4/2]\n",
    "list_phi_rx = [0]\n",
    "list_phi_ry = [0]\n",
    "\n",
    "global_configuration = {\n",
    "    'list_theta': list_theta,\n",
    "    'list_phase': list_phase,\n",
    "    'list_phi_rx': list_phi_rx,\n",
    "    'list_phi_ry': list_phi_ry,\n",
    "    'list_eta': list_eta,\n",
    "}\n",
    "\n",
    "backend = Aer.get_backend('qasm_simulator')\n",
    "plays = 10\n",
    "simulation_iterations = 1024\n",
    "results = play_and_guess(global_configuration, backend, plays, simulation_iterations)"
   ]
  },
  {
   "cell_type": "code",
   "execution_count": 28,
   "metadata": {},
   "outputs": [
    {
     "data": {
      "image/png": "[encoded data removed]",
      "text/plain": [
       "<Figure size 1080x720 with 1 Axes>"
      ]
     },
     "metadata": {
      "needs_background": "light"
     },
     "output_type": "display_data"
    }
   ],
   "source": [
    "to_print = set_result_with_initial_states_and_psuccess(results)\n",
    "plot_scatter(to_print['initial_states'], to_print['p_success'], 'Input States')"
   ]
  },
  {
   "cell_type": "code",
   "execution_count": null,
   "metadata": {},
   "outputs": [],
   "source": []
  }
 ],
 "metadata": {
  "kernelspec": {
   "display_name": "Python 3",
   "language": "python",
   "name": "python3"
  },
  "language_info": {
   "codemirror_mode": {
    "name": "ipython",
    "version": 3
   },
   "file_extension": ".py",
   "mimetype": "text/x-python",
   "name": "python",
   "nbconvert_exporter": "python",
   "pygments_lexer": "ipython3",
   "version": "3.8.3"
  }
 },
 "nbformat": 4,
 "nbformat_minor": 2
}
