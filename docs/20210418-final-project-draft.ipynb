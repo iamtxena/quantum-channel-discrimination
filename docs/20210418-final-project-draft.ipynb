{
 "cells": [
  {
   "cell_type": "markdown",
   "id": "natural-negotiation",
   "metadata": {
    "toc": true
   },
   "source": [
    "<h1>Table of Contents<span class=\"tocSkip\"></span></h1>\n",
    "<div class=\"toc\"><ul class=\"toc-item\"><li><span><a href=\"#Introduction-and-motivation\" data-toc-modified-id=\"Introduction-and-motivation-1\"><span class=\"toc-item-num\">1&nbsp;&nbsp;</span>Introduction and motivation</a></span></li><li><span><a href=\"#Description-of-the-problem-and-possible-approaches\" data-toc-modified-id=\"Description-of-the-problem-and-possible-approaches-2\"><span class=\"toc-item-num\">2&nbsp;&nbsp;</span>Description of the problem and possible approaches</a></span></li><li><span><a href=\"#Applied-methods-and-results\" data-toc-modified-id=\"Applied-methods-and-results-3\"><span class=\"toc-item-num\">3&nbsp;&nbsp;</span>Applied methods and results</a></span></li><li><span><a href=\"#Conclusions-and-possible-improvements\" data-toc-modified-id=\"Conclusions-and-possible-improvements-4\"><span class=\"toc-item-num\">4&nbsp;&nbsp;</span>Conclusions and possible improvements</a></span></li><li><span><a href=\"#References\" data-toc-modified-id=\"References-5\"><span class=\"toc-item-num\">5&nbsp;&nbsp;</span>References</a></span></li></ul></div>"
   ]
  },
  {
   "cell_type": "markdown",
   "id": "flush-courtesy",
   "metadata": {},
   "source": [
    "# UPC Quantum Engineering Final Project: Quantum Channel Discrimination\n",
    "\n",
    "**Mentor: Matteo Rosati**\n",
    "\n",
    "**Mentees: Jesús Huerta,Albert Solana**\n",
    "\n",
    "Date: April 2021\n",
    "\n",
    "Draft version"
   ]
  },
  {
   "cell_type": "markdown",
   "id": "polished-cisco",
   "metadata": {},
   "source": [
    "## Introduction and motivation"
   ]
  },
  {
   "cell_type": "code",
   "execution_count": null,
   "id": "indirect-victoria",
   "metadata": {},
   "outputs": [],
   "source": []
  },
  {
   "cell_type": "markdown",
   "id": "faced-january",
   "metadata": {},
   "source": [
    "## Description of the problem and possible approaches"
   ]
  },
  {
   "cell_type": "code",
   "execution_count": null,
   "id": "combined-houston",
   "metadata": {},
   "outputs": [],
   "source": []
  },
  {
   "cell_type": "markdown",
   "id": "primary-soccer",
   "metadata": {},
   "source": [
    "## Applied methods and results"
   ]
  },
  {
   "cell_type": "code",
   "execution_count": null,
   "id": "gentle-parts",
   "metadata": {},
   "outputs": [],
   "source": []
  },
  {
   "cell_type": "markdown",
   "id": "rational-offering",
   "metadata": {},
   "source": [
    "## Conclusions and possible improvements"
   ]
  },
  {
   "cell_type": "code",
   "execution_count": null,
   "id": "numerical-fleet",
   "metadata": {},
   "outputs": [],
   "source": []
  },
  {
   "cell_type": "markdown",
   "id": "scientific-language",
   "metadata": {},
   "source": [
    "## References"
   ]
  },
  {
   "cell_type": "markdown",
   "id": "engaged-nancy",
   "metadata": {},
   "source": [
    "- Nielsen&Chuang\n",
    "- Discriminating qubit amplitude damping channels [arXiv:2009.01000](https://arxiv.org/abs/2009.01000)\n",
    "- Quantum-enhanced barcode decoding and pattern recognition [arXiv:2010.03594](https://arxiv.org/abs/2010.03594)"
   ]
  },
  {
   "cell_type": "code",
   "execution_count": null,
   "id": "applied-radiation",
   "metadata": {},
   "outputs": [],
   "source": []
  }
 ],
 "metadata": {
  "kernelspec": {
   "display_name": "Python 3",
   "language": "python",
   "name": "python3"
  },
  "language_info": {
   "codemirror_mode": {
    "name": "ipython",
    "version": 3
   },
   "file_extension": ".py",
   "mimetype": "text/x-python",
   "name": "python",
   "nbconvert_exporter": "python",
   "pygments_lexer": "ipython3",
   "version": "3.8.3"
  },
  "toc": {
   "base_numbering": 1,
   "nav_menu": {},
   "number_sections": true,
   "sideBar": true,
   "skip_h1_title": true,
   "title_cell": "Table of Contents",
   "title_sidebar": "Contents",
   "toc_cell": true,
   "toc_position": {},
   "toc_section_display": true,
   "toc_window_display": false
  }
 },
 "nbformat": 4,
 "nbformat_minor": 5
}
