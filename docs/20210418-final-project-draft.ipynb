{
 "cells": [
  {
   "cell_type": "markdown",
   "id": "nuclear-shade",
   "metadata": {
    "toc": true
   },
   "source": [
    "<h1>Table of Contents<span class=\"tocSkip\"></span></h1>\n",
    "<div class=\"toc\"><ul class=\"toc-item\"><li><span><a href=\"#Introduction-and-motivation\" data-toc-modified-id=\"Introduction-and-motivation-1\"><span class=\"toc-item-num\">1&nbsp;&nbsp;</span>Introduction and motivation</a></span></li><li><span><a href=\"#Description-of-the-problem-and-possible-approaches\" data-toc-modified-id=\"Description-of-the-problem-and-possible-approaches-2\"><span class=\"toc-item-num\">2&nbsp;&nbsp;</span>Description of the problem and possible approaches</a></span><ul class=\"toc-item\"><li><span><a href=\"#Description-of-the-problem\" data-toc-modified-id=\"Description-of-the-problem-2.1\"><span class=\"toc-item-num\">2.1&nbsp;&nbsp;</span>Description of the problem</a></span></li><li><span><a href=\"#Possible-approaches\" data-toc-modified-id=\"Possible-approaches-2.2\"><span class=\"toc-item-num\">2.2&nbsp;&nbsp;</span>Possible approaches</a></span></li></ul></li><li><span><a href=\"#Applied-methods-and-results\" data-toc-modified-id=\"Applied-methods-and-results-3\"><span class=\"toc-item-num\">3&nbsp;&nbsp;</span>Applied methods and results</a></span><ul class=\"toc-item\"><li><span><a href=\"#One-Shot-Two-Channel-Discrimination:-One-Qubit-Base-Stragegy\" data-toc-modified-id=\"One-Shot-Two-Channel-Discrimination:-One-Qubit-Base-Stragegy-3.1\"><span class=\"toc-item-num\">3.1&nbsp;&nbsp;</span>One-Shot Two Channel Discrimination: One Qubit Base Stragegy</a></span><ul class=\"toc-item\"><li><span><a href=\"#Quantum-Amplitude-Damping-Channel:-General-Channel-Description\" data-toc-modified-id=\"Quantum-Amplitude-Damping-Channel:-General-Channel-Description-3.1.1\"><span class=\"toc-item-num\">3.1.1&nbsp;&nbsp;</span>Quantum Amplitude Damping Channel: General Channel Description</a></span><ul class=\"toc-item\"><li><span><a href=\"#Circuit-Description\" data-toc-modified-id=\"Circuit-Description-3.1.1.1\"><span class=\"toc-item-num\">3.1.1.1&nbsp;&nbsp;</span>Circuit Description</a></span></li><li><span><a href=\"#Impact-on-a-given-qubit\" data-toc-modified-id=\"Impact-on-a-given-qubit-3.1.1.2\"><span class=\"toc-item-num\">3.1.1.2&nbsp;&nbsp;</span>Impact on a given qubit</a></span></li><li><span><a href=\"#Impact-on-the-Bloch-Sphere\" data-toc-modified-id=\"Impact-on-the-Bloch-Sphere-3.1.1.3\"><span class=\"toc-item-num\">3.1.1.3&nbsp;&nbsp;</span>Impact on the Bloch Sphere</a></span></li><li><span><a href=\"#Fidelity-Analysis\" data-toc-modified-id=\"Fidelity-Analysis-3.1.1.4\"><span class=\"toc-item-num\">3.1.1.4&nbsp;&nbsp;</span>Fidelity Analysis</a></span></li><li><span><a href=\"#Noise-Analysis-on-different-backends\" data-toc-modified-id=\"Noise-Analysis-on-different-backends-3.1.1.5\"><span class=\"toc-item-num\">3.1.1.5&nbsp;&nbsp;</span>Noise Analysis on different backends</a></span></li></ul></li><li><span><a href=\"#Finding-the-optimal-configuration-for-input-qubit-and-POVM\" data-toc-modified-id=\"Finding-the-optimal-configuration-for-input-qubit-and-POVM-3.1.2\"><span class=\"toc-item-num\">3.1.2&nbsp;&nbsp;</span>Finding the optimal configuration for input qubit and POVM</a></span><ul class=\"toc-item\"><li><span><a href=\"#Optimization-Description\" data-toc-modified-id=\"Optimization-Description-3.1.2.1\"><span class=\"toc-item-num\">3.1.2.1&nbsp;&nbsp;</span>Optimization Description</a></span></li><li><span><a href=\"#Optimization-Results-from-experiments\" data-toc-modified-id=\"Optimization-Results-from-experiments-3.1.2.2\"><span class=\"toc-item-num\">3.1.2.2&nbsp;&nbsp;</span>Optimization Results from experiments</a></span></li><li><span><a href=\"#Comparison-with-theoretical-values\" data-toc-modified-id=\"Comparison-with-theoretical-values-3.1.2.3\"><span class=\"toc-item-num\">3.1.2.3&nbsp;&nbsp;</span>Comparison with theoretical values</a></span></li></ul></li><li><span><a href=\"#Optimal-configuration-evaluation\" data-toc-modified-id=\"Optimal-configuration-evaluation-3.1.3\"><span class=\"toc-item-num\">3.1.3&nbsp;&nbsp;</span>Optimal configuration evaluation</a></span><ul class=\"toc-item\"><li><span><a href=\"#Process-description\" data-toc-modified-id=\"Process-description-3.1.3.1\"><span class=\"toc-item-num\">3.1.3.1&nbsp;&nbsp;</span>Process description</a></span></li><li><span><a href=\"#Evaluation-results\" data-toc-modified-id=\"Evaluation-results-3.1.3.2\"><span class=\"toc-item-num\">3.1.3.2&nbsp;&nbsp;</span>Evaluation results</a></span></li><li><span><a href=\"#Noise-Analysis-on-different-backends\" data-toc-modified-id=\"Noise-Analysis-on-different-backends-3.1.3.3\"><span class=\"toc-item-num\">3.1.3.3&nbsp;&nbsp;</span>Noise Analysis on different backends</a></span></li></ul></li></ul></li><li><span><a href=\"#One-Shot-Two-Channel-Discrimination:-Two-Entangled-Qubit-Base-Stragegy\" data-toc-modified-id=\"One-Shot-Two-Channel-Discrimination:-Two-Entangled-Qubit-Base-Stragegy-3.2\"><span class=\"toc-item-num\">3.2&nbsp;&nbsp;</span>One-Shot Two Channel Discrimination: Two-Entangled Qubit Base Stragegy</a></span><ul class=\"toc-item\"><li><span><a href=\"#Quantum-Amplitude-Damping-Channel-with-two-entangled-qubits:-General-Channel-Description\" data-toc-modified-id=\"Quantum-Amplitude-Damping-Channel-with-two-entangled-qubits:-General-Channel-Description-3.2.1\"><span class=\"toc-item-num\">3.2.1&nbsp;&nbsp;</span>Quantum Amplitude Damping Channel with two entangled qubits: General Channel Description</a></span><ul class=\"toc-item\"><li><span><a href=\"#Circuit-Description\" data-toc-modified-id=\"Circuit-Description-3.2.1.1\"><span class=\"toc-item-num\">3.2.1.1&nbsp;&nbsp;</span>Circuit Description</a></span></li></ul></li><li><span><a href=\"#Finding-the-optimal-configuration-for-input-qubits-and-POVM\" data-toc-modified-id=\"Finding-the-optimal-configuration-for-input-qubits-and-POVM-3.2.2\"><span class=\"toc-item-num\">3.2.2&nbsp;&nbsp;</span>Finding the optimal configuration for input qubits and POVM</a></span><ul class=\"toc-item\"><li><span><a href=\"#Optimization-Description\" data-toc-modified-id=\"Optimization-Description-3.2.2.1\"><span class=\"toc-item-num\">3.2.2.1&nbsp;&nbsp;</span>Optimization Description</a></span></li><li><span><a href=\"#Optimization-Results-from-experiments\" data-toc-modified-id=\"Optimization-Results-from-experiments-3.2.2.2\"><span class=\"toc-item-num\">3.2.2.2&nbsp;&nbsp;</span>Optimization Results from experiments</a></span></li><li><span><a href=\"#Comparison-with-theoretical-values\" data-toc-modified-id=\"Comparison-with-theoretical-values-3.2.2.3\"><span class=\"toc-item-num\">3.2.2.3&nbsp;&nbsp;</span>Comparison with theoretical values</a></span></li><li><span><a href=\"#Improvement-with-one-qubit-circuit\" data-toc-modified-id=\"Improvement-with-one-qubit-circuit-3.2.2.4\"><span class=\"toc-item-num\">3.2.2.4&nbsp;&nbsp;</span>Improvement with one qubit circuit</a></span></li></ul></li><li><span><a href=\"#Optimal-configuration-evaluation\" data-toc-modified-id=\"Optimal-configuration-evaluation-3.2.3\"><span class=\"toc-item-num\">3.2.3&nbsp;&nbsp;</span>Optimal configuration evaluation</a></span><ul class=\"toc-item\"><li><span><a href=\"#Process-description\" data-toc-modified-id=\"Process-description-3.2.3.1\"><span class=\"toc-item-num\">3.2.3.1&nbsp;&nbsp;</span>Process description</a></span></li><li><span><a href=\"#Evaluation-results\" data-toc-modified-id=\"Evaluation-results-3.2.3.2\"><span class=\"toc-item-num\">3.2.3.2&nbsp;&nbsp;</span>Evaluation results</a></span></li><li><span><a href=\"#Noise-Analysis-on-different-backends\" data-toc-modified-id=\"Noise-Analysis-on-different-backends-3.2.3.3\"><span class=\"toc-item-num\">3.2.3.3&nbsp;&nbsp;</span>Noise Analysis on different backends</a></span></li></ul></li></ul></li><li><span><a href=\"#One-Shot-Three-Channels-Discrimination:-Two-Entangled-Qubit-Base-Stragegy\" data-toc-modified-id=\"One-Shot-Three-Channels-Discrimination:-Two-Entangled-Qubit-Base-Stragegy-3.3\"><span class=\"toc-item-num\">3.3&nbsp;&nbsp;</span>One-Shot Three Channels Discrimination: Two-Entangled Qubit Base Stragegy</a></span><ul class=\"toc-item\"><li><span><a href=\"#Quantum-Amplitude-Damping-Channel-with-two-entangled-qubits-and-three-channels:-General-Channel-Description\" data-toc-modified-id=\"Quantum-Amplitude-Damping-Channel-with-two-entangled-qubits-and-three-channels:-General-Channel-Description-3.3.1\"><span class=\"toc-item-num\">3.3.1&nbsp;&nbsp;</span>Quantum Amplitude Damping Channel with two entangled qubits and three channels: General Channel Description</a></span><ul class=\"toc-item\"><li><span><a href=\"#Circuit-Description\" data-toc-modified-id=\"Circuit-Description-3.3.1.1\"><span class=\"toc-item-num\">3.3.1.1&nbsp;&nbsp;</span>Circuit Description</a></span></li></ul></li><li><span><a href=\"#Finding-the-optimal-configuration-for-input-qubits-and-POVM\" data-toc-modified-id=\"Finding-the-optimal-configuration-for-input-qubits-and-POVM-3.3.2\"><span class=\"toc-item-num\">3.3.2&nbsp;&nbsp;</span>Finding the optimal configuration for input qubits and POVM</a></span><ul class=\"toc-item\"><li><span><a href=\"#Optimization-Description\" data-toc-modified-id=\"Optimization-Description-3.3.2.1\"><span class=\"toc-item-num\">3.3.2.1&nbsp;&nbsp;</span>Optimization Description</a></span></li><li><span><a href=\"#Optimization-Results-from-experiments\" data-toc-modified-id=\"Optimization-Results-from-experiments-3.3.2.2\"><span class=\"toc-item-num\">3.3.2.2&nbsp;&nbsp;</span>Optimization Results from experiments</a></span></li><li><span><a href=\"#Fidelity-analysis\" data-toc-modified-id=\"Fidelity-analysis-3.3.2.3\"><span class=\"toc-item-num\">3.3.2.3&nbsp;&nbsp;</span>Fidelity analysis</a></span></li><li><span><a href=\"#Results-analysis-with-upper-and-lower-bounds\" data-toc-modified-id=\"Results-analysis-with-upper-and-lower-bounds-3.3.2.4\"><span class=\"toc-item-num\">3.3.2.4&nbsp;&nbsp;</span>Results analysis with upper and lower bounds</a></span></li></ul></li><li><span><a href=\"#Optimal-configuration-evaluation\" data-toc-modified-id=\"Optimal-configuration-evaluation-3.3.3\"><span class=\"toc-item-num\">3.3.3&nbsp;&nbsp;</span>Optimal configuration evaluation</a></span><ul class=\"toc-item\"><li><span><a href=\"#Process-description\" data-toc-modified-id=\"Process-description-3.3.3.1\"><span class=\"toc-item-num\">3.3.3.1&nbsp;&nbsp;</span>Process description</a></span></li><li><span><a href=\"#Evaluation-results\" data-toc-modified-id=\"Evaluation-results-3.3.3.2\"><span class=\"toc-item-num\">3.3.3.2&nbsp;&nbsp;</span>Evaluation results</a></span></li><li><span><a href=\"#Noise-Analysis-on-different-backends\" data-toc-modified-id=\"Noise-Analysis-on-different-backends-3.3.3.3\"><span class=\"toc-item-num\">3.3.3.3&nbsp;&nbsp;</span>Noise Analysis on different backends</a></span></li></ul></li></ul></li></ul></li><li><span><a href=\"#Conclusions-and-possible-improvements\" data-toc-modified-id=\"Conclusions-and-possible-improvements-4\"><span class=\"toc-item-num\">4&nbsp;&nbsp;</span>Conclusions and possible improvements</a></span><ul class=\"toc-item\"><li><span><a href=\"#Conclusions\" data-toc-modified-id=\"Conclusions-4.1\"><span class=\"toc-item-num\">4.1&nbsp;&nbsp;</span>Conclusions</a></span></li><li><span><a href=\"#Possible-Improvements\" data-toc-modified-id=\"Possible-Improvements-4.2\"><span class=\"toc-item-num\">4.2&nbsp;&nbsp;</span>Possible Improvements</a></span></li><li><span><a href=\"#Business-applications\" data-toc-modified-id=\"Business-applications-4.3\"><span class=\"toc-item-num\">4.3&nbsp;&nbsp;</span>Business applications</a></span></li></ul></li><li><span><a href=\"#References\" data-toc-modified-id=\"References-5\"><span class=\"toc-item-num\">5&nbsp;&nbsp;</span>References</a></span></li><li><span><a href=\"#Annex\" data-toc-modified-id=\"Annex-6\"><span class=\"toc-item-num\">6&nbsp;&nbsp;</span>Annex</a></span><ul class=\"toc-item\"><li><span><a href=\"#Extended-results-and-other-simulations-plots\" data-toc-modified-id=\"Extended-results-and-other-simulations-plots-6.1\"><span class=\"toc-item-num\">6.1&nbsp;&nbsp;</span>Extended results and other simulations plots</a></span></li></ul></li></ul></div>"
   ]
  },
  {
   "cell_type": "markdown",
   "id": "flush-courtesy",
   "metadata": {},
   "source": [
    "# UPC Quantum Engineering Final Project: Quantum Channel Discrimination\n",
    "\n",
    "**Mentor: Matteo Rosati**\n",
    "\n",
    "**Mentees: Jesús Huerta,Albert Solana**\n",
    "\n",
    "Date: April 2021\n",
    "\n",
    "Draft version"
   ]
  },
  {
   "cell_type": "markdown",
   "id": "ready-python",
   "metadata": {},
   "source": [
    "## Introduction and motivation"
   ]
  },
  {
   "cell_type": "markdown",
   "id": "smart-sphere",
   "metadata": {},
   "source": [
    "Question: what should go here? we should describe the problem on the next section... so I am not sure. something generic about the quantum channel discrimination state of art?"
   ]
  },
  {
   "cell_type": "markdown",
   "id": "internal-sweden",
   "metadata": {},
   "source": [
    "## Description of the problem and possible approaches"
   ]
  },
  {
   "cell_type": "markdown",
   "id": "hairy-species",
   "metadata": {},
   "source": [
    "### Description of the problem\n",
    "What we already explained on the latest checkpoint. \n",
    "* Quantum Amplitude Damping Channel discrimination introduction: what it is a Quantum Amplitude Damping Channel and what it is  a Quantum Damping Channel Discrimination problem\n",
    "* Explain that we are following the paper: Discriminating qubit amplitude damping channels, and compare the theoretical results from the paper with our experimental results.\n",
    "\n",
    "### Possible approaches\n",
    "* Several approaches described in the paper (briefly explain them), and we've decide to take only two: both one-shot discrimination, one qubit base strategy, and two-entangled qubit strategy\n",
    "* We've then taken another paper (Quantum-enhanced barcode decoding and pattern recognition) to extend the two-entangled qubit strategy and apply it to discriminate three different quantum damping channels\n",
    "* Describe that we've performed our experiments using an ideal Quantum Simulator, but also using a Quantum Simulator with simulated noise and an actual Quantum Computer from IBM."
   ]
  },
  {
   "cell_type": "markdown",
   "id": "painful-mount",
   "metadata": {},
   "source": [
    "## Applied methods and results"
   ]
  },
  {
   "cell_type": "markdown",
   "id": "dense-transparency",
   "metadata": {},
   "source": [
    "### One-Shot Two Channel Discrimination: One Qubit Base Stragegy\n",
    "#### Quantum Amplitude Damping Channel: General Channel Description\n",
    "##### Circuit Description\n",
    "##### Impact on a given qubit\n",
    "##### Impact on the Bloch Sphere\n",
    "##### Fidelity Analysis\n",
    "##### Noise Analysis on different backends\n",
    "#### Finding the optimal configuration for input qubit and POVM\n",
    "##### Optimization Description\n",
    "##### Optimization Results from experiments\n",
    "##### Comparison with theoretical values\n",
    "#### Optimal configuration evaluation\n",
    "##### Process description\n",
    "##### Evaluation results\n",
    "##### Noise Analysis on different backends\n",
    "### One-Shot Two Channel Discrimination: Two-Entangled Qubit Base Stragegy\n",
    "#### Quantum Amplitude Damping Channel with two entangled qubits: General Channel Description\n",
    "##### Circuit Description\n",
    "#### Finding the optimal configuration for input qubits and POVM\n",
    "##### Optimization Description\n",
    "##### Optimization Results from experiments\n",
    "##### Comparison with theoretical values\n",
    "##### Improvement with one qubit circuit\n",
    "#### Optimal configuration evaluation\n",
    "##### Process description\n",
    "##### Evaluation results\n",
    "##### Noise Analysis on different backends\n",
    "### One-Shot Three Channels Discrimination: Two-Entangled Qubit Base Stragegy\n",
    "#### Quantum Amplitude Damping Channel with two entangled qubits and three channels: General Channel Description\n",
    "##### Circuit Description\n",
    "#### Finding the optimal configuration for input qubits and POVM\n",
    "##### Optimization Description\n",
    "##### Optimization Results from experiments\n",
    "##### Fidelity analysis\n",
    "##### Results analysis with upper and lower bounds\n",
    "#### Optimal configuration evaluation\n",
    "##### Process description\n",
    "##### Evaluation results\n",
    "##### Noise Analysis on different backends"
   ]
  },
  {
   "cell_type": "markdown",
   "id": "pretty-circulation",
   "metadata": {},
   "source": [
    "## Conclusions and possible improvements"
   ]
  },
  {
   "cell_type": "markdown",
   "id": "headed-canberra",
   "metadata": {},
   "source": [
    "### Conclusions\n",
    "### Possible Improvements\n",
    "### Business applications"
   ]
  },
  {
   "cell_type": "markdown",
   "id": "perceived-cream",
   "metadata": {},
   "source": [
    "## References"
   ]
  },
  {
   "cell_type": "markdown",
   "id": "documented-garlic",
   "metadata": {},
   "source": [
    "- Nielsen&Chuang\n",
    "- Discriminating qubit amplitude damping channels [arXiv:2009.01000](https://arxiv.org/abs/2009.01000)\n",
    "- Quantum-enhanced barcode decoding and pattern recognition [arXiv:2010.03594](https://arxiv.org/abs/2010.03594)"
   ]
  },
  {
   "cell_type": "markdown",
   "id": "approved-anderson",
   "metadata": {},
   "source": [
    "## Annex\n",
    "### Extended results and other simulations plots"
   ]
  },
  {
   "cell_type": "code",
   "execution_count": null,
   "id": "reported-candy",
   "metadata": {},
   "outputs": [],
   "source": []
  }
 ],
 "metadata": {
  "kernelspec": {
   "display_name": "Python 3",
   "language": "python",
   "name": "python3"
  },
  "language_info": {
   "codemirror_mode": {
    "name": "ipython",
    "version": 3
   },
   "file_extension": ".py",
   "mimetype": "text/x-python",
   "name": "python",
   "nbconvert_exporter": "python",
   "pygments_lexer": "ipython3",
   "version": "3.8.3"
  },
  "toc": {
   "base_numbering": 1,
   "nav_menu": {},
   "number_sections": true,
   "sideBar": true,
   "skip_h1_title": true,
   "title_cell": "Table of Contents",
   "title_sidebar": "Contents",
   "toc_cell": true,
   "toc_position": {},
   "toc_section_display": true,
   "toc_window_display": false
  }
 },
 "nbformat": 4,
 "nbformat_minor": 5
}
