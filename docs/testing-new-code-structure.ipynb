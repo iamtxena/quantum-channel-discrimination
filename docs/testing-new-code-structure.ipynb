{
 "cells": [
  {
   "cell_type": "markdown",
   "id": "documented-austin",
   "metadata": {},
   "source": [
    "# Testing new structure "
   ]
  },
  {
   "cell_type": "code",
   "execution_count": 1,
   "id": "prompt-pilot",
   "metadata": {},
   "outputs": [],
   "source": [
    "import os,sys,inspect\n",
    "currentdir = os.path.dirname(os.path.abspath(inspect.getfile(inspect.currentframe())))\n",
    "parentdir = os.path.dirname(currentdir)\n",
    "sys.path.insert(0,parentdir) \n",
    "\n",
    "from qcd.dampingchannels import OneShotDampingChannel, DampingChannel\n",
    "from qcd.backends import SimulatorBackend, DeviceIBMQ\n",
    "from qcd.configurations import OneShotSetupConfiguration\n",
    "from qcd.optimizations import OptimizationSetup\n",
    "import numpy as np"
   ]
  },
  {
   "cell_type": "code",
   "execution_count": 12,
   "id": "accomplished-steam",
   "metadata": {},
   "outputs": [],
   "source": [
    "setup_configuration = {\n",
    "    'points_theta': 20,\n",
    "    'points_phase': 10,\n",
    "    'attenuation_factors': np.append(np.arange(0, 1, 0.1), 1),\n",
    "    'angles_rx': [0],\n",
    "    'angles_ry': [0],\n",
    "}"
   ]
  },
  {
   "cell_type": "code",
   "execution_count": 13,
   "id": "administrative-store",
   "metadata": {},
   "outputs": [],
   "source": [
    "channel = OneShotDampingChannel(backend = SimulatorBackend(),\n",
    "                                channel_setup_configuration = OneShotSetupConfiguration(setup_configuration))"
   ]
  },
  {
   "cell_type": "code",
   "execution_count": null,
   "id": "sacred-regular",
   "metadata": {},
   "outputs": [],
   "source": []
  }
 ],
 "metadata": {
  "kernelspec": {
   "display_name": "Python 3",
   "language": "python",
   "name": "python3"
  },
  "language_info": {
   "codemirror_mode": {
    "name": "ipython",
    "version": 3
   },
   "file_extension": ".py",
   "mimetype": "text/x-python",
   "name": "python",
   "nbconvert_exporter": "python",
   "pygments_lexer": "ipython3",
   "version": "3.8.3"
  }
 },
 "nbformat": 4,
 "nbformat_minor": 5
}
