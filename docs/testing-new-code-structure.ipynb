{
 "cells": [
  {
   "cell_type": "markdown",
   "id": "documented-austin",
   "metadata": {},
   "source": [
    "# Testing new structure "
   ]
  },
  {
   "cell_type": "code",
   "execution_count": 1,
   "id": "prompt-pilot",
   "metadata": {},
   "outputs": [],
   "source": [
    "import os,sys,inspect\n",
    "currentdir = os.path.dirname(os.path.abspath(inspect.getfile(inspect.currentframe())))\n",
    "parentdir = os.path.dirname(currentdir)\n",
    "sys.path.insert(0,parentdir) \n",
    "\n",
    "from qcd.dampingchannels import OneShotDampingChannel\n",
    "from qcd.backends import SimulatorBackend, DeviceIBMQ"
   ]
  },
  {
   "cell_type": "code",
   "execution_count": null,
   "id": "marked-mailing",
   "metadata": {},
   "outputs": [
    {
     "name": "stderr",
     "output_type": "stream",
     "text": [
      "/Users/albertsolana/opt/anaconda3/envs/my_env/lib/python3.8/site-packages/qiskit/providers/ibmq/ibmqfactory.py:192: UserWarning: Timestamps in IBMQ backend properties, jobs, and job results are all now in local time instead of UTC.\n",
      "  warnings.warn('Timestamps in IBMQ backend properties, jobs, and job results '\n"
     ]
    }
   ],
   "source": [
    "simulator_backend = SimulatorBackend()\n",
    "ibmq_backend = DeviceIBMQ()"
   ]
  },
  {
   "cell_type": "code",
   "execution_count": 3,
   "id": "heavy-australian",
   "metadata": {},
   "outputs": [
    {
     "data": {
      "text/plain": [
       "75"
      ]
     },
     "execution_count": 3,
     "metadata": {},
     "output_type": "execute_result"
    }
   ],
   "source": [
    "ibmq_backend.get_max_experiments()"
   ]
  },
  {
   "cell_type": "code",
   "execution_count": null,
   "id": "administrative-store",
   "metadata": {},
   "outputs": [],
   "source": [
    "one_shot_channel = OneShotDampingChannel().set_backend(backend=simulator_backend)"
   ]
  },
  {
   "cell_type": "code",
   "execution_count": null,
   "id": "tribal-property",
   "metadata": {},
   "outputs": [],
   "source": []
  }
 ],
 "metadata": {
  "kernelspec": {
   "display_name": "Python 3",
   "language": "python",
   "name": "python3"
  },
  "language_info": {
   "codemirror_mode": {
    "name": "ipython",
    "version": 3
   },
   "file_extension": ".py",
   "mimetype": "text/x-python",
   "name": "python",
   "nbconvert_exporter": "python",
   "pygments_lexer": "ipython3",
   "version": "3.8.3"
  }
 },
 "nbformat": 4,
 "nbformat_minor": 5
}
