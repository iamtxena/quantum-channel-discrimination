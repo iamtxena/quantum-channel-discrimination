{
 "cells": [
  {
   "cell_type": "markdown",
   "id": "seeing-desire",
   "metadata": {},
   "source": [
    "# Testing optimization"
   ]
  },
  {
   "cell_type": "code",
   "execution_count": 1,
   "id": "bizarre-length",
   "metadata": {},
   "outputs": [],
   "source": [
    "import os,sys,inspect\n",
    "currentdir = os.path.dirname(os.path.abspath(inspect.getfile(inspect.currentframe())))\n",
    "parentdir = os.path.dirname(currentdir)\n",
    "sys.path.insert(0,parentdir) \n",
    "\n",
    "from qcd.dampingchannels import OneShotDampingChannel, DampingChannel\n",
    "from qcd import OptimizationSetup\n",
    "import numpy as np\n",
    "from numpy import pi"
   ]
  },
  {
   "cell_type": "code",
   "execution_count": 2,
   "id": "forward-option",
   "metadata": {},
   "outputs": [],
   "source": [
    "channel = OneShotDampingChannel()"
   ]
  },
  {
   "cell_type": "code",
   "execution_count": 3,
   "id": "saving-messaging",
   "metadata": {},
   "outputs": [],
   "source": [
    "# optimizer_algorithms = ['CRS', 'DIRECT_L', 'DIRECT_L_RAND', 'ESCH', 'ISRES']\n",
    "# optimizer_iterations=[1000, 1000, 1000, 1000, 1000]\n",
    "# attenuation_factors = np.append(np.arange(0, 1, 0.5), 1)"
   ]
  },
  {
   "cell_type": "code",
   "execution_count": 4,
   "id": "prerequisite-inspection",
   "metadata": {},
   "outputs": [],
   "source": [
    "optimization_setup = OptimizationSetup(optimizer_algorithms=['ESCH'],\n",
    "                                        optimizer_iterations=[100],\n",
    "                                        attenuation_factors=np.append(np.arange(0, 1, 0.5), 1),\n",
    "                                        initial_parameters = [0, 0, 0],\n",
    "                                        variable_bounds = [(0, pi/2),   # theta\n",
    "                                                            (0, 2*pi),  # rx\n",
    "                                                            (0, 2*pi)], # ry\n",
    "                                        plays=100)"
   ]
  },
  {
   "cell_type": "code",
   "execution_count": 5,
   "id": "capable-dealing",
   "metadata": {},
   "outputs": [
    {
     "name": "stdout",
     "output_type": "stream",
     "text": [
      "eta_pairs: [(0.7853981633974484, 0.0), (1.5707963267948966, 0.0), (1.5707963267948966, 0.7853981633974484)]\n",
      "Starting the execution\n",
      "Analyzing Optimizer Algorithm:  ESCH\n",
      "optimizer result: (array([0.86404213, 3.40657395, 2.37586696]), 0.29000000000000004, 100)\n",
      "Best Average Probability: 0.71\n",
      "Final Best Optimizer Algorithm:  ESCH\n",
      "Final Best Average Probability: 0.71\n",
      "Number of cost function calls made: 100\n",
      "Parameters Found: θ = 49°, ϕrx = 195°, ϕry = 136°, η₀ = 0.7853981633974484, η₁ = 0.0\n",
      "total minutes taken this pair of etas:  1\n",
      "total minutes taken so far:  1\n",
      "Analyzing Optimizer Algorithm:  ESCH\n",
      "optimizer result: (array([1.3281748 , 3.37360545, 3.20294376]), 0.06000000000000005, 100)\n",
      "Best Average Probability: 0.94\n",
      "Final Best Optimizer Algorithm:  ESCH\n",
      "Final Best Average Probability: 0.94\n",
      "Number of cost function calls made: 100\n",
      "Parameters Found: θ = 76°, ϕrx = 193°, ϕry = 183°, η₀ = 1.5707963267948966, η₁ = 0.0\n",
      "total minutes taken this pair of etas:  1\n",
      "total minutes taken so far:  2\n",
      "Analyzing Optimizer Algorithm:  ESCH\n",
      "optimizer result: (array([0.87044404, 0.34204238, 0.63389039]), 0.24, 100)\n",
      "Best Average Probability: 0.76\n",
      "Final Best Optimizer Algorithm:  ESCH\n",
      "Final Best Average Probability: 0.76\n",
      "Number of cost function calls made: 100\n",
      "Parameters Found: θ = 49°, ϕrx = 19°, ϕry = 36°, η₀ = 1.5707963267948966, η₁ = 0.7853981633974484\n",
      "total minutes taken this pair of etas:  1\n",
      "total minutes taken so far:  3\n",
      "total minutes of execution time:  3\n",
      "All guesses have been calculated\n",
      "Total pair of etas tested: 3\n"
     ]
    }
   ],
   "source": [
    "results = channel.find_optimal_configurations(optimization_setup=optimization_setup)"
   ]
  },
  {
   "cell_type": "code",
   "execution_count": 6,
   "id": "stock-complex",
   "metadata": {},
   "outputs": [],
   "source": [
    "results.save_results_to_disk('20210330_oneshot', 'results/')"
   ]
  },
  {
   "cell_type": "code",
   "execution_count": null,
   "id": "vital-disposition",
   "metadata": {},
   "outputs": [],
   "source": []
  }
 ],
 "metadata": {
  "kernelspec": {
   "display_name": "Python 3",
   "language": "python",
   "name": "python3"
  },
  "language_info": {
   "codemirror_mode": {
    "name": "ipython",
    "version": 3
   },
   "file_extension": ".py",
   "mimetype": "text/x-python",
   "name": "python",
   "nbconvert_exporter": "python",
   "pygments_lexer": "ipython3",
   "version": "3.8.3"
  }
 },
 "nbformat": 4,
 "nbformat_minor": 5
}
