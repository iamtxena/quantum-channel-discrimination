{
 "cells": [
  {
   "cell_type": "markdown",
   "id": "seeing-desire",
   "metadata": {},
   "source": [
    "# Testing optimization"
   ]
  },
  {
   "cell_type": "code",
   "execution_count": 1,
   "id": "bizarre-length",
   "metadata": {},
   "outputs": [
    {
     "ename": "ImportError",
     "evalue": "cannot import name 'OptimizationResults' from partially initialized module 'qcd.optimizations' (most likely due to a circular import) (/Users/albertsolana/sandbox/01.upc-quantum/quantum-channel-discrimination/qcd/optimizations/__init__.py)",
     "output_type": "error",
     "traceback": [
      "\u001b[0;31m---------------------------------------------------------------------------\u001b[0m",
      "\u001b[0;31mImportError\u001b[0m                               Traceback (most recent call last)",
      "\u001b[0;32m<ipython-input-1-b4e02e2ac0db>\u001b[0m in \u001b[0;36m<module>\u001b[0;34m\u001b[0m\n\u001b[1;32m      4\u001b[0m \u001b[0msys\u001b[0m\u001b[0;34m.\u001b[0m\u001b[0mpath\u001b[0m\u001b[0;34m.\u001b[0m\u001b[0minsert\u001b[0m\u001b[0;34m(\u001b[0m\u001b[0;36m0\u001b[0m\u001b[0;34m,\u001b[0m\u001b[0mparentdir\u001b[0m\u001b[0;34m)\u001b[0m\u001b[0;34m\u001b[0m\u001b[0;34m\u001b[0m\u001b[0m\n\u001b[1;32m      5\u001b[0m \u001b[0;34m\u001b[0m\u001b[0m\n\u001b[0;32m----> 6\u001b[0;31m \u001b[0;32mfrom\u001b[0m \u001b[0mqcd\u001b[0m\u001b[0;34m.\u001b[0m\u001b[0mdampingchannels\u001b[0m \u001b[0;32mimport\u001b[0m \u001b[0mOneShotDampingChannel\u001b[0m\u001b[0;34m,\u001b[0m \u001b[0mDampingChannel\u001b[0m\u001b[0;34m\u001b[0m\u001b[0;34m\u001b[0m\u001b[0m\n\u001b[0m\u001b[1;32m      7\u001b[0m \u001b[0;32mimport\u001b[0m \u001b[0mnumpy\u001b[0m \u001b[0;32mas\u001b[0m \u001b[0mnp\u001b[0m\u001b[0;34m\u001b[0m\u001b[0;34m\u001b[0m\u001b[0m\n",
      "\u001b[0;32m~/sandbox/01.upc-quantum/quantum-channel-discrimination/qcd/dampingchannels/__init__.py\u001b[0m in \u001b[0;36m<module>\u001b[0;34m\u001b[0m\n\u001b[1;32m      1\u001b[0m \u001b[0;34m\"\"\" Quantum Damping Channels \"\"\"\u001b[0m\u001b[0;34m\u001b[0m\u001b[0;34m\u001b[0m\u001b[0m\n\u001b[1;32m      2\u001b[0m \u001b[0;34m\u001b[0m\u001b[0m\n\u001b[0;32m----> 3\u001b[0;31m \u001b[0;32mfrom\u001b[0m \u001b[0;34m.\u001b[0m\u001b[0mdampingchannel\u001b[0m \u001b[0;32mimport\u001b[0m \u001b[0mDampingChannel\u001b[0m\u001b[0;34m\u001b[0m\u001b[0;34m\u001b[0m\u001b[0m\n\u001b[0m\u001b[1;32m      4\u001b[0m \u001b[0;32mfrom\u001b[0m \u001b[0;34m.\u001b[0m\u001b[0moneshotbasechannel\u001b[0m \u001b[0;32mimport\u001b[0m \u001b[0mOneShotDampingChannel\u001b[0m\u001b[0;34m,\u001b[0m \u001b[0mResultStatesReshaped\u001b[0m\u001b[0;34m\u001b[0m\u001b[0;34m\u001b[0m\u001b[0m\n",
      "\u001b[0;32m~/sandbox/01.upc-quantum/quantum-channel-discrimination/qcd/dampingchannels/dampingchannel.py\u001b[0m in \u001b[0;36m<module>\u001b[0;34m\u001b[0m\n\u001b[1;32m      4\u001b[0m \u001b[0;32mfrom\u001b[0m \u001b[0;34m.\u001b[0m\u001b[0;34m.\u001b[0m\u001b[0mconfigurations\u001b[0m \u001b[0;32mimport\u001b[0m \u001b[0mSetupConfiguration\u001b[0m\u001b[0;34m\u001b[0m\u001b[0;34m\u001b[0m\u001b[0m\n\u001b[1;32m      5\u001b[0m \u001b[0;32mfrom\u001b[0m \u001b[0;34m.\u001b[0m\u001b[0;34m.\u001b[0m\u001b[0mexecutions\u001b[0m \u001b[0;32mimport\u001b[0m \u001b[0mExecution\u001b[0m\u001b[0;34m\u001b[0m\u001b[0;34m\u001b[0m\u001b[0m\n\u001b[0;32m----> 6\u001b[0;31m \u001b[0;32mfrom\u001b[0m \u001b[0;34m.\u001b[0m\u001b[0;34m.\u001b[0m\u001b[0moptimizations\u001b[0m \u001b[0;32mimport\u001b[0m \u001b[0mOptimizationResults\u001b[0m\u001b[0;34m\u001b[0m\u001b[0;34m\u001b[0m\u001b[0m\n\u001b[0m\u001b[1;32m      7\u001b[0m \u001b[0;32mfrom\u001b[0m \u001b[0;34m.\u001b[0m\u001b[0;34m.\u001b[0m\u001b[0mtypings\u001b[0m \u001b[0;32mimport\u001b[0m \u001b[0mOptimizationSetup\u001b[0m\u001b[0;34m\u001b[0m\u001b[0;34m\u001b[0m\u001b[0m\n\u001b[1;32m      8\u001b[0m \u001b[0;34m\u001b[0m\u001b[0m\n",
      "\u001b[0;32m~/sandbox/01.upc-quantum/quantum-channel-discrimination/qcd/optimizations/__init__.py\u001b[0m in \u001b[0;36m<module>\u001b[0;34m\u001b[0m\n\u001b[1;32m      1\u001b[0m \u001b[0;34m\"\"\" Optimization classes \"\"\"\u001b[0m\u001b[0;34m\u001b[0m\u001b[0;34m\u001b[0m\u001b[0m\n\u001b[1;32m      2\u001b[0m \u001b[0;34m\u001b[0m\u001b[0m\n\u001b[0;32m----> 3\u001b[0;31m \u001b[0;32mfrom\u001b[0m \u001b[0;34m.\u001b[0m\u001b[0moptimization\u001b[0m \u001b[0;32mimport\u001b[0m \u001b[0mOptimization\u001b[0m\u001b[0;34m\u001b[0m\u001b[0;34m\u001b[0m\u001b[0m\n\u001b[0m\u001b[1;32m      4\u001b[0m \u001b[0;32mfrom\u001b[0m \u001b[0;34m.\u001b[0m\u001b[0moneshotoptimization\u001b[0m \u001b[0;32mimport\u001b[0m \u001b[0mOneShotOptimization\u001b[0m\u001b[0;34m\u001b[0m\u001b[0;34m\u001b[0m\u001b[0m\n\u001b[1;32m      5\u001b[0m \u001b[0;32mfrom\u001b[0m \u001b[0;34m.\u001b[0m\u001b[0moptimizationresults\u001b[0m \u001b[0;32mimport\u001b[0m \u001b[0mOptimizationResults\u001b[0m\u001b[0;34m\u001b[0m\u001b[0;34m\u001b[0m\u001b[0m\n",
      "\u001b[0;32m~/sandbox/01.upc-quantum/quantum-channel-discrimination/qcd/optimizations/optimization.py\u001b[0m in \u001b[0;36m<module>\u001b[0;34m\u001b[0m\n\u001b[1;32m      1\u001b[0m \u001b[0;32mfrom\u001b[0m \u001b[0mabc\u001b[0m \u001b[0;32mimport\u001b[0m \u001b[0mABC\u001b[0m\u001b[0;34m,\u001b[0m \u001b[0mabstractmethod\u001b[0m\u001b[0;34m\u001b[0m\u001b[0;34m\u001b[0m\u001b[0m\n\u001b[1;32m      2\u001b[0m \u001b[0;32mfrom\u001b[0m \u001b[0mtyping\u001b[0m \u001b[0;32mimport\u001b[0m \u001b[0mList\u001b[0m\u001b[0;34m,\u001b[0m \u001b[0mTuple\u001b[0m\u001b[0;34m\u001b[0m\u001b[0;34m\u001b[0m\u001b[0m\n\u001b[0;32m----> 3\u001b[0;31m \u001b[0;32mfrom\u001b[0m \u001b[0;34m.\u001b[0m\u001b[0;34m.\u001b[0m\u001b[0moptimizations\u001b[0m \u001b[0;32mimport\u001b[0m \u001b[0mOptimizationResults\u001b[0m\u001b[0;34m\u001b[0m\u001b[0;34m\u001b[0m\u001b[0m\n\u001b[0m\u001b[1;32m      4\u001b[0m \u001b[0;32mfrom\u001b[0m \u001b[0;34m.\u001b[0m\u001b[0;34m.\u001b[0m\u001b[0mtypings\u001b[0m \u001b[0;32mimport\u001b[0m \u001b[0mOptimizationSetup\u001b[0m\u001b[0;34m,\u001b[0m \u001b[0mOptimalConfigurations\u001b[0m\u001b[0;34m\u001b[0m\u001b[0;34m\u001b[0m\u001b[0m\n\u001b[1;32m      5\u001b[0m \u001b[0;32mimport\u001b[0m \u001b[0mitertools\u001b[0m\u001b[0;34m\u001b[0m\u001b[0;34m\u001b[0m\u001b[0m\n",
      "\u001b[0;31mImportError\u001b[0m: cannot import name 'OptimizationResults' from partially initialized module 'qcd.optimizations' (most likely due to a circular import) (/Users/albertsolana/sandbox/01.upc-quantum/quantum-channel-discrimination/qcd/optimizations/__init__.py)"
     ]
    }
   ],
   "source": [
    "import os,sys,inspect\n",
    "currentdir = os.path.dirname(os.path.abspath(inspect.getfile(inspect.currentframe())))\n",
    "parentdir = os.path.dirname(currentdir)\n",
    "sys.path.insert(0,parentdir) \n",
    "\n",
    "from qcd.dampingchannels import OneShotDampingChannel, DampingChannel\n",
    "from qcd import OptimizationSetup\n",
    "import numpy as np"
   ]
  },
  {
   "cell_type": "code",
   "execution_count": null,
   "id": "forward-option",
   "metadata": {},
   "outputs": [],
   "source": [
    "channel = OneShotDampingChannel()"
   ]
  },
  {
   "cell_type": "code",
   "execution_count": null,
   "id": "experimental-cricket",
   "metadata": {},
   "outputs": [],
   "source": [
    "# optimizer_algorithms = ['CRS', 'DIRECT_L', 'DIRECT_L_RAND', 'ESCH', 'ISRES']\n",
    "# optimizer_iterations=[1000, 1000, 1000, 1000, 1000]\n",
    "# attenuation_factors = np.append(np.arange(0, 1, 0.5), 1)"
   ]
  },
  {
   "cell_type": "code",
   "execution_count": null,
   "id": "signed-course",
   "metadata": {},
   "outputs": [],
   "source": [
    "optimization_setup = OptimizationSetup(optimizer_algorithms=['DIRECT_L'],\n",
    "                                        optimizer_iterations=[1000],\n",
    "                                        attenuation_factors=[np.append(np.arange(0, 1, 0.5), 1)],\n",
    "                                        initial_parameters = [0, 0, 0, 0],\n",
    "                                        variable_bounds = [\n",
    "                                                            (0, pi/2), # theta\n",
    "                                                            (0, 2*pi), # phase\n",
    "                                                            (0, 2*pi), # rx\n",
    "                                                            (0, 2*pi)  # ry\n",
    "                                                            ],\n",
    "                                        plays=100)"
   ]
  },
  {
   "cell_type": "code",
   "execution_count": null,
   "id": "timely-posting",
   "metadata": {},
   "outputs": [],
   "source": []
  },
  {
   "cell_type": "code",
   "execution_count": null,
   "id": "passive-thirty",
   "metadata": {},
   "outputs": [],
   "source": []
  }
 ],
 "metadata": {
  "kernelspec": {
   "display_name": "Python 3",
   "language": "python",
   "name": "python3"
  },
  "language_info": {
   "codemirror_mode": {
    "name": "ipython",
    "version": 3
   },
   "file_extension": ".py",
   "mimetype": "text/x-python",
   "name": "python",
   "nbconvert_exporter": "python",
   "pygments_lexer": "ipython3",
   "version": "3.8.3"
  }
 },
 "nbformat": 4,
 "nbformat_minor": 5
}
