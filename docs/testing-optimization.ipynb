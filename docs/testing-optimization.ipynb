{
 "cells": [
  {
   "cell_type": "markdown",
   "id": "seeing-desire",
   "metadata": {},
   "source": [
    "# Testing optimization"
   ]
  },
  {
   "cell_type": "code",
   "execution_count": 1,
   "id": "bizarre-length",
   "metadata": {},
   "outputs": [],
   "source": [
    "import os,sys,inspect\n",
    "currentdir = os.path.dirname(os.path.abspath(inspect.getfile(inspect.currentframe())))\n",
    "parentdir = os.path.dirname(currentdir)\n",
    "sys.path.insert(0,parentdir) \n",
    "\n",
    "from qcd.dampingchannels import OneShotDampingChannel, DampingChannel\n",
    "from qcd import OptimizationSetup\n",
    "import numpy as np\n",
    "from numpy import pi"
   ]
  },
  {
   "cell_type": "code",
   "execution_count": 2,
   "id": "forward-option",
   "metadata": {},
   "outputs": [],
   "source": [
    "channel = OneShotDampingChannel()"
   ]
  },
  {
   "cell_type": "code",
   "execution_count": 3,
   "id": "saving-messaging",
   "metadata": {},
   "outputs": [],
   "source": [
    "# optimizer_algorithms = ['CRS', 'DIRECT_L', 'DIRECT_L_RAND', 'ESCH', 'ISRES']\n",
    "# optimizer_iterations=[1000, 1000, 1000, 1000, 1000]\n",
    "# attenuation_factors = np.append(np.arange(0, 1, 0.5), 1)"
   ]
  },
  {
   "cell_type": "code",
   "execution_count": 4,
   "id": "prerequisite-inspection",
   "metadata": {},
   "outputs": [],
   "source": [
    "optimization_setup = OptimizationSetup(optimizer_algorithms=['ESCH'],\n",
    "                                        optimizer_iterations=[1000],\n",
    "                                        attenuation_factors=np.append(np.arange(0, 1, 0.5), 1),\n",
    "                                        initial_parameters = [0, 0, 0, 0],\n",
    "                                        variable_bounds = [\n",
    "                                                            (0, pi/2), # theta\n",
    "                                                            (0, 2*pi), # phase\n",
    "                                                            (0, 2*pi), # rx\n",
    "                                                            (0, 2*pi)  # ry\n",
    "                                                            ],\n",
    "                                        plays=100)"
   ]
  },
  {
   "cell_type": "code",
   "execution_count": 5,
   "id": "capable-dealing",
   "metadata": {},
   "outputs": [
    {
     "name": "stdout",
     "output_type": "stream",
     "text": [
      "Starting the execution\n",
      "Analyzing Optimizer Algorithm:  ESCH\n",
      "Best Average Probability: 0.84\n",
      "Final Best Optimizer Algorithm:  ESCH\n",
      "Final Best Average Probability: 0.84\n",
      "Number of cost function calls made: 1000\n",
      "Parameters Found: θ = 65°, Phase = 189°, ϕrx = 183°, ϕry = 10°, λ₀ = 0.0, λ₁ = 0.5\n",
      "total minutes taken this pair of lambdas:  8\n",
      "total minutes taken so far:  8\n",
      "Analyzing Optimizer Algorithm:  ESCH\n",
      "Best Average Probability: 1.0\n",
      "Final Best Optimizer Algorithm:  ESCH\n",
      "Final Best Average Probability: 1.0\n",
      "Number of cost function calls made: 1000\n",
      "Parameters Found: θ = 89°, Phase = 7°, ϕrx = 191°, ϕry = 1°, λ₀ = 0.0, λ₁ = 1.0\n",
      "total minutes taken this pair of lambdas:  8\n",
      "total minutes taken so far:  16\n",
      "Analyzing Optimizer Algorithm:  ESCH\n",
      "Best Average Probability: 0.85\n",
      "Final Best Optimizer Algorithm:  ESCH\n",
      "Final Best Average Probability: 0.85\n",
      "Number of cost function calls made: 1000\n",
      "Parameters Found: θ = 81°, Phase = 196°, ϕrx = 12°, ϕry = 190°, λ₀ = 0.5, λ₁ = 1.0\n",
      "total minutes taken this pair of lambdas:  8\n",
      "total minutes taken so far:  24\n",
      "total minutes of execution time:  24\n",
      "All guesses have been calculated\n",
      "Total pair of lambdas tested: 3\n"
     ]
    }
   ],
   "source": [
    "results = channel.find_optimal_configurations(optimization_setup=optimization_setup)"
   ]
  },
  {
   "cell_type": "code",
   "execution_count": 6,
   "id": "stock-complex",
   "metadata": {},
   "outputs": [],
   "source": [
    "results.save_results_to_disk('20210330_oneshot')"
   ]
  },
  {
   "cell_type": "code",
   "execution_count": null,
   "id": "interior-comedy",
   "metadata": {},
   "outputs": [],
   "source": []
  }
 ],
 "metadata": {
  "kernelspec": {
   "display_name": "Python 3",
   "language": "python",
   "name": "python3"
  },
  "language_info": {
   "codemirror_mode": {
    "name": "ipython",
    "version": 3
   },
   "file_extension": ".py",
   "mimetype": "text/x-python",
   "name": "python",
   "nbconvert_exporter": "python",
   "pygments_lexer": "ipython3",
   "version": "3.8.3"
  }
 },
 "nbformat": 4,
 "nbformat_minor": 5
}
